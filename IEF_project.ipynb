{
 "cells": [
  {
   "cell_type": "markdown",
   "metadata": {
    "id": "fvdOnEldd5Fm"
   },
   "source": [
    "# Project 3"
   ]
  },
  {
   "cell_type": "markdown",
   "metadata": {
    "id": "J18SLgtRd5Ft"
   },
   "source": [
    "## Minimum Spanning Tree"
   ]
  },
  {
   "cell_type": "markdown",
   "metadata": {
    "id": "xMCHUaHUd5Fu"
   },
   "source": [
    "### Strategy 1"
   ]
  },
  {
   "cell_type": "markdown",
   "metadata": {
    "id": "oyT4AT0zd5Fu"
   },
   "source": [
    "### Question 1\n",
    "\n",
    "Start with all the assets available in the Investment Funnel for the entire period. Divide this period into half, where the first half is used for training and the second half for testing.\n",
    "\n",
    "Now calculate the Sharpe Ratio for all the assets for the first half (the training set)."
   ]
  },
  {
   "cell_type": "code",
   "execution_count": 1,
   "metadata": {
    "id": "y2nVxNubd5Fv"
   },
   "outputs": [],
   "source": [
    "import pandas as pd\n",
    "import numpy as np\n",
    "import matplotlib.pyplot as plt\n",
    "%matplotlib inline"
   ]
  },
  {
   "cell_type": "code",
   "execution_count": 2,
   "metadata": {
    "id": "26S58bfKd5Fx"
   },
   "outputs": [],
   "source": [
    "df = pd.read_excel(\"data.xlsx\")"
   ]
  },
  {
   "cell_type": "code",
   "execution_count": 3,
   "metadata": {
    "colab": {
     "base_uri": "https://localhost:8080/",
     "height": 429
    },
    "id": "yM0agk7Vd5Fy",
    "outputId": "27cc375d-2424-4209-e8b6-c18010723e11"
   },
   "outputs": [
    {
     "data": {
      "text/html": [
       "<div>\n",
       "<style scoped>\n",
       "    .dataframe tbody tr th:only-of-type {\n",
       "        vertical-align: middle;\n",
       "    }\n",
       "\n",
       "    .dataframe tbody tr th {\n",
       "        vertical-align: top;\n",
       "    }\n",
       "\n",
       "    .dataframe thead th {\n",
       "        text-align: right;\n",
       "    }\n",
       "</style>\n",
       "<table border=\"1\" class=\"dataframe\">\n",
       "  <thead>\n",
       "    <tr style=\"text-align: right;\">\n",
       "      <th></th>\n",
       "      <th>Unnamed: 0</th>\n",
       "      <th>Alm. Brand Invest Mix ETIK</th>\n",
       "      <th>Alm. Brand Invest Mix Offensiv ETIK</th>\n",
       "      <th>Alm. Brand Invest Korte Obligation ETIK</th>\n",
       "      <th>Alm. Brand Invest Europæiske Aktier ETIK</th>\n",
       "      <th>Alm. Brand Invest Globale Aktier ETIK</th>\n",
       "      <th>Wealth Invest Amalie Global AK</th>\n",
       "      <th>Alm. Brand Invest Nordiske Aktier ETIK</th>\n",
       "      <th>BankInvest Danske Aktier W</th>\n",
       "      <th>BankInvest Emerging Markets Obl A</th>\n",
       "      <th>...</th>\n",
       "      <th>iShares STOXX Eurp 600 P &amp; H Goods (DE)</th>\n",
       "      <th>iShares Core MSCI Pac ex-Jpn ETF USD Acc</th>\n",
       "      <th>iShares MSCI ACWI ETF USD Acc</th>\n",
       "      <th>iShares Core S&amp;P 500 ETF USD Acc</th>\n",
       "      <th>iShares S&amp;P 500 EUR Hedged ETF Acc</th>\n",
       "      <th>iShares MSCI Japan Small Cap ETF USD Dis</th>\n",
       "      <th>Xtrackers S&amp;P Global Infras Swap ETF 1C</th>\n",
       "      <th>Xtrackers II Glb Infl-Lnkd Bd ETF 1CEURH</th>\n",
       "      <th>Xtrackers II EUR Corporate Bond ETF 1C</th>\n",
       "      <th>iShares Pfandbriefe ETF (DE)</th>\n",
       "    </tr>\n",
       "  </thead>\n",
       "  <tbody>\n",
       "    <tr>\n",
       "      <th>0</th>\n",
       "      <td>2012-01-11</td>\n",
       "      <td>0.015134</td>\n",
       "      <td>0.006069</td>\n",
       "      <td>0.000887</td>\n",
       "      <td>0.005416</td>\n",
       "      <td>0.021335</td>\n",
       "      <td>0.016686</td>\n",
       "      <td>0.030303</td>\n",
       "      <td>0.024658</td>\n",
       "      <td>-0.000281</td>\n",
       "      <td>...</td>\n",
       "      <td>-0.000654</td>\n",
       "      <td>0.015346</td>\n",
       "      <td>0.020060</td>\n",
       "      <td>0.029827</td>\n",
       "      <td>0.012299</td>\n",
       "      <td>0.004881</td>\n",
       "      <td>0.006464</td>\n",
       "      <td>0.004637</td>\n",
       "      <td>0.003364</td>\n",
       "      <td>0.003310</td>\n",
       "    </tr>\n",
       "    <tr>\n",
       "      <th>1</th>\n",
       "      <td>2012-01-18</td>\n",
       "      <td>0.006833</td>\n",
       "      <td>0.008828</td>\n",
       "      <td>0.000000</td>\n",
       "      <td>0.012080</td>\n",
       "      <td>0.001885</td>\n",
       "      <td>0.005471</td>\n",
       "      <td>0.022186</td>\n",
       "      <td>0.008594</td>\n",
       "      <td>0.001265</td>\n",
       "      <td>...</td>\n",
       "      <td>0.012985</td>\n",
       "      <td>0.009096</td>\n",
       "      <td>0.006481</td>\n",
       "      <td>0.001870</td>\n",
       "      <td>0.010046</td>\n",
       "      <td>-0.008594</td>\n",
       "      <td>0.001089</td>\n",
       "      <td>0.006495</td>\n",
       "      <td>0.003850</td>\n",
       "      <td>0.000941</td>\n",
       "    </tr>\n",
       "    <tr>\n",
       "      <th>2</th>\n",
       "      <td>2012-01-25</td>\n",
       "      <td>0.002644</td>\n",
       "      <td>0.011814</td>\n",
       "      <td>-0.000197</td>\n",
       "      <td>0.005323</td>\n",
       "      <td>0.006741</td>\n",
       "      <td>0.006696</td>\n",
       "      <td>0.004281</td>\n",
       "      <td>-0.009657</td>\n",
       "      <td>0.007438</td>\n",
       "      <td>...</td>\n",
       "      <td>0.000486</td>\n",
       "      <td>0.015004</td>\n",
       "      <td>0.004967</td>\n",
       "      <td>0.001372</td>\n",
       "      <td>0.009221</td>\n",
       "      <td>0.000421</td>\n",
       "      <td>-0.008601</td>\n",
       "      <td>-0.008965</td>\n",
       "      <td>0.004883</td>\n",
       "      <td>0.001401</td>\n",
       "    </tr>\n",
       "    <tr>\n",
       "      <th>3</th>\n",
       "      <td>2012-02-01</td>\n",
       "      <td>0.009142</td>\n",
       "      <td>0.014703</td>\n",
       "      <td>0.000984</td>\n",
       "      <td>0.013798</td>\n",
       "      <td>0.000156</td>\n",
       "      <td>-0.007068</td>\n",
       "      <td>0.021315</td>\n",
       "      <td>0.024092</td>\n",
       "      <td>0.011283</td>\n",
       "      <td>...</td>\n",
       "      <td>0.028292</td>\n",
       "      <td>-0.003084</td>\n",
       "      <td>-0.003798</td>\n",
       "      <td>-0.018339</td>\n",
       "      <td>0.008531</td>\n",
       "      <td>0.009153</td>\n",
       "      <td>0.016737</td>\n",
       "      <td>0.015042</td>\n",
       "      <td>0.008338</td>\n",
       "      <td>0.002710</td>\n",
       "    </tr>\n",
       "    <tr>\n",
       "      <th>4</th>\n",
       "      <td>2012-02-08</td>\n",
       "      <td>0.016551</td>\n",
       "      <td>0.013140</td>\n",
       "      <td>-0.001180</td>\n",
       "      <td>0.022472</td>\n",
       "      <td>0.016815</td>\n",
       "      <td>0.014096</td>\n",
       "      <td>0.035624</td>\n",
       "      <td>0.024832</td>\n",
       "      <td>0.003030</td>\n",
       "      <td>...</td>\n",
       "      <td>0.003624</td>\n",
       "      <td>0.018755</td>\n",
       "      <td>0.015051</td>\n",
       "      <td>0.015560</td>\n",
       "      <td>0.013891</td>\n",
       "      <td>0.002510</td>\n",
       "      <td>0.002792</td>\n",
       "      <td>-0.002704</td>\n",
       "      <td>0.001531</td>\n",
       "      <td>-0.000444</td>\n",
       "    </tr>\n",
       "  </tbody>\n",
       "</table>\n",
       "<p>5 rows × 718 columns</p>\n",
       "</div>"
      ],
      "text/plain": [
       "  Unnamed: 0  Alm. Brand Invest Mix ETIK  Alm. Brand Invest Mix Offensiv ETIK  \\\n",
       "0 2012-01-11                    0.015134                             0.006069   \n",
       "1 2012-01-18                    0.006833                             0.008828   \n",
       "2 2012-01-25                    0.002644                             0.011814   \n",
       "3 2012-02-01                    0.009142                             0.014703   \n",
       "4 2012-02-08                    0.016551                             0.013140   \n",
       "\n",
       "   Alm. Brand Invest Korte Obligation ETIK  \\\n",
       "0                                 0.000887   \n",
       "1                                 0.000000   \n",
       "2                                -0.000197   \n",
       "3                                 0.000984   \n",
       "4                                -0.001180   \n",
       "\n",
       "   Alm. Brand Invest Europæiske Aktier ETIK  \\\n",
       "0                                  0.005416   \n",
       "1                                  0.012080   \n",
       "2                                  0.005323   \n",
       "3                                  0.013798   \n",
       "4                                  0.022472   \n",
       "\n",
       "   Alm. Brand Invest Globale Aktier ETIK  Wealth Invest Amalie Global AK  \\\n",
       "0                               0.021335                        0.016686   \n",
       "1                               0.001885                        0.005471   \n",
       "2                               0.006741                        0.006696   \n",
       "3                               0.000156                       -0.007068   \n",
       "4                               0.016815                        0.014096   \n",
       "\n",
       "   Alm. Brand Invest Nordiske Aktier ETIK  BankInvest Danske Aktier W  \\\n",
       "0                                0.030303                    0.024658   \n",
       "1                                0.022186                    0.008594   \n",
       "2                                0.004281                   -0.009657   \n",
       "3                                0.021315                    0.024092   \n",
       "4                                0.035624                    0.024832   \n",
       "\n",
       "   BankInvest Emerging Markets Obl A  ...  \\\n",
       "0                          -0.000281  ...   \n",
       "1                           0.001265  ...   \n",
       "2                           0.007438  ...   \n",
       "3                           0.011283  ...   \n",
       "4                           0.003030  ...   \n",
       "\n",
       "   iShares STOXX Eurp 600 P & H Goods (DE)  \\\n",
       "0                                -0.000654   \n",
       "1                                 0.012985   \n",
       "2                                 0.000486   \n",
       "3                                 0.028292   \n",
       "4                                 0.003624   \n",
       "\n",
       "   iShares Core MSCI Pac ex-Jpn ETF USD Acc  iShares MSCI ACWI ETF USD Acc  \\\n",
       "0                                  0.015346                       0.020060   \n",
       "1                                  0.009096                       0.006481   \n",
       "2                                  0.015004                       0.004967   \n",
       "3                                 -0.003084                      -0.003798   \n",
       "4                                  0.018755                       0.015051   \n",
       "\n",
       "   iShares Core S&P 500 ETF USD Acc  iShares S&P 500 EUR Hedged ETF Acc  \\\n",
       "0                          0.029827                            0.012299   \n",
       "1                          0.001870                            0.010046   \n",
       "2                          0.001372                            0.009221   \n",
       "3                         -0.018339                            0.008531   \n",
       "4                          0.015560                            0.013891   \n",
       "\n",
       "   iShares MSCI Japan Small Cap ETF USD Dis  \\\n",
       "0                                  0.004881   \n",
       "1                                 -0.008594   \n",
       "2                                  0.000421   \n",
       "3                                  0.009153   \n",
       "4                                  0.002510   \n",
       "\n",
       "   Xtrackers S&P Global Infras Swap ETF 1C  \\\n",
       "0                                 0.006464   \n",
       "1                                 0.001089   \n",
       "2                                -0.008601   \n",
       "3                                 0.016737   \n",
       "4                                 0.002792   \n",
       "\n",
       "   Xtrackers II Glb Infl-Lnkd Bd ETF 1CEURH  \\\n",
       "0                                  0.004637   \n",
       "1                                  0.006495   \n",
       "2                                 -0.008965   \n",
       "3                                  0.015042   \n",
       "4                                 -0.002704   \n",
       "\n",
       "   Xtrackers II EUR Corporate Bond ETF 1C  iShares Pfandbriefe ETF (DE)  \n",
       "0                                0.003364                      0.003310  \n",
       "1                                0.003850                      0.000941  \n",
       "2                                0.004883                      0.001401  \n",
       "3                                0.008338                      0.002710  \n",
       "4                                0.001531                     -0.000444  \n",
       "\n",
       "[5 rows x 718 columns]"
      ]
     },
     "execution_count": 3,
     "metadata": {},
     "output_type": "execute_result"
    }
   ],
   "source": [
    "df.head()"
   ]
  },
  {
   "cell_type": "code",
   "execution_count": 4,
   "metadata": {
    "colab": {
     "base_uri": "https://localhost:8080/"
    },
    "id": "gXEFMS7xd5F0",
    "outputId": "c45729b4-d1fc-4367-c128-fa4a23633232"
   },
   "outputs": [
    {
     "data": {
      "text/plain": [
       "(503, 718)"
      ]
     },
     "execution_count": 4,
     "metadata": {},
     "output_type": "execute_result"
    }
   ],
   "source": [
    "df.shape"
   ]
  },
  {
   "cell_type": "code",
   "execution_count": 5,
   "metadata": {
    "colab": {
     "base_uri": "https://localhost:8080/"
    },
    "id": "jqTVYasZd5F1",
    "outputId": "78596b42-3651-4648-e645-dc79400e5cb6"
   },
   "outputs": [
    {
     "data": {
      "text/plain": [
       "Index(['Unnamed: 0', 'Alm. Brand Invest Mix ETIK',\n",
       "       'Alm. Brand Invest Mix Offensiv ETIK',\n",
       "       'Alm. Brand Invest Korte Obligation ETIK',\n",
       "       'Alm. Brand Invest Europæiske Aktier ETIK',\n",
       "       'Alm. Brand Invest Globale Aktier ETIK',\n",
       "       'Wealth Invest Amalie Global AK',\n",
       "       'Alm. Brand Invest Nordiske Aktier ETIK', 'BankInvest Danske Aktier W',\n",
       "       'BankInvest Emerging Markets Obl A',\n",
       "       ...\n",
       "       'iShares STOXX Eurp 600 P & H Goods (DE)',\n",
       "       'iShares Core MSCI Pac ex-Jpn ETF USD Acc',\n",
       "       'iShares MSCI ACWI ETF USD Acc', 'iShares Core S&P 500 ETF USD Acc',\n",
       "       'iShares S&P 500 EUR Hedged ETF Acc',\n",
       "       'iShares MSCI Japan Small Cap ETF USD Dis',\n",
       "       'Xtrackers S&P Global Infras Swap ETF 1C',\n",
       "       'Xtrackers II Glb Infl-Lnkd Bd ETF 1CEURH',\n",
       "       'Xtrackers II EUR Corporate Bond ETF 1C',\n",
       "       'iShares Pfandbriefe ETF (DE)'],\n",
       "      dtype='object', length=718)"
      ]
     },
     "execution_count": 5,
     "metadata": {},
     "output_type": "execute_result"
    }
   ],
   "source": [
    "df.columns"
   ]
  },
  {
   "cell_type": "code",
   "execution_count": 6,
   "metadata": {
    "colab": {
     "base_uri": "https://localhost:8080/"
    },
    "id": "w2sZ3kCod5F2",
    "outputId": "f546d7b5-c071-4e92-e956-0e1df1842172"
   },
   "outputs": [
    {
     "name": "stdout",
     "output_type": "stream",
     "text": [
      "<class 'pandas.core.frame.DataFrame'>\n",
      "RangeIndex: 503 entries, 0 to 502\n",
      "Columns: 718 entries, Unnamed: 0 to iShares Pfandbriefe ETF (DE)\n",
      "dtypes: datetime64[ns](1), float64(717)\n",
      "memory usage: 2.8 MB\n"
     ]
    }
   ],
   "source": [
    "df.info()"
   ]
  },
  {
   "cell_type": "code",
   "execution_count": 7,
   "metadata": {
    "id": "5UcW9b03d5F3"
   },
   "outputs": [],
   "source": [
    "train = df.iloc[:251, :]\n",
    "test = df.iloc[251:, :]"
   ]
  },
  {
   "cell_type": "code",
   "execution_count": 8,
   "metadata": {
    "colab": {
     "base_uri": "https://localhost:8080/"
    },
    "id": "iQlyQnTPd5F3",
    "outputId": "70925e70-41df-4ef6-b337-14ad2cacb319"
   },
   "outputs": [
    {
     "name": "stdout",
     "output_type": "stream",
     "text": [
      "(251, 718)\n",
      "(252, 718)\n"
     ]
    }
   ],
   "source": [
    "print(train.shape)\n",
    "print(test.shape)"
   ]
  },
  {
   "cell_type": "code",
   "execution_count": 9,
   "metadata": {
    "colab": {
     "base_uri": "https://localhost:8080/"
    },
    "id": "cGAgH9fZd5F4",
    "outputId": "5de31989-d3b1-48cf-e374-fc3ba3bf811a"
   },
   "outputs": [
    {
     "name": "stdout",
     "output_type": "stream",
     "text": [
      "     Alm. Brand Invest Mix ETIK  Alm. Brand Invest Mix Offensiv ETIK  \\\n",
      "0                      0.015134                             0.006069   \n",
      "1                      0.006833                             0.008828   \n",
      "2                      0.002644                             0.011814   \n",
      "3                      0.009142                             0.014703   \n",
      "4                      0.016551                             0.013140   \n",
      "..                          ...                                  ...   \n",
      "246                   -0.001288                            -0.002720   \n",
      "247                    0.005238                             0.009741   \n",
      "248                   -0.001924                            -0.002260   \n",
      "249                    0.004418                             0.005028   \n",
      "250                   -0.001839                            -0.001704   \n",
      "\n",
      "     Alm. Brand Invest Korte Obligation ETIK  \\\n",
      "0                                   0.000887   \n",
      "1                                   0.000000   \n",
      "2                                  -0.000197   \n",
      "3                                   0.000984   \n",
      "4                                  -0.001180   \n",
      "..                                       ...   \n",
      "246                                 0.001672   \n",
      "247                                -0.001375   \n",
      "248                                -0.002261   \n",
      "249                                 0.000296   \n",
      "250                                -0.001084   \n",
      "\n",
      "     Alm. Brand Invest Europæiske Aktier ETIK  \\\n",
      "0                                    0.005416   \n",
      "1                                    0.012080   \n",
      "2                                    0.005323   \n",
      "3                                    0.013798   \n",
      "4                                    0.022472   \n",
      "..                                        ...   \n",
      "246                                  0.000564   \n",
      "247                                  0.011611   \n",
      "248                                 -0.019389   \n",
      "249                                  0.009091   \n",
      "250                                 -0.004617   \n",
      "\n",
      "     Alm. Brand Invest Globale Aktier ETIK  Wealth Invest Amalie Global AK  \\\n",
      "0                                 0.021335                        0.016686   \n",
      "1                                 0.001885                        0.005471   \n",
      "2                                 0.006741                        0.006696   \n",
      "3                                 0.000156                       -0.007068   \n",
      "4                                 0.016815                        0.014096   \n",
      "..                                     ...                             ...   \n",
      "246                              -0.002946                       -0.000191   \n",
      "247                               0.007282                       -0.003434   \n",
      "248                               0.005553                        0.000957   \n",
      "249                               0.008544                        0.009660   \n",
      "250                              -0.003099                       -0.003884   \n",
      "\n",
      "     Alm. Brand Invest Nordiske Aktier ETIK  BankInvest Danske Aktier W  \\\n",
      "0                                  0.030303                    0.024658   \n",
      "1                                  0.022186                    0.008594   \n",
      "2                                  0.004281                   -0.009657   \n",
      "3                                  0.021315                    0.024092   \n",
      "4                                  0.035624                    0.024832   \n",
      "..                                      ...                         ...   \n",
      "246                               -0.007943                   -0.011088   \n",
      "247                                0.008773                   -0.001885   \n",
      "248                               -0.015199                   -0.015210   \n",
      "249                                0.011061                    0.024732   \n",
      "250                               -0.009159                   -0.009753   \n",
      "\n",
      "     BankInvest Emerging Markets Obl A  BankInvest Emerging Markets Obl Akk A  \\\n",
      "0                            -0.000281                              -0.000458   \n",
      "1                             0.001265                               0.000763   \n",
      "2                             0.007438                               0.007471   \n",
      "3                             0.011283                               0.010670   \n",
      "4                             0.003030                               0.003220   \n",
      "..                                 ...                                    ...   \n",
      "246                           0.003517                               0.003660   \n",
      "247                           0.000876                               0.000176   \n",
      "248                          -0.004815                              -0.005469   \n",
      "249                          -0.001173                              -0.001005   \n",
      "250                           0.002642                               0.002723   \n",
      "\n",
      "     ...  iShares STOXX Eurp 600 P & H Goods (DE)  \\\n",
      "0    ...                                -0.000654   \n",
      "1    ...                                 0.012985   \n",
      "2    ...                                 0.000486   \n",
      "3    ...                                 0.028292   \n",
      "4    ...                                 0.003624   \n",
      "..   ...                                      ...   \n",
      "246  ...                                 0.015787   \n",
      "247  ...                                -0.012725   \n",
      "248  ...                                -0.011461   \n",
      "249  ...                                 0.002043   \n",
      "250  ...                                -0.013298   \n",
      "\n",
      "     iShares Core MSCI Pac ex-Jpn ETF USD Acc  iShares MSCI ACWI ETF USD Acc  \\\n",
      "0                                    0.015346                       0.020060   \n",
      "1                                    0.009096                       0.006481   \n",
      "2                                    0.015004                       0.004967   \n",
      "3                                   -0.003084                      -0.003798   \n",
      "4                                    0.018755                       0.015051   \n",
      "..                                        ...                            ...   \n",
      "246                                  0.010878                      -0.001326   \n",
      "247                                  0.000128                      -0.004253   \n",
      "248                                  0.009788                       0.001776   \n",
      "249                                  0.010967                       0.011719   \n",
      "250                                 -0.004321                       0.000688   \n",
      "\n",
      "     iShares Core S&P 500 ETF USD Acc  iShares S&P 500 EUR Hedged ETF Acc  \\\n",
      "0                            0.029827                            0.012299   \n",
      "1                            0.001870                            0.010046   \n",
      "2                            0.001372                            0.009221   \n",
      "3                           -0.018339                            0.008531   \n",
      "4                            0.015560                            0.013891   \n",
      "..                                ...                                 ...   \n",
      "246                         -0.000747                            0.002810   \n",
      "247                         -0.007124                            0.001779   \n",
      "248                          0.007156                           -0.010288   \n",
      "249                          0.007032                            0.002616   \n",
      "250                          0.001987                           -0.000821   \n",
      "\n",
      "     iShares MSCI Japan Small Cap ETF USD Dis  \\\n",
      "0                                    0.004881   \n",
      "1                                   -0.008594   \n",
      "2                                    0.000421   \n",
      "3                                    0.009153   \n",
      "4                                    0.002510   \n",
      "..                                        ...   \n",
      "246                                  0.006767   \n",
      "247                                 -0.018502   \n",
      "248                                  0.004898   \n",
      "249                                  0.032080   \n",
      "250                                  0.007334   \n",
      "\n",
      "     Xtrackers S&P Global Infras Swap ETF 1C  \\\n",
      "0                                   0.006464   \n",
      "1                                   0.001089   \n",
      "2                                  -0.008601   \n",
      "3                                   0.016737   \n",
      "4                                   0.002792   \n",
      "..                                       ...   \n",
      "246                                -0.003290   \n",
      "247                                -0.021069   \n",
      "248                                -0.003882   \n",
      "249                                 0.027321   \n",
      "250                                 0.000792   \n",
      "\n",
      "     Xtrackers II Glb Infl-Lnkd Bd ETF 1CEURH  \\\n",
      "0                                    0.004637   \n",
      "1                                    0.006495   \n",
      "2                                   -0.008965   \n",
      "3                                    0.015042   \n",
      "4                                   -0.002704   \n",
      "..                                        ...   \n",
      "246                                  0.017817   \n",
      "247                                 -0.005282   \n",
      "248                                 -0.007523   \n",
      "249                                  0.002390   \n",
      "250                                  0.000721   \n",
      "\n",
      "     Xtrackers II EUR Corporate Bond ETF 1C  iShares Pfandbriefe ETF (DE)  \n",
      "0                                  0.003364                      0.003310  \n",
      "1                                  0.003850                      0.000941  \n",
      "2                                  0.004883                      0.001401  \n",
      "3                                  0.008338                      0.002710  \n",
      "4                                  0.001531                     -0.000444  \n",
      "..                                      ...                           ...  \n",
      "246                                0.003964                      0.002821  \n",
      "247                               -0.005578                     -0.006585  \n",
      "248                               -0.002473                     -0.001269  \n",
      "249                                0.001765                      0.001200  \n",
      "250                               -0.002561                     -0.002748  \n",
      "\n",
      "[251 rows x 717 columns]\n"
     ]
    }
   ],
   "source": [
    "returns = train.iloc[:,1:]\n",
    "print(returns)"
   ]
  },
  {
   "cell_type": "code",
   "execution_count": 10,
   "metadata": {
    "id": "ElDEHzjAd5F5"
   },
   "outputs": [],
   "source": [
    "def annualize_returns(returns, data_freq='weekly'):\n",
    "\treturn (1+returns)**52-1\n",
    "\n",
    "def calc_geomean(returns):\n",
    "\treturn (np.prod(1 + returns))**(1/len(returns)) - 1\n",
    "\n",
    "def annualize_stddev(stddev, data_freq='weekly'):\n",
    "\treturn stddev*np.sqrt(52)\n"
   ]
  },
  {
   "cell_type": "code",
   "execution_count": 11,
   "metadata": {
    "colab": {
     "base_uri": "https://localhost:8080/"
    },
    "id": "UZlAeo5jd5F8",
    "outputId": "502a6d5f-daf3-4cbf-8bbd-a149f838970b",
    "scrolled": true
   },
   "outputs": [
    {
     "name": "stdout",
     "output_type": "stream",
     "text": [
      "Alm. Brand Invest Mix ETIK                  0.072858\n",
      "Alm. Brand Invest Mix Offensiv ETIK         0.088213\n",
      "Alm. Brand Invest Korte Obligation ETIK     0.008095\n",
      "Alm. Brand Invest Europæiske Aktier ETIK    0.086263\n",
      "Alm. Brand Invest Globale Aktier ETIK       0.101740\n",
      "                                              ...   \n",
      "iShares MSCI Japan Small Cap ETF USD Dis    0.140640\n",
      "Xtrackers S&P Global Infras Swap ETF 1C     0.105699\n",
      "Xtrackers II Glb Infl-Lnkd Bd ETF 1CEURH    0.041007\n",
      "Xtrackers II EUR Corporate Bond ETF 1C      0.040348\n",
      "iShares Pfandbriefe ETF (DE)                0.025412\n",
      "Length: 717, dtype: float64\n"
     ]
    },
    {
     "data": {
      "text/plain": [
       "717"
      ]
     },
     "execution_count": 11,
     "metadata": {},
     "output_type": "execute_result"
    }
   ],
   "source": [
    "for i in range(len(train.columns)):\n",
    "\tavr_return = calc_geomean(returns)\n",
    "\tann_avr_return = annualize_returns(avr_return, data_freq='weekly')\n",
    "\n",
    "print(ann_avr_return)\n",
    "len(ann_avr_return)"
   ]
  },
  {
   "cell_type": "code",
   "execution_count": 12,
   "metadata": {
    "colab": {
     "base_uri": "https://localhost:8080/"
    },
    "id": "Fzv0thWYd5F-",
    "outputId": "b99e323c-c252-4a31-b2e5-a899496b5a8b",
    "scrolled": true
   },
   "outputs": [
    {
     "name": "stdout",
     "output_type": "stream",
     "text": [
      "Alm. Brand Invest Mix ETIK                  0.103745\n",
      "Alm. Brand Invest Mix Offensiv ETIK         0.134341\n",
      "Alm. Brand Invest Korte Obligation ETIK     0.009376\n",
      "Alm. Brand Invest Europæiske Aktier ETIK    0.167789\n",
      "Alm. Brand Invest Globale Aktier ETIK       0.157152\n",
      "                                              ...   \n",
      "iShares MSCI Japan Small Cap ETF USD Dis    0.167221\n",
      "Xtrackers S&P Global Infras Swap ETF 1C     0.137147\n",
      "Xtrackers II Glb Infl-Lnkd Bd ETF 1CEURH    0.052936\n",
      "Xtrackers II EUR Corporate Bond ETF 1C      0.020619\n",
      "iShares Pfandbriefe ETF (DE)                0.014199\n",
      "Length: 717, dtype: float64\n"
     ]
    },
    {
     "data": {
      "text/plain": [
       "717"
      ]
     },
     "execution_count": 12,
     "metadata": {},
     "output_type": "execute_result"
    }
   ],
   "source": [
    "for i in range(len(train)):\n",
    "\tstddev = returns.std()\n",
    "\tann_stddev = (annualize_stddev(stddev, data_freq='weekly'))\n",
    "\n",
    "print(ann_stddev)\n",
    "len(ann_stddev)"
   ]
  },
  {
   "cell_type": "code",
   "execution_count": 13,
   "metadata": {
    "colab": {
     "base_uri": "https://localhost:8080/"
    },
    "id": "ATf33egdd5F_",
    "outputId": "01aa3cf8-caa6-458a-84cb-d2da05869354"
   },
   "outputs": [
    {
     "data": {
      "text/plain": [
       "Alm. Brand Invest Mix ETIK                  0.702279\n",
       "Alm. Brand Invest Mix Offensiv ETIK         0.656639\n",
       "Alm. Brand Invest Korte Obligation ETIK     0.863369\n",
       "Alm. Brand Invest Europæiske Aktier ETIK    0.514117\n",
       "Alm. Brand Invest Globale Aktier ETIK       0.647400\n",
       "                                              ...   \n",
       "iShares MSCI Japan Small Cap ETF USD Dis    0.841046\n",
       "Xtrackers S&P Global Infras Swap ETF 1C     0.770697\n",
       "Xtrackers II Glb Infl-Lnkd Bd ETF 1CEURH    0.774647\n",
       "Xtrackers II EUR Corporate Bond ETF 1C      1.956836\n",
       "iShares Pfandbriefe ETF (DE)                1.789625\n",
       "Length: 717, dtype: float64"
      ]
     },
     "execution_count": 13,
     "metadata": {},
     "output_type": "execute_result"
    }
   ],
   "source": [
    "sharpe_ratio=ann_avr_return/ann_stddev\n",
    "sharpe_ratio"
   ]
  },
  {
   "cell_type": "markdown",
   "metadata": {
    "id": "YDYkgbDod5GA"
   },
   "source": [
    "### Question 2\n",
    "\n",
    "Pick up the top 4-5 assets with the highest Sharpe Ratios for the training set."
   ]
  },
  {
   "cell_type": "code",
   "execution_count": 14,
   "metadata": {
    "colab": {
     "base_uri": "https://localhost:8080/"
    },
    "id": "vtA5DVBxd5GB",
    "outputId": "fdbdac57-95ad-4018-b19d-de01180d5cb8"
   },
   "outputs": [
    {
     "data": {
      "text/plain": [
       "Nordea Invest Euro High Yield Bonds KL    2.717760\n",
       "Maj Invest Danske Obligationer            2.701868\n",
       "Nykredit Invest Engros EuroKredit         2.698767\n",
       "Nykredit Invest Bæredygtige Kreditobli    2.558705\n",
       "Nordea Invest Engros Corporate Bonds      2.463309\n",
       "dtype: float64"
      ]
     },
     "execution_count": 14,
     "metadata": {},
     "output_type": "execute_result"
    }
   ],
   "source": [
    "top_5 = sharpe_ratio.sort_values(ascending = False).head(5)\n",
    "top_5"
   ]
  },
  {
   "cell_type": "code",
   "execution_count": 15,
   "metadata": {
    "colab": {
     "base_uri": "https://localhost:8080/"
    },
    "id": "GGhawyJOd5GC",
    "outputId": "e947b9e8-f77f-4053-a347-e5542dcad717"
   },
   "outputs": [
    {
     "data": {
      "text/plain": [
       "['Nordea Invest Euro High Yield Bonds KL',\n",
       " 'Maj Invest Danske Obligationer',\n",
       " 'Nykredit Invest Engros EuroKredit',\n",
       " 'Nykredit Invest Bæredygtige Kreditobli',\n",
       " 'Nordea Invest Engros Corporate Bonds']"
      ]
     },
     "execution_count": 15,
     "metadata": {},
     "output_type": "execute_result"
    }
   ],
   "source": [
    "top5_list = list(top_5.index)\n",
    "top5_list"
   ]
  },
  {
   "cell_type": "markdown",
   "metadata": {
    "id": "TtMI7VO9d5GC"
   },
   "source": [
    "### Question 3\n",
    "\n",
    "Calculate the covariance matrix for these assets."
   ]
  },
  {
   "cell_type": "code",
   "execution_count": 16,
   "metadata": {
    "colab": {
     "base_uri": "https://localhost:8080/",
     "height": 441
    },
    "id": "2nvKMDe2d5GD",
    "outputId": "67be2164-21d8-4958-a6cd-d08966ee4436"
   },
   "outputs": [
    {
     "data": {
      "text/html": [
       "<div>\n",
       "<style scoped>\n",
       "    .dataframe tbody tr th:only-of-type {\n",
       "        vertical-align: middle;\n",
       "    }\n",
       "\n",
       "    .dataframe tbody tr th {\n",
       "        vertical-align: top;\n",
       "    }\n",
       "\n",
       "    .dataframe thead th {\n",
       "        text-align: right;\n",
       "    }\n",
       "</style>\n",
       "<table border=\"1\" class=\"dataframe\">\n",
       "  <thead>\n",
       "    <tr style=\"text-align: right;\">\n",
       "      <th></th>\n",
       "      <th>Maj Invest Danske Obligationer</th>\n",
       "      <th>Nordea Invest Engros Corporate Bonds</th>\n",
       "      <th>Nordea Invest Euro High Yield Bonds KL</th>\n",
       "      <th>Nykredit Invest Engros EuroKredit</th>\n",
       "      <th>Nykredit Invest Bæredygtige Kreditobli</th>\n",
       "    </tr>\n",
       "  </thead>\n",
       "  <tbody>\n",
       "    <tr>\n",
       "      <th>0</th>\n",
       "      <td>0.000957</td>\n",
       "      <td>0.003564</td>\n",
       "      <td>0.010978</td>\n",
       "      <td>-0.006240</td>\n",
       "      <td>-0.000196</td>\n",
       "    </tr>\n",
       "    <tr>\n",
       "      <th>1</th>\n",
       "      <td>-0.000191</td>\n",
       "      <td>0.006477</td>\n",
       "      <td>0.012636</td>\n",
       "      <td>0.014027</td>\n",
       "      <td>0.006576</td>\n",
       "    </tr>\n",
       "    <tr>\n",
       "      <th>2</th>\n",
       "      <td>-0.003157</td>\n",
       "      <td>0.007265</td>\n",
       "      <td>0.014915</td>\n",
       "      <td>0.006003</td>\n",
       "      <td>0.005656</td>\n",
       "    </tr>\n",
       "    <tr>\n",
       "      <th>3</th>\n",
       "      <td>0.003071</td>\n",
       "      <td>0.011231</td>\n",
       "      <td>0.012679</td>\n",
       "      <td>0.011109</td>\n",
       "      <td>0.010084</td>\n",
       "    </tr>\n",
       "    <tr>\n",
       "      <th>4</th>\n",
       "      <td>-0.002583</td>\n",
       "      <td>0.003872</td>\n",
       "      <td>0.015840</td>\n",
       "      <td>0.002936</td>\n",
       "      <td>0.001728</td>\n",
       "    </tr>\n",
       "    <tr>\n",
       "      <th>...</th>\n",
       "      <td>...</td>\n",
       "      <td>...</td>\n",
       "      <td>...</td>\n",
       "      <td>...</td>\n",
       "      <td>...</td>\n",
       "    </tr>\n",
       "    <tr>\n",
       "      <th>246</th>\n",
       "      <td>0.001663</td>\n",
       "      <td>0.005462</td>\n",
       "      <td>0.000178</td>\n",
       "      <td>0.005149</td>\n",
       "      <td>0.004698</td>\n",
       "    </tr>\n",
       "    <tr>\n",
       "      <th>247</th>\n",
       "      <td>0.000293</td>\n",
       "      <td>-0.005037</td>\n",
       "      <td>0.000623</td>\n",
       "      <td>-0.005140</td>\n",
       "      <td>-0.005186</td>\n",
       "    </tr>\n",
       "    <tr>\n",
       "      <th>248</th>\n",
       "      <td>-0.001171</td>\n",
       "      <td>-0.002283</td>\n",
       "      <td>0.000445</td>\n",
       "      <td>-0.003196</td>\n",
       "      <td>-0.003589</td>\n",
       "    </tr>\n",
       "    <tr>\n",
       "      <th>249</th>\n",
       "      <td>0.000195</td>\n",
       "      <td>0.001691</td>\n",
       "      <td>0.004443</td>\n",
       "      <td>0.002081</td>\n",
       "      <td>0.001801</td>\n",
       "    </tr>\n",
       "    <tr>\n",
       "      <th>250</th>\n",
       "      <td>0.001368</td>\n",
       "      <td>-0.001689</td>\n",
       "      <td>0.003273</td>\n",
       "      <td>-0.001558</td>\n",
       "      <td>-0.001798</td>\n",
       "    </tr>\n",
       "  </tbody>\n",
       "</table>\n",
       "<p>251 rows × 5 columns</p>\n",
       "</div>"
      ],
      "text/plain": [
       "     Maj Invest Danske Obligationer  Nordea Invest Engros Corporate Bonds  \\\n",
       "0                          0.000957                              0.003564   \n",
       "1                         -0.000191                              0.006477   \n",
       "2                         -0.003157                              0.007265   \n",
       "3                          0.003071                              0.011231   \n",
       "4                         -0.002583                              0.003872   \n",
       "..                              ...                                   ...   \n",
       "246                        0.001663                              0.005462   \n",
       "247                        0.000293                             -0.005037   \n",
       "248                       -0.001171                             -0.002283   \n",
       "249                        0.000195                              0.001691   \n",
       "250                        0.001368                             -0.001689   \n",
       "\n",
       "     Nordea Invest Euro High Yield Bonds KL  \\\n",
       "0                                  0.010978   \n",
       "1                                  0.012636   \n",
       "2                                  0.014915   \n",
       "3                                  0.012679   \n",
       "4                                  0.015840   \n",
       "..                                      ...   \n",
       "246                                0.000178   \n",
       "247                                0.000623   \n",
       "248                                0.000445   \n",
       "249                                0.004443   \n",
       "250                                0.003273   \n",
       "\n",
       "     Nykredit Invest Engros EuroKredit  Nykredit Invest Bæredygtige Kreditobli  \n",
       "0                            -0.006240                               -0.000196  \n",
       "1                             0.014027                                0.006576  \n",
       "2                             0.006003                                0.005656  \n",
       "3                             0.011109                                0.010084  \n",
       "4                             0.002936                                0.001728  \n",
       "..                                 ...                                     ...  \n",
       "246                           0.005149                                0.004698  \n",
       "247                          -0.005140                               -0.005186  \n",
       "248                          -0.003196                               -0.003589  \n",
       "249                           0.002081                                0.001801  \n",
       "250                          -0.001558                               -0.001798  \n",
       "\n",
       "[251 rows x 5 columns]"
      ]
     },
     "execution_count": 16,
     "metadata": {},
     "output_type": "execute_result"
    }
   ],
   "source": [
    "top_5 = train[train.columns.intersection(top5_list)]\n",
    "top_5"
   ]
  },
  {
   "cell_type": "code",
   "execution_count": 17,
   "metadata": {
    "colab": {
     "base_uri": "https://localhost:8080/",
     "height": 293
    },
    "id": "tCHWzmmxd5GE",
    "outputId": "5a7d7bb1-3e68-4475-a017-2b41eb62abf4"
   },
   "outputs": [
    {
     "data": {
      "text/html": [
       "<div>\n",
       "<style scoped>\n",
       "    .dataframe tbody tr th:only-of-type {\n",
       "        vertical-align: middle;\n",
       "    }\n",
       "\n",
       "    .dataframe tbody tr th {\n",
       "        vertical-align: top;\n",
       "    }\n",
       "\n",
       "    .dataframe thead th {\n",
       "        text-align: right;\n",
       "    }\n",
       "</style>\n",
       "<table border=\"1\" class=\"dataframe\">\n",
       "  <thead>\n",
       "    <tr style=\"text-align: right;\">\n",
       "      <th></th>\n",
       "      <th>Maj Invest Danske Obligationer</th>\n",
       "      <th>Nordea Invest Engros Corporate Bonds</th>\n",
       "      <th>Nordea Invest Euro High Yield Bonds KL</th>\n",
       "      <th>Nykredit Invest Engros EuroKredit</th>\n",
       "      <th>Nykredit Invest Bæredygtige Kreditobli</th>\n",
       "    </tr>\n",
       "  </thead>\n",
       "  <tbody>\n",
       "    <tr>\n",
       "      <th>Maj Invest Danske Obligationer</th>\n",
       "      <td>0.000004</td>\n",
       "      <td>0.000004</td>\n",
       "      <td>0.000002</td>\n",
       "      <td>0.000004</td>\n",
       "      <td>0.000004</td>\n",
       "    </tr>\n",
       "    <tr>\n",
       "      <th>Nordea Invest Engros Corporate Bonds</th>\n",
       "      <td>0.000004</td>\n",
       "      <td>0.000012</td>\n",
       "      <td>0.000011</td>\n",
       "      <td>0.000011</td>\n",
       "      <td>0.000010</td>\n",
       "    </tr>\n",
       "    <tr>\n",
       "      <th>Nordea Invest Euro High Yield Bonds KL</th>\n",
       "      <td>0.000002</td>\n",
       "      <td>0.000011</td>\n",
       "      <td>0.000028</td>\n",
       "      <td>0.000011</td>\n",
       "      <td>0.000010</td>\n",
       "    </tr>\n",
       "    <tr>\n",
       "      <th>Nykredit Invest Engros EuroKredit</th>\n",
       "      <td>0.000004</td>\n",
       "      <td>0.000011</td>\n",
       "      <td>0.000011</td>\n",
       "      <td>0.000013</td>\n",
       "      <td>0.000012</td>\n",
       "    </tr>\n",
       "    <tr>\n",
       "      <th>Nykredit Invest Bæredygtige Kreditobli</th>\n",
       "      <td>0.000004</td>\n",
       "      <td>0.000010</td>\n",
       "      <td>0.000010</td>\n",
       "      <td>0.000012</td>\n",
       "      <td>0.000011</td>\n",
       "    </tr>\n",
       "  </tbody>\n",
       "</table>\n",
       "</div>"
      ],
      "text/plain": [
       "                                        Maj Invest Danske Obligationer  \\\n",
       "Maj Invest Danske Obligationer                                0.000004   \n",
       "Nordea Invest Engros Corporate Bonds                          0.000004   \n",
       "Nordea Invest Euro High Yield Bonds KL                        0.000002   \n",
       "Nykredit Invest Engros EuroKredit                             0.000004   \n",
       "Nykredit Invest Bæredygtige Kreditobli                        0.000004   \n",
       "\n",
       "                                        Nordea Invest Engros Corporate Bonds  \\\n",
       "Maj Invest Danske Obligationer                                      0.000004   \n",
       "Nordea Invest Engros Corporate Bonds                                0.000012   \n",
       "Nordea Invest Euro High Yield Bonds KL                              0.000011   \n",
       "Nykredit Invest Engros EuroKredit                                   0.000011   \n",
       "Nykredit Invest Bæredygtige Kreditobli                              0.000010   \n",
       "\n",
       "                                        Nordea Invest Euro High Yield Bonds KL  \\\n",
       "Maj Invest Danske Obligationer                                        0.000002   \n",
       "Nordea Invest Engros Corporate Bonds                                  0.000011   \n",
       "Nordea Invest Euro High Yield Bonds KL                                0.000028   \n",
       "Nykredit Invest Engros EuroKredit                                     0.000011   \n",
       "Nykredit Invest Bæredygtige Kreditobli                                0.000010   \n",
       "\n",
       "                                        Nykredit Invest Engros EuroKredit  \\\n",
       "Maj Invest Danske Obligationer                                   0.000004   \n",
       "Nordea Invest Engros Corporate Bonds                             0.000011   \n",
       "Nordea Invest Euro High Yield Bonds KL                           0.000011   \n",
       "Nykredit Invest Engros EuroKredit                                0.000013   \n",
       "Nykredit Invest Bæredygtige Kreditobli                           0.000012   \n",
       "\n",
       "                                        Nykredit Invest Bæredygtige Kreditobli  \n",
       "Maj Invest Danske Obligationer                                        0.000004  \n",
       "Nordea Invest Engros Corporate Bonds                                  0.000010  \n",
       "Nordea Invest Euro High Yield Bonds KL                                0.000010  \n",
       "Nykredit Invest Engros EuroKredit                                     0.000012  \n",
       "Nykredit Invest Bæredygtige Kreditobli                                0.000011  "
      ]
     },
     "execution_count": 17,
     "metadata": {},
     "output_type": "execute_result"
    }
   ],
   "source": [
    "top_5.cov()"
   ]
  },
  {
   "cell_type": "markdown",
   "metadata": {
    "id": "BX7FzAtLd5GH"
   },
   "source": [
    "### Strategy 2"
   ]
  },
  {
   "cell_type": "markdown",
   "metadata": {
    "id": "dP6rPPaS6-NC"
   },
   "source": [
    "### Question 4\n",
    "\n",
    "Pick up the top 200 assets with the highest Sharpe Ratios for the training set."
   ]
  },
  {
   "cell_type": "code",
   "execution_count": 20,
   "metadata": {
    "id": "pG5dHhuEd5GI",
    "scrolled": true
   },
   "outputs": [],
   "source": [
    "top_200 = sharpe_ratio.sort_values(ascending = False).head(200)\n",
    "top200_list = list(top_200.index)"
   ]
  },
  {
   "cell_type": "code",
   "execution_count": 21,
   "metadata": {
    "id": "9OF4Zlzjd5GI"
   },
   "outputs": [],
   "source": [
    "top_200 = train[train.columns.intersection(top200_list)]\n",
    "top_200 = top_200.iloc[:200,:]"
   ]
  },
  {
   "cell_type": "code",
   "execution_count": 22,
   "metadata": {
    "id": "T0IqB9WW2U7H"
   },
   "outputs": [],
   "source": [
    "corr_200 = top_200.corr(method=\"spearman\")"
   ]
  },
  {
   "cell_type": "markdown",
   "metadata": {
    "id": "Rsv3JtAS7Nj8"
   },
   "source": [
    "### Question 5\n",
    "\n",
    "Run the Minimum Spanning Tree method on this set a number of times until you have only about 4-5 assets left."
   ]
  },
  {
   "cell_type": "code",
   "execution_count": 23,
   "metadata": {
    "colab": {
     "base_uri": "https://localhost:8080/",
     "height": 423
    },
    "id": "Sn3R8NdC6vCT",
    "outputId": "a13e0588-79cf-4450-c4dd-9b7d4b2d2e86"
   },
   "outputs": [
    {
     "data": {
      "text/html": [
       "<div>\n",
       "<style scoped>\n",
       "    .dataframe tbody tr th:only-of-type {\n",
       "        vertical-align: middle;\n",
       "    }\n",
       "\n",
       "    .dataframe tbody tr th {\n",
       "        vertical-align: top;\n",
       "    }\n",
       "\n",
       "    .dataframe thead th {\n",
       "        text-align: right;\n",
       "    }\n",
       "</style>\n",
       "<table border=\"1\" class=\"dataframe\">\n",
       "  <thead>\n",
       "    <tr style=\"text-align: right;\">\n",
       "      <th></th>\n",
       "      <th>Asset1</th>\n",
       "      <th>Asset2</th>\n",
       "      <th>Corr</th>\n",
       "    </tr>\n",
       "  </thead>\n",
       "  <tbody>\n",
       "    <tr>\n",
       "      <th>0</th>\n",
       "      <td>BankInvest Danske Aktier W</td>\n",
       "      <td>BankInvest Danske Aktier W</td>\n",
       "      <td>1.000000</td>\n",
       "    </tr>\n",
       "    <tr>\n",
       "      <th>1</th>\n",
       "      <td>BankInvest Danske Aktier W</td>\n",
       "      <td>BankInvest Danske Aktier A</td>\n",
       "      <td>1.000000</td>\n",
       "    </tr>\n",
       "    <tr>\n",
       "      <th>2</th>\n",
       "      <td>BankInvest Danske Aktier W</td>\n",
       "      <td>BankInvest Almen Bolig udb</td>\n",
       "      <td>-0.068475</td>\n",
       "    </tr>\n",
       "    <tr>\n",
       "      <th>3</th>\n",
       "      <td>BankInvest Danske Aktier W</td>\n",
       "      <td>BankInvest Optima 10 Akk. KL</td>\n",
       "      <td>0.620318</td>\n",
       "    </tr>\n",
       "    <tr>\n",
       "      <th>4</th>\n",
       "      <td>BankInvest Danske Aktier W</td>\n",
       "      <td>BankInvest Lange Danske Obligationer W</td>\n",
       "      <td>-0.124905</td>\n",
       "    </tr>\n",
       "    <tr>\n",
       "      <th>...</th>\n",
       "      <td>...</td>\n",
       "      <td>...</td>\n",
       "      <td>...</td>\n",
       "    </tr>\n",
       "    <tr>\n",
       "      <th>39995</th>\n",
       "      <td>iShares Pfandbriefe ETF (DE)</td>\n",
       "      <td>iShares NASDAQ 100 ETF USD Acc</td>\n",
       "      <td>0.037519</td>\n",
       "    </tr>\n",
       "    <tr>\n",
       "      <th>39996</th>\n",
       "      <td>iShares Pfandbriefe ETF (DE)</td>\n",
       "      <td>Xtrackers MSCI Wld Consumer Dscrt ETF 1C</td>\n",
       "      <td>0.009468</td>\n",
       "    </tr>\n",
       "    <tr>\n",
       "      <th>39997</th>\n",
       "      <td>iShares Pfandbriefe ETF (DE)</td>\n",
       "      <td>iShares Core S&amp;P 500 ETF USD Acc</td>\n",
       "      <td>-0.002238</td>\n",
       "    </tr>\n",
       "    <tr>\n",
       "      <th>39998</th>\n",
       "      <td>iShares Pfandbriefe ETF (DE)</td>\n",
       "      <td>Xtrackers II EUR Corporate Bond ETF 1C</td>\n",
       "      <td>0.783150</td>\n",
       "    </tr>\n",
       "    <tr>\n",
       "      <th>39999</th>\n",
       "      <td>iShares Pfandbriefe ETF (DE)</td>\n",
       "      <td>iShares Pfandbriefe ETF (DE)</td>\n",
       "      <td>1.000000</td>\n",
       "    </tr>\n",
       "  </tbody>\n",
       "</table>\n",
       "<p>40000 rows × 3 columns</p>\n",
       "</div>"
      ],
      "text/plain": [
       "                             Asset1                                    Asset2  \\\n",
       "0        BankInvest Danske Aktier W                BankInvest Danske Aktier W   \n",
       "1        BankInvest Danske Aktier W                BankInvest Danske Aktier A   \n",
       "2        BankInvest Danske Aktier W                BankInvest Almen Bolig udb   \n",
       "3        BankInvest Danske Aktier W              BankInvest Optima 10 Akk. KL   \n",
       "4        BankInvest Danske Aktier W    BankInvest Lange Danske Obligationer W   \n",
       "...                             ...                                       ...   \n",
       "39995  iShares Pfandbriefe ETF (DE)            iShares NASDAQ 100 ETF USD Acc   \n",
       "39996  iShares Pfandbriefe ETF (DE)  Xtrackers MSCI Wld Consumer Dscrt ETF 1C   \n",
       "39997  iShares Pfandbriefe ETF (DE)          iShares Core S&P 500 ETF USD Acc   \n",
       "39998  iShares Pfandbriefe ETF (DE)    Xtrackers II EUR Corporate Bond ETF 1C   \n",
       "39999  iShares Pfandbriefe ETF (DE)              iShares Pfandbriefe ETF (DE)   \n",
       "\n",
       "           Corr  \n",
       "0      1.000000  \n",
       "1      1.000000  \n",
       "2     -0.068475  \n",
       "3      0.620318  \n",
       "4     -0.124905  \n",
       "...         ...  \n",
       "39995  0.037519  \n",
       "39996  0.009468  \n",
       "39997 -0.002238  \n",
       "39998  0.783150  \n",
       "39999  1.000000  \n",
       "\n",
       "[40000 rows x 3 columns]"
      ]
     },
     "execution_count": 23,
     "metadata": {},
     "output_type": "execute_result"
    }
   ],
   "source": [
    "corr_table = corr_200.stack().reset_index()\n",
    "corr_table.columns = [\"Asset1\", \"Asset2\", \"Corr\"]\n",
    "corr_table"
   ]
  },
  {
   "cell_type": "code",
   "execution_count": 31,
   "metadata": {
    "id": "-ueWgUWoeXS0"
   },
   "outputs": [],
   "source": [
    "import pandas as pd\n",
    "import numpy as np\n",
    "import networkx as nx\n",
    "\n",
    "from sklearn.decomposition import PCA\n",
    "\n",
    "\n",
    "def MinimumSpanningTree(dataset):\n",
    "    corr = dataset.corr(method=\"spearman\")              # calculate the correlation\n",
    "    distance_corr = (2*(1-corr))**0.5                   # calculate the distance\n",
    "    mask = np.triu(np.ones_like(corr, dtype=np.bool))   # get only the upper half of the matrix\n",
    "    distance_corr = distance_corr*mask \n",
    "   \n",
    "    # use the correlation matrix to create links\n",
    "    links = distance_corr.stack().reset_index(level=1)\n",
    "    links.columns = [\"var2\",\"value\"]\n",
    "    links = links.reset_index()\n",
    "    links = links.replace(0, np.nan)                                # drop 0 values from the matrix\n",
    "    links = links.dropna(how='any', axis=0)\n",
    "    links.columns = [\"var1\", \"var2\", \"value\"]                       # rename the columns\n",
    "    links_filtered = links.loc[(links[\"var1\"] != links[\"var2\"])]    # filter out self-correlations\n",
    "    \n",
    "    # Create the graph\n",
    "    G = nx.Graph() \n",
    "    for i in range(len(corr)):                                          # add nodes\n",
    "        G.add_node(corr.index[i])\n",
    "    tuples = list(links_filtered.itertuples(index=False, name=None))    # add edges with weight\n",
    "    G.add_weighted_edges_from(tuples)\n",
    "    \n",
    "    # Create a MST from the full graph\n",
    "    mst = nx.minimum_spanning_tree(G)\n",
    "    \n",
    "    # Save the nodes with degree one\n",
    "    degrees = [val for (node, val) in mst.degree()]\n",
    "    df = pd.DataFrame(degrees, corr.index)\n",
    "    df.columns = [\"degree\"]\n",
    "    subset = df[df[\"degree\"] == 1].index.tolist()\n",
    "\n",
    "    # Create a new dataframe with only the assets from the subset\n",
    "    subset_df = dataset.loc[:, dataset.columns.isin(subset)]\n",
    "    \n",
    "    # Calculate the average correlation of the subset\n",
    "    corr_subset = subset_df.corr(method=\"spearman\")\n",
    "    corr_avg=corr_subset.mean().mean()\n",
    "    \n",
    "    # Calculate the PDI for the subset\n",
    "    pca = PCA()\n",
    "    pca.fit(corr_subset)\n",
    "    value = 0\n",
    "    for i in range(1, corr_subset.shape[1]):\n",
    "        value = value + i*pca.explained_variance_ratio_[i-1]\n",
    "    PDI = 2*value - 1\n",
    "\n",
    "    return subset_df"
   ]
  },
  {
   "cell_type": "code",
   "execution_count": 32,
   "metadata": {
    "colab": {
     "base_uri": "https://localhost:8080/"
    },
    "id": "6B_ryobpeaLa",
    "outputId": "68a84644-c221-4d13-b310-8a0e4ba27ba5"
   },
   "outputs": [
    {
     "name": "stdout",
     "output_type": "stream",
     "text": [
      "     BI Private Equity  BLS Invest Danske Aktier KL  \\\n",
      "0            -0.000341                     0.040005   \n",
      "1             0.027318                     0.025952   \n",
      "2             0.062323                     0.005700   \n",
      "3            -0.020807                     0.015756   \n",
      "4             0.038824                     0.032036   \n",
      "..                 ...                          ...   \n",
      "246          -0.000517                    -0.001317   \n",
      "247          -0.008021                    -0.007248   \n",
      "248           0.024257                    -0.022774   \n",
      "249          -0.000255                     0.006707   \n",
      "250          -0.000764                     0.006434   \n",
      "\n",
      "     Danske Invest Bioteknologi Indeks KL  \\\n",
      "0                                0.119967   \n",
      "1                                0.023630   \n",
      "2                                0.030809   \n",
      "3                                0.011589   \n",
      "4                                0.034456   \n",
      "..                                    ...   \n",
      "246                             -0.001137   \n",
      "247                             -0.013719   \n",
      "248                             -0.056612   \n",
      "249                             -0.022471   \n",
      "250                             -0.002239   \n",
      "\n",
      "     HP Invest Danske Obligationer Akk KL W  Maj Invest Kontra W  \\\n",
      "0                                 -0.000185             0.008606   \n",
      "1                                 -0.001019            -0.010395   \n",
      "2                                  0.001206            -0.010565   \n",
      "3                                  0.000185             0.003498   \n",
      "4                                  0.000556            -0.006727   \n",
      "..                                      ...                  ...   \n",
      "246                                0.000681            -0.003773   \n",
      "247                                0.000850            -0.016323   \n",
      "248                               -0.000170            -0.004664   \n",
      "249                               -0.000340             0.007518   \n",
      "250                               -0.000170            -0.002001   \n",
      "\n",
      "     iShares EM Infrastructure ETF USD Dist  \n",
      "0                                  0.014290  \n",
      "1                                  0.012232  \n",
      "2                                 -0.012298  \n",
      "3                                  0.041806  \n",
      "4                                  0.055619  \n",
      "..                                      ...  \n",
      "246                               -0.009777  \n",
      "247                               -0.000918  \n",
      "248                                0.001876  \n",
      "249                                0.012807  \n",
      "250                                0.011991  \n",
      "\n",
      "[251 rows x 6 columns]\n"
     ]
    }
   ],
   "source": [
    "new_df = train\n",
    "while len(new_df.columns) > 6:\n",
    "    new_df = MinimumSpanningTree(new_df)\n",
    "print(new_df)"
   ]
  },
  {
   "cell_type": "code",
   "execution_count": 33,
   "metadata": {
    "colab": {
     "base_uri": "https://localhost:8080/",
     "height": 307
    },
    "id": "8jAcXo8MecgS",
    "outputId": "3067904b-6d7f-40b1-a16f-472a1058e9f3"
   },
   "outputs": [
    {
     "data": {
      "text/html": [
       "<div>\n",
       "<style scoped>\n",
       "    .dataframe tbody tr th:only-of-type {\n",
       "        vertical-align: middle;\n",
       "    }\n",
       "\n",
       "    .dataframe tbody tr th {\n",
       "        vertical-align: top;\n",
       "    }\n",
       "\n",
       "    .dataframe thead th {\n",
       "        text-align: right;\n",
       "    }\n",
       "</style>\n",
       "<table border=\"1\" class=\"dataframe\">\n",
       "  <thead>\n",
       "    <tr style=\"text-align: right;\">\n",
       "      <th></th>\n",
       "      <th>BI Private Equity</th>\n",
       "      <th>BLS Invest Danske Aktier KL</th>\n",
       "      <th>Danske Invest Bioteknologi Indeks KL</th>\n",
       "      <th>HP Invest Danske Obligationer Akk KL W</th>\n",
       "      <th>Maj Invest Kontra W</th>\n",
       "      <th>iShares EM Infrastructure ETF USD Dist</th>\n",
       "    </tr>\n",
       "  </thead>\n",
       "  <tbody>\n",
       "    <tr>\n",
       "      <th>BI Private Equity</th>\n",
       "      <td>3.162539e-04</td>\n",
       "      <td>-2.283904e-05</td>\n",
       "      <td>-4.392039e-05</td>\n",
       "      <td>4.464158e-07</td>\n",
       "      <td>-1.399327e-05</td>\n",
       "      <td>-0.000040</td>\n",
       "    </tr>\n",
       "    <tr>\n",
       "      <th>BLS Invest Danske Aktier KL</th>\n",
       "      <td>-2.283904e-05</td>\n",
       "      <td>2.844631e-04</td>\n",
       "      <td>3.499728e-04</td>\n",
       "      <td>3.127063e-08</td>\n",
       "      <td>5.442240e-07</td>\n",
       "      <td>0.000201</td>\n",
       "    </tr>\n",
       "    <tr>\n",
       "      <th>Danske Invest Bioteknologi Indeks KL</th>\n",
       "      <td>-4.392039e-05</td>\n",
       "      <td>3.499728e-04</td>\n",
       "      <td>1.548087e-03</td>\n",
       "      <td>3.329419e-07</td>\n",
       "      <td>2.468736e-05</td>\n",
       "      <td>0.000302</td>\n",
       "    </tr>\n",
       "    <tr>\n",
       "      <th>HP Invest Danske Obligationer Akk KL W</th>\n",
       "      <td>4.464158e-07</td>\n",
       "      <td>3.127063e-08</td>\n",
       "      <td>3.329419e-07</td>\n",
       "      <td>1.454530e-06</td>\n",
       "      <td>4.961505e-07</td>\n",
       "      <td>0.000002</td>\n",
       "    </tr>\n",
       "    <tr>\n",
       "      <th>Maj Invest Kontra W</th>\n",
       "      <td>-1.399327e-05</td>\n",
       "      <td>5.442240e-07</td>\n",
       "      <td>2.468736e-05</td>\n",
       "      <td>4.961505e-07</td>\n",
       "      <td>4.759307e-05</td>\n",
       "      <td>0.000034</td>\n",
       "    </tr>\n",
       "    <tr>\n",
       "      <th>iShares EM Infrastructure ETF USD Dist</th>\n",
       "      <td>-3.989423e-05</td>\n",
       "      <td>2.013346e-04</td>\n",
       "      <td>3.015353e-04</td>\n",
       "      <td>2.463697e-06</td>\n",
       "      <td>3.405250e-05</td>\n",
       "      <td>0.000661</td>\n",
       "    </tr>\n",
       "  </tbody>\n",
       "</table>\n",
       "</div>"
      ],
      "text/plain": [
       "                                        BI Private Equity  \\\n",
       "BI Private Equity                            3.162539e-04   \n",
       "BLS Invest Danske Aktier KL                 -2.283904e-05   \n",
       "Danske Invest Bioteknologi Indeks KL        -4.392039e-05   \n",
       "HP Invest Danske Obligationer Akk KL W       4.464158e-07   \n",
       "Maj Invest Kontra W                         -1.399327e-05   \n",
       "iShares EM Infrastructure ETF USD Dist      -3.989423e-05   \n",
       "\n",
       "                                        BLS Invest Danske Aktier KL  \\\n",
       "BI Private Equity                                     -2.283904e-05   \n",
       "BLS Invest Danske Aktier KL                            2.844631e-04   \n",
       "Danske Invest Bioteknologi Indeks KL                   3.499728e-04   \n",
       "HP Invest Danske Obligationer Akk KL W                 3.127063e-08   \n",
       "Maj Invest Kontra W                                    5.442240e-07   \n",
       "iShares EM Infrastructure ETF USD Dist                 2.013346e-04   \n",
       "\n",
       "                                        Danske Invest Bioteknologi Indeks KL  \\\n",
       "BI Private Equity                                              -4.392039e-05   \n",
       "BLS Invest Danske Aktier KL                                     3.499728e-04   \n",
       "Danske Invest Bioteknologi Indeks KL                            1.548087e-03   \n",
       "HP Invest Danske Obligationer Akk KL W                          3.329419e-07   \n",
       "Maj Invest Kontra W                                             2.468736e-05   \n",
       "iShares EM Infrastructure ETF USD Dist                          3.015353e-04   \n",
       "\n",
       "                                        HP Invest Danske Obligationer Akk KL W  \\\n",
       "BI Private Equity                                                 4.464158e-07   \n",
       "BLS Invest Danske Aktier KL                                       3.127063e-08   \n",
       "Danske Invest Bioteknologi Indeks KL                              3.329419e-07   \n",
       "HP Invest Danske Obligationer Akk KL W                            1.454530e-06   \n",
       "Maj Invest Kontra W                                               4.961505e-07   \n",
       "iShares EM Infrastructure ETF USD Dist                            2.463697e-06   \n",
       "\n",
       "                                        Maj Invest Kontra W  \\\n",
       "BI Private Equity                             -1.399327e-05   \n",
       "BLS Invest Danske Aktier KL                    5.442240e-07   \n",
       "Danske Invest Bioteknologi Indeks KL           2.468736e-05   \n",
       "HP Invest Danske Obligationer Akk KL W         4.961505e-07   \n",
       "Maj Invest Kontra W                            4.759307e-05   \n",
       "iShares EM Infrastructure ETF USD Dist         3.405250e-05   \n",
       "\n",
       "                                        iShares EM Infrastructure ETF USD Dist  \n",
       "BI Private Equity                                                    -0.000040  \n",
       "BLS Invest Danske Aktier KL                                           0.000201  \n",
       "Danske Invest Bioteknologi Indeks KL                                  0.000302  \n",
       "HP Invest Danske Obligationer Akk KL W                                0.000002  \n",
       "Maj Invest Kontra W                                                   0.000034  \n",
       "iShares EM Infrastructure ETF USD Dist                                0.000661  "
      ]
     },
     "execution_count": 33,
     "metadata": {},
     "output_type": "execute_result"
    }
   ],
   "source": [
    "new_df.cov()"
   ]
  },
  {
   "cell_type": "code",
   "execution_count": 34,
   "metadata": {
    "colab": {
     "base_uri": "https://localhost:8080/",
     "height": 293
    },
    "id": "OxxRnbo6eegV",
    "outputId": "7c22b94a-3bdf-4a82-d1aa-e17d69015095"
   },
   "outputs": [
    {
     "data": {
      "text/html": [
       "<div>\n",
       "<style scoped>\n",
       "    .dataframe tbody tr th:only-of-type {\n",
       "        vertical-align: middle;\n",
       "    }\n",
       "\n",
       "    .dataframe tbody tr th {\n",
       "        vertical-align: top;\n",
       "    }\n",
       "\n",
       "    .dataframe thead th {\n",
       "        text-align: right;\n",
       "    }\n",
       "</style>\n",
       "<table border=\"1\" class=\"dataframe\">\n",
       "  <thead>\n",
       "    <tr style=\"text-align: right;\">\n",
       "      <th></th>\n",
       "      <th>Maj Invest Danske Obligationer</th>\n",
       "      <th>Nordea Invest Engros Corporate Bonds</th>\n",
       "      <th>Nordea Invest Euro High Yield Bonds KL</th>\n",
       "      <th>Nykredit Invest Engros EuroKredit</th>\n",
       "      <th>Nykredit Invest Bæredygtige Kreditobli</th>\n",
       "    </tr>\n",
       "  </thead>\n",
       "  <tbody>\n",
       "    <tr>\n",
       "      <th>Maj Invest Danske Obligationer</th>\n",
       "      <td>0.000004</td>\n",
       "      <td>0.000004</td>\n",
       "      <td>0.000002</td>\n",
       "      <td>0.000004</td>\n",
       "      <td>0.000004</td>\n",
       "    </tr>\n",
       "    <tr>\n",
       "      <th>Nordea Invest Engros Corporate Bonds</th>\n",
       "      <td>0.000004</td>\n",
       "      <td>0.000012</td>\n",
       "      <td>0.000011</td>\n",
       "      <td>0.000011</td>\n",
       "      <td>0.000010</td>\n",
       "    </tr>\n",
       "    <tr>\n",
       "      <th>Nordea Invest Euro High Yield Bonds KL</th>\n",
       "      <td>0.000002</td>\n",
       "      <td>0.000011</td>\n",
       "      <td>0.000028</td>\n",
       "      <td>0.000011</td>\n",
       "      <td>0.000010</td>\n",
       "    </tr>\n",
       "    <tr>\n",
       "      <th>Nykredit Invest Engros EuroKredit</th>\n",
       "      <td>0.000004</td>\n",
       "      <td>0.000011</td>\n",
       "      <td>0.000011</td>\n",
       "      <td>0.000013</td>\n",
       "      <td>0.000012</td>\n",
       "    </tr>\n",
       "    <tr>\n",
       "      <th>Nykredit Invest Bæredygtige Kreditobli</th>\n",
       "      <td>0.000004</td>\n",
       "      <td>0.000010</td>\n",
       "      <td>0.000010</td>\n",
       "      <td>0.000012</td>\n",
       "      <td>0.000011</td>\n",
       "    </tr>\n",
       "  </tbody>\n",
       "</table>\n",
       "</div>"
      ],
      "text/plain": [
       "                                        Maj Invest Danske Obligationer  \\\n",
       "Maj Invest Danske Obligationer                                0.000004   \n",
       "Nordea Invest Engros Corporate Bonds                          0.000004   \n",
       "Nordea Invest Euro High Yield Bonds KL                        0.000002   \n",
       "Nykredit Invest Engros EuroKredit                             0.000004   \n",
       "Nykredit Invest Bæredygtige Kreditobli                        0.000004   \n",
       "\n",
       "                                        Nordea Invest Engros Corporate Bonds  \\\n",
       "Maj Invest Danske Obligationer                                      0.000004   \n",
       "Nordea Invest Engros Corporate Bonds                                0.000012   \n",
       "Nordea Invest Euro High Yield Bonds KL                              0.000011   \n",
       "Nykredit Invest Engros EuroKredit                                   0.000011   \n",
       "Nykredit Invest Bæredygtige Kreditobli                              0.000010   \n",
       "\n",
       "                                        Nordea Invest Euro High Yield Bonds KL  \\\n",
       "Maj Invest Danske Obligationer                                        0.000002   \n",
       "Nordea Invest Engros Corporate Bonds                                  0.000011   \n",
       "Nordea Invest Euro High Yield Bonds KL                                0.000028   \n",
       "Nykredit Invest Engros EuroKredit                                     0.000011   \n",
       "Nykredit Invest Bæredygtige Kreditobli                                0.000010   \n",
       "\n",
       "                                        Nykredit Invest Engros EuroKredit  \\\n",
       "Maj Invest Danske Obligationer                                   0.000004   \n",
       "Nordea Invest Engros Corporate Bonds                             0.000011   \n",
       "Nordea Invest Euro High Yield Bonds KL                           0.000011   \n",
       "Nykredit Invest Engros EuroKredit                                0.000013   \n",
       "Nykredit Invest Bæredygtige Kreditobli                           0.000012   \n",
       "\n",
       "                                        Nykredit Invest Bæredygtige Kreditobli  \n",
       "Maj Invest Danske Obligationer                                        0.000004  \n",
       "Nordea Invest Engros Corporate Bonds                                  0.000010  \n",
       "Nordea Invest Euro High Yield Bonds KL                                0.000010  \n",
       "Nykredit Invest Engros EuroKredit                                     0.000012  \n",
       "Nykredit Invest Bæredygtige Kreditobli                                0.000011  "
      ]
     },
     "execution_count": 34,
     "metadata": {},
     "output_type": "execute_result"
    }
   ],
   "source": [
    "top_5.cov()"
   ]
  },
  {
   "cell_type": "code",
   "execution_count": 35,
   "metadata": {
    "colab": {
     "base_uri": "https://localhost:8080/"
    },
    "id": "ULX5b2UReh3W",
    "outputId": "99d33040-db23-4f08-d766-631538860860"
   },
   "outputs": [
    {
     "data": {
      "text/plain": [
       "array([[0.16666667],\n",
       "       [0.16666667],\n",
       "       [0.16666667],\n",
       "       [0.16666667],\n",
       "       [0.16666667],\n",
       "       [0.16666667]])"
      ]
     },
     "execution_count": 35,
     "metadata": {},
     "output_type": "execute_result"
    }
   ],
   "source": [
    "weight=1/len(new_df.columns)\n",
    "weights = np.full((6, 1), weight, dtype=float)\n",
    "weights"
   ]
  },
  {
   "cell_type": "code",
   "execution_count": 36,
   "metadata": {
    "id": "DXSZvuOpelHE"
   },
   "outputs": [],
   "source": [
    "test_portfolio = weights * 100000"
   ]
  },
  {
   "cell_type": "code",
   "execution_count": 37,
   "metadata": {
    "colab": {
     "base_uri": "https://localhost:8080/"
    },
    "id": "z2g5VapMfCpB",
    "outputId": "1207f89a-ad78-4f07-8eb6-42e8222a7f61"
   },
   "outputs": [
    {
     "data": {
      "text/plain": [
       "array([[16666.66666667],\n",
       "       [16666.66666667],\n",
       "       [16666.66666667],\n",
       "       [16666.66666667],\n",
       "       [16666.66666667],\n",
       "       [16666.66666667]])"
      ]
     },
     "execution_count": 37,
     "metadata": {},
     "output_type": "execute_result"
    }
   ],
   "source": [
    "test_portfolio"
   ]
  },
  {
   "cell_type": "markdown",
   "metadata": {
    "id": "j853os1xIOWg"
   },
   "source": [
    "### Question 6\n",
    "\n",
    "Calculate the covariance matrix for these assets now and compare with the covariance matrix from strategy 1."
   ]
  },
  {
   "cell_type": "code",
   "execution_count": 38,
   "metadata": {
    "colab": {
     "base_uri": "https://localhost:8080/"
    },
    "id": "SurO4BudINU1",
    "outputId": "c2526bfb-4372-46e4-eefc-5f10e27a2696"
   },
   "outputs": [
    {
     "data": {
      "text/plain": [
       "['Danske Invest Danm In ex OMXC20 DKK d',\n",
       " 'Nordea Invest Lange Obligationer KL',\n",
       " 'Danske Invest Danm In x OMXC20 DKK Wd',\n",
       " 'Lån & Spar Invest - Obligationer',\n",
       " 'Danske Inv Flexin Danske Obl KL']"
      ]
     },
     "execution_count": 38,
     "metadata": {},
     "output_type": "execute_result"
    }
   ],
   "source": [
    "test_list = ['Danske Invest Danm In ex OMXC20 DKK d', 'Nordea Invest Lange Obligationer KL', 'Danske Invest Danm In x OMXC20 DKK Wd', 'Lån & Spar Invest - Obligationer', 'Danske Inv Flexin Danske Obl KL']\n",
    "test_list"
   ]
  },
  {
   "cell_type": "code",
   "execution_count": 39,
   "metadata": {
    "colab": {
     "base_uri": "https://localhost:8080/",
     "height": 441
    },
    "id": "t1oLSJ3aJNwd",
    "outputId": "c5785ef1-6ecc-427d-8686-6cf85007ecf3"
   },
   "outputs": [
    {
     "data": {
      "text/html": [
       "<div>\n",
       "<style scoped>\n",
       "    .dataframe tbody tr th:only-of-type {\n",
       "        vertical-align: middle;\n",
       "    }\n",
       "\n",
       "    .dataframe tbody tr th {\n",
       "        vertical-align: top;\n",
       "    }\n",
       "\n",
       "    .dataframe thead th {\n",
       "        text-align: right;\n",
       "    }\n",
       "</style>\n",
       "<table border=\"1\" class=\"dataframe\">\n",
       "  <thead>\n",
       "    <tr style=\"text-align: right;\">\n",
       "      <th></th>\n",
       "      <th>Danske Invest Danm In ex OMXC20 DKK d</th>\n",
       "      <th>Danske Invest Danm In x OMXC20 DKK Wd</th>\n",
       "      <th>Danske Inv Flexin Danske Obl KL</th>\n",
       "      <th>Lån &amp; Spar Invest - Obligationer</th>\n",
       "      <th>Nordea Invest Lange Obligationer KL</th>\n",
       "    </tr>\n",
       "  </thead>\n",
       "  <tbody>\n",
       "    <tr>\n",
       "      <th>0</th>\n",
       "      <td>0.026842</td>\n",
       "      <td>0.026842</td>\n",
       "      <td>-0.000395</td>\n",
       "      <td>-0.000111</td>\n",
       "      <td>0.002655</td>\n",
       "    </tr>\n",
       "    <tr>\n",
       "      <th>1</th>\n",
       "      <td>0.052388</td>\n",
       "      <td>0.052388</td>\n",
       "      <td>0.000395</td>\n",
       "      <td>0.000555</td>\n",
       "      <td>0.001040</td>\n",
       "    </tr>\n",
       "    <tr>\n",
       "      <th>2</th>\n",
       "      <td>-0.007053</td>\n",
       "      <td>-0.007053</td>\n",
       "      <td>-0.005921</td>\n",
       "      <td>-0.005765</td>\n",
       "      <td>-0.011619</td>\n",
       "    </tr>\n",
       "    <tr>\n",
       "      <th>3</th>\n",
       "      <td>-0.004941</td>\n",
       "      <td>-0.004941</td>\n",
       "      <td>0.004268</td>\n",
       "      <td>0.003680</td>\n",
       "      <td>0.011660</td>\n",
       "    </tr>\n",
       "    <tr>\n",
       "      <th>4</th>\n",
       "      <td>0.017587</td>\n",
       "      <td>0.017587</td>\n",
       "      <td>-0.001581</td>\n",
       "      <td>-0.002555</td>\n",
       "      <td>-0.005668</td>\n",
       "    </tr>\n",
       "    <tr>\n",
       "      <th>...</th>\n",
       "      <td>...</td>\n",
       "      <td>...</td>\n",
       "      <td>...</td>\n",
       "      <td>...</td>\n",
       "      <td>...</td>\n",
       "    </tr>\n",
       "    <tr>\n",
       "      <th>246</th>\n",
       "      <td>-0.004175</td>\n",
       "      <td>-0.004175</td>\n",
       "      <td>0.003406</td>\n",
       "      <td>0.001461</td>\n",
       "      <td>0.007413</td>\n",
       "    </tr>\n",
       "    <tr>\n",
       "      <th>247</th>\n",
       "      <td>0.008385</td>\n",
       "      <td>0.008385</td>\n",
       "      <td>-0.001261</td>\n",
       "      <td>-0.000561</td>\n",
       "      <td>-0.004396</td>\n",
       "    </tr>\n",
       "    <tr>\n",
       "      <th>248</th>\n",
       "      <td>-0.015954</td>\n",
       "      <td>-0.015954</td>\n",
       "      <td>-0.002913</td>\n",
       "      <td>-0.003706</td>\n",
       "      <td>-0.005663</td>\n",
       "    </tr>\n",
       "    <tr>\n",
       "      <th>249</th>\n",
       "      <td>0.010219</td>\n",
       "      <td>0.010219</td>\n",
       "      <td>-0.000195</td>\n",
       "      <td>0.000789</td>\n",
       "      <td>0.001448</td>\n",
       "    </tr>\n",
       "    <tr>\n",
       "      <th>250</th>\n",
       "      <td>0.003307</td>\n",
       "      <td>0.003307</td>\n",
       "      <td>-0.000584</td>\n",
       "      <td>-0.000338</td>\n",
       "      <td>-0.001060</td>\n",
       "    </tr>\n",
       "  </tbody>\n",
       "</table>\n",
       "<p>251 rows × 5 columns</p>\n",
       "</div>"
      ],
      "text/plain": [
       "     Danske Invest Danm In ex OMXC20 DKK d  \\\n",
       "0                                 0.026842   \n",
       "1                                 0.052388   \n",
       "2                                -0.007053   \n",
       "3                                -0.004941   \n",
       "4                                 0.017587   \n",
       "..                                     ...   \n",
       "246                              -0.004175   \n",
       "247                               0.008385   \n",
       "248                              -0.015954   \n",
       "249                               0.010219   \n",
       "250                               0.003307   \n",
       "\n",
       "     Danske Invest Danm In x OMXC20 DKK Wd  Danske Inv Flexin Danske Obl KL  \\\n",
       "0                                 0.026842                        -0.000395   \n",
       "1                                 0.052388                         0.000395   \n",
       "2                                -0.007053                        -0.005921   \n",
       "3                                -0.004941                         0.004268   \n",
       "4                                 0.017587                        -0.001581   \n",
       "..                                     ...                              ...   \n",
       "246                              -0.004175                         0.003406   \n",
       "247                               0.008385                        -0.001261   \n",
       "248                              -0.015954                        -0.002913   \n",
       "249                               0.010219                        -0.000195   \n",
       "250                               0.003307                        -0.000584   \n",
       "\n",
       "     Lån & Spar Invest - Obligationer  Nordea Invest Lange Obligationer KL  \n",
       "0                           -0.000111                             0.002655  \n",
       "1                            0.000555                             0.001040  \n",
       "2                           -0.005765                            -0.011619  \n",
       "3                            0.003680                             0.011660  \n",
       "4                           -0.002555                            -0.005668  \n",
       "..                                ...                                  ...  \n",
       "246                          0.001461                             0.007413  \n",
       "247                         -0.000561                            -0.004396  \n",
       "248                         -0.003706                            -0.005663  \n",
       "249                          0.000789                             0.001448  \n",
       "250                         -0.000338                            -0.001060  \n",
       "\n",
       "[251 rows x 5 columns]"
      ]
     },
     "execution_count": 39,
     "metadata": {},
     "output_type": "execute_result"
    }
   ],
   "source": [
    "top5_mst = train[train.columns.intersection(test_list)]\n",
    "top5_mst"
   ]
  },
  {
   "cell_type": "code",
   "execution_count": 40,
   "metadata": {
    "colab": {
     "base_uri": "https://localhost:8080/",
     "height": 275
    },
    "id": "HS-J9AmTJhS5",
    "outputId": "af0fabe3-9898-4f04-fb2e-5f0f5816d3c1"
   },
   "outputs": [
    {
     "data": {
      "text/html": [
       "<div>\n",
       "<style scoped>\n",
       "    .dataframe tbody tr th:only-of-type {\n",
       "        vertical-align: middle;\n",
       "    }\n",
       "\n",
       "    .dataframe tbody tr th {\n",
       "        vertical-align: top;\n",
       "    }\n",
       "\n",
       "    .dataframe thead th {\n",
       "        text-align: right;\n",
       "    }\n",
       "</style>\n",
       "<table border=\"1\" class=\"dataframe\">\n",
       "  <thead>\n",
       "    <tr style=\"text-align: right;\">\n",
       "      <th></th>\n",
       "      <th>Danske Invest Danm In ex OMXC20 DKK d</th>\n",
       "      <th>Danske Invest Danm In x OMXC20 DKK Wd</th>\n",
       "      <th>Danske Inv Flexin Danske Obl KL</th>\n",
       "      <th>Lån &amp; Spar Invest - Obligationer</th>\n",
       "      <th>Nordea Invest Lange Obligationer KL</th>\n",
       "    </tr>\n",
       "  </thead>\n",
       "  <tbody>\n",
       "    <tr>\n",
       "      <th>Danske Invest Danm In ex OMXC20 DKK d</th>\n",
       "      <td>0.000351</td>\n",
       "      <td>0.000351</td>\n",
       "      <td>-0.000006</td>\n",
       "      <td>-0.000006</td>\n",
       "      <td>-0.000014</td>\n",
       "    </tr>\n",
       "    <tr>\n",
       "      <th>Danske Invest Danm In x OMXC20 DKK Wd</th>\n",
       "      <td>0.000351</td>\n",
       "      <td>0.000351</td>\n",
       "      <td>-0.000006</td>\n",
       "      <td>-0.000006</td>\n",
       "      <td>-0.000014</td>\n",
       "    </tr>\n",
       "    <tr>\n",
       "      <th>Danske Inv Flexin Danske Obl KL</th>\n",
       "      <td>-0.000006</td>\n",
       "      <td>-0.000006</td>\n",
       "      <td>0.000008</td>\n",
       "      <td>0.000006</td>\n",
       "      <td>0.000013</td>\n",
       "    </tr>\n",
       "    <tr>\n",
       "      <th>Lån &amp; Spar Invest - Obligationer</th>\n",
       "      <td>-0.000006</td>\n",
       "      <td>-0.000006</td>\n",
       "      <td>0.000006</td>\n",
       "      <td>0.000006</td>\n",
       "      <td>0.000011</td>\n",
       "    </tr>\n",
       "    <tr>\n",
       "      <th>Nordea Invest Lange Obligationer KL</th>\n",
       "      <td>-0.000014</td>\n",
       "      <td>-0.000014</td>\n",
       "      <td>0.000013</td>\n",
       "      <td>0.000011</td>\n",
       "      <td>0.000025</td>\n",
       "    </tr>\n",
       "  </tbody>\n",
       "</table>\n",
       "</div>"
      ],
      "text/plain": [
       "                                       Danske Invest Danm In ex OMXC20 DKK d  \\\n",
       "Danske Invest Danm In ex OMXC20 DKK d                               0.000351   \n",
       "Danske Invest Danm In x OMXC20 DKK Wd                               0.000351   \n",
       "Danske Inv Flexin Danske Obl KL                                    -0.000006   \n",
       "Lån & Spar Invest - Obligationer                                   -0.000006   \n",
       "Nordea Invest Lange Obligationer KL                                -0.000014   \n",
       "\n",
       "                                       Danske Invest Danm In x OMXC20 DKK Wd  \\\n",
       "Danske Invest Danm In ex OMXC20 DKK d                               0.000351   \n",
       "Danske Invest Danm In x OMXC20 DKK Wd                               0.000351   \n",
       "Danske Inv Flexin Danske Obl KL                                    -0.000006   \n",
       "Lån & Spar Invest - Obligationer                                   -0.000006   \n",
       "Nordea Invest Lange Obligationer KL                                -0.000014   \n",
       "\n",
       "                                       Danske Inv Flexin Danske Obl KL  \\\n",
       "Danske Invest Danm In ex OMXC20 DKK d                        -0.000006   \n",
       "Danske Invest Danm In x OMXC20 DKK Wd                        -0.000006   \n",
       "Danske Inv Flexin Danske Obl KL                               0.000008   \n",
       "Lån & Spar Invest - Obligationer                              0.000006   \n",
       "Nordea Invest Lange Obligationer KL                           0.000013   \n",
       "\n",
       "                                       Lån & Spar Invest - Obligationer  \\\n",
       "Danske Invest Danm In ex OMXC20 DKK d                         -0.000006   \n",
       "Danske Invest Danm In x OMXC20 DKK Wd                         -0.000006   \n",
       "Danske Inv Flexin Danske Obl KL                                0.000006   \n",
       "Lån & Spar Invest - Obligationer                               0.000006   \n",
       "Nordea Invest Lange Obligationer KL                            0.000011   \n",
       "\n",
       "                                       Nordea Invest Lange Obligationer KL  \n",
       "Danske Invest Danm In ex OMXC20 DKK d                            -0.000014  \n",
       "Danske Invest Danm In x OMXC20 DKK Wd                            -0.000014  \n",
       "Danske Inv Flexin Danske Obl KL                                   0.000013  \n",
       "Lån & Spar Invest - Obligationer                                  0.000011  \n",
       "Nordea Invest Lange Obligationer KL                               0.000025  "
      ]
     },
     "execution_count": 40,
     "metadata": {},
     "output_type": "execute_result"
    }
   ],
   "source": [
    "top5_mst.cov()"
   ]
  },
  {
   "cell_type": "markdown",
   "metadata": {
    "id": "zwSpKwXlJyGa"
   },
   "source": [
    "### Question 7\n",
    "\n",
    "Calculate average return, std for the two strategies and compare."
   ]
  },
  {
   "cell_type": "code",
   "execution_count": 42,
   "metadata": {
    "colab": {
     "base_uri": "https://localhost:8080/"
    },
    "id": "xxQ9BBAMLRex",
    "outputId": "a9df9f5d-1842-4c7a-e08c-efa45d18edad"
   },
   "outputs": [
    {
     "name": "stdout",
     "output_type": "stream",
     "text": [
      "0.0673913651436826\n"
     ]
    }
   ],
   "source": [
    "#Strategy 1\n",
    "for i in range(len(top_5.columns)):\n",
    "\tavr_return= calc_geomean(top_5)\n",
    "\tann_avr_return_s1 = annualize_returns(avr_return, data_freq='weekly')\n",
    "\n",
    "print(np.mean(ann_avr_return_s1))"
   ]
  },
  {
   "cell_type": "code",
   "execution_count": 43,
   "metadata": {
    "colab": {
     "base_uri": "https://localhost:8080/"
    },
    "id": "pUnJx14HKT6Z",
    "outputId": "baa1c71b-2cd7-4ef5-8aac-dcc1faf8309a"
   },
   "outputs": [
    {
     "name": "stdout",
     "output_type": "stream",
     "text": [
      "0.0963710770127364\n"
     ]
    }
   ],
   "source": [
    "#Strategy 2\n",
    "for i in range(len(top5_mst.columns)):\n",
    "\tavr_return = calc_geomean(top5_mst)\n",
    "\tann_avr_return_s2 = annualize_returns(avr_return, data_freq='weekly')\n",
    "\n",
    "print(np.mean(ann_avr_return_s2))"
   ]
  },
  {
   "cell_type": "markdown",
   "metadata": {
    "id": "50qHmSXtMejF"
   },
   "source": [
    "### Question 8\n",
    "\n",
    "Calculate and compare the Sharpe ratio for the two strategies."
   ]
  },
  {
   "cell_type": "code",
   "execution_count": 44,
   "metadata": {
    "colab": {
     "base_uri": "https://localhost:8080/"
    },
    "id": "UccypC5YMeGj",
    "outputId": "249e56c6-49b4-4128-ad2d-e63aabc80155"
   },
   "outputs": [
    {
     "data": {
      "text/plain": [
       "2.628081708883318"
      ]
     },
     "execution_count": 44,
     "metadata": {},
     "output_type": "execute_result"
    }
   ],
   "source": [
    "#Strategy 1\n",
    "for i in range(len(top_5)):\n",
    "\tstddev = top_5.std()\n",
    "\tann_stddev_s1 = (annualize_stddev(stddev, data_freq='weekly'))\n",
    "\n",
    "sharpe_ratio_s1 = ann_avr_return_s1/ann_stddev_s1\n",
    "np.mean(sharpe_ratio_s1)"
   ]
  },
  {
   "cell_type": "code",
   "execution_count": 45,
   "metadata": {
    "colab": {
     "base_uri": "https://localhost:8080/"
    },
    "id": "FJxZswT1NfTr",
    "outputId": "93129c80-048f-44f9-e8ca-621176f41d6a"
   },
   "outputs": [
    {
     "data": {
      "text/plain": [
       "1.3886439733506994"
      ]
     },
     "execution_count": 45,
     "metadata": {},
     "output_type": "execute_result"
    }
   ],
   "source": [
    "#Strategy 2\n",
    "for i in range(len(top5_mst)):\n",
    "\tstddev = top5_mst.std()\n",
    "\tann_stddev_s2 = (annualize_stddev(stddev, data_freq='weekly'))\n",
    "\n",
    "sharpe_ratio_s2 = ann_avr_return_s2/ann_stddev_s2\n",
    "np.mean(sharpe_ratio_s2)"
   ]
  },
  {
   "cell_type": "markdown",
   "metadata": {
    "id": "wQBs-KtkOSVz"
   },
   "source": [
    "### Question 9\n",
    "\n",
    "Calculate and compare maximum drawdown for the two strategies."
   ]
  },
  {
   "cell_type": "code",
   "execution_count": 46,
   "metadata": {
    "id": "2O4tAjCcOUjC"
   },
   "outputs": [],
   "source": [
    "#Strategy 1\n",
    "av_return_s1 = []\n",
    "for i in range(len(top_5)):\n",
    "  av_return_s1.append(np.mean(top_5.iloc[i, :])+1)\n",
    "  av_return_s1[i] = av_return_s1[i]*1000000"
   ]
  },
  {
   "cell_type": "code",
   "execution_count": 47,
   "metadata": {
    "colab": {
     "base_uri": "https://localhost:8080/",
     "height": 423
    },
    "id": "Qhb5k9piZiBp",
    "outputId": "be67ed3a-d4fa-4854-85bf-74feb4807415"
   },
   "outputs": [
    {
     "data": {
      "text/html": [
       "<div>\n",
       "<style scoped>\n",
       "    .dataframe tbody tr th:only-of-type {\n",
       "        vertical-align: middle;\n",
       "    }\n",
       "\n",
       "    .dataframe tbody tr th {\n",
       "        vertical-align: top;\n",
       "    }\n",
       "\n",
       "    .dataframe thead th {\n",
       "        text-align: right;\n",
       "    }\n",
       "</style>\n",
       "<table border=\"1\" class=\"dataframe\">\n",
       "  <thead>\n",
       "    <tr style=\"text-align: right;\">\n",
       "      <th></th>\n",
       "      <th>returns</th>\n",
       "    </tr>\n",
       "  </thead>\n",
       "  <tbody>\n",
       "    <tr>\n",
       "      <th>0</th>\n",
       "      <td>1.001813e+06</td>\n",
       "    </tr>\n",
       "    <tr>\n",
       "      <th>1</th>\n",
       "      <td>1.007905e+06</td>\n",
       "    </tr>\n",
       "    <tr>\n",
       "      <th>2</th>\n",
       "      <td>1.006136e+06</td>\n",
       "    </tr>\n",
       "    <tr>\n",
       "      <th>3</th>\n",
       "      <td>1.009635e+06</td>\n",
       "    </tr>\n",
       "    <tr>\n",
       "      <th>4</th>\n",
       "      <td>1.004359e+06</td>\n",
       "    </tr>\n",
       "    <tr>\n",
       "      <th>...</th>\n",
       "      <td>...</td>\n",
       "    </tr>\n",
       "    <tr>\n",
       "      <th>246</th>\n",
       "      <td>1.003430e+06</td>\n",
       "    </tr>\n",
       "    <tr>\n",
       "      <th>247</th>\n",
       "      <td>9.971106e+05</td>\n",
       "    </tr>\n",
       "    <tr>\n",
       "      <th>248</th>\n",
       "      <td>9.980409e+05</td>\n",
       "    </tr>\n",
       "    <tr>\n",
       "      <th>249</th>\n",
       "      <td>1.002042e+06</td>\n",
       "    </tr>\n",
       "    <tr>\n",
       "      <th>250</th>\n",
       "      <td>9.999195e+05</td>\n",
       "    </tr>\n",
       "  </tbody>\n",
       "</table>\n",
       "<p>251 rows × 1 columns</p>\n",
       "</div>"
      ],
      "text/plain": [
       "          returns\n",
       "0    1.001813e+06\n",
       "1    1.007905e+06\n",
       "2    1.006136e+06\n",
       "3    1.009635e+06\n",
       "4    1.004359e+06\n",
       "..            ...\n",
       "246  1.003430e+06\n",
       "247  9.971106e+05\n",
       "248  9.980409e+05\n",
       "249  1.002042e+06\n",
       "250  9.999195e+05\n",
       "\n",
       "[251 rows x 1 columns]"
      ]
     },
     "execution_count": 47,
     "metadata": {},
     "output_type": "execute_result"
    }
   ],
   "source": [
    "s1_diff = pd.DataFrame(av_return_s1, columns = ['returns'])\n",
    "s1_diff"
   ]
  },
  {
   "cell_type": "code",
   "execution_count": 48,
   "metadata": {
    "colab": {
     "base_uri": "https://localhost:8080/",
     "height": 423
    },
    "id": "qqso3PdXW1df",
    "outputId": "7d436eb3-e24b-4a97-b61a-934648ba7999"
   },
   "outputs": [
    {
     "data": {
      "text/html": [
       "<div>\n",
       "<style scoped>\n",
       "    .dataframe tbody tr th:only-of-type {\n",
       "        vertical-align: middle;\n",
       "    }\n",
       "\n",
       "    .dataframe tbody tr th {\n",
       "        vertical-align: top;\n",
       "    }\n",
       "\n",
       "    .dataframe thead th {\n",
       "        text-align: right;\n",
       "    }\n",
       "</style>\n",
       "<table border=\"1\" class=\"dataframe\">\n",
       "  <thead>\n",
       "    <tr style=\"text-align: right;\">\n",
       "      <th></th>\n",
       "      <th>returns</th>\n",
       "      <th>difference</th>\n",
       "    </tr>\n",
       "  </thead>\n",
       "  <tbody>\n",
       "    <tr>\n",
       "      <th>0</th>\n",
       "      <td>1.001813e+06</td>\n",
       "      <td>0.000000</td>\n",
       "    </tr>\n",
       "    <tr>\n",
       "      <th>1</th>\n",
       "      <td>1.007905e+06</td>\n",
       "      <td>6092.230132</td>\n",
       "    </tr>\n",
       "    <tr>\n",
       "      <th>2</th>\n",
       "      <td>1.006136e+06</td>\n",
       "      <td>-1768.508732</td>\n",
       "    </tr>\n",
       "    <tr>\n",
       "      <th>3</th>\n",
       "      <td>1.009635e+06</td>\n",
       "      <td>3498.423875</td>\n",
       "    </tr>\n",
       "    <tr>\n",
       "      <th>4</th>\n",
       "      <td>1.004359e+06</td>\n",
       "      <td>-5276.258413</td>\n",
       "    </tr>\n",
       "    <tr>\n",
       "      <th>...</th>\n",
       "      <td>...</td>\n",
       "      <td>...</td>\n",
       "    </tr>\n",
       "    <tr>\n",
       "      <th>246</th>\n",
       "      <td>1.003430e+06</td>\n",
       "      <td>3129.552134</td>\n",
       "    </tr>\n",
       "    <tr>\n",
       "      <th>247</th>\n",
       "      <td>9.971106e+05</td>\n",
       "      <td>-6319.243258</td>\n",
       "    </tr>\n",
       "    <tr>\n",
       "      <th>248</th>\n",
       "      <td>9.980409e+05</td>\n",
       "      <td>930.302671</td>\n",
       "    </tr>\n",
       "    <tr>\n",
       "      <th>249</th>\n",
       "      <td>1.002042e+06</td>\n",
       "      <td>4001.499953</td>\n",
       "    </tr>\n",
       "    <tr>\n",
       "      <th>250</th>\n",
       "      <td>9.999195e+05</td>\n",
       "      <td>-2122.923252</td>\n",
       "    </tr>\n",
       "  </tbody>\n",
       "</table>\n",
       "<p>251 rows × 2 columns</p>\n",
       "</div>"
      ],
      "text/plain": [
       "          returns   difference\n",
       "0    1.001813e+06     0.000000\n",
       "1    1.007905e+06  6092.230132\n",
       "2    1.006136e+06 -1768.508732\n",
       "3    1.009635e+06  3498.423875\n",
       "4    1.004359e+06 -5276.258413\n",
       "..            ...          ...\n",
       "246  1.003430e+06  3129.552134\n",
       "247  9.971106e+05 -6319.243258\n",
       "248  9.980409e+05   930.302671\n",
       "249  1.002042e+06  4001.499953\n",
       "250  9.999195e+05 -2122.923252\n",
       "\n",
       "[251 rows x 2 columns]"
      ]
     },
     "execution_count": 48,
     "metadata": {},
     "output_type": "execute_result"
    }
   ],
   "source": [
    "s1_diff['difference'] = 0\n",
    "for i in range(len(s1_diff)):\n",
    "  if i-1 == -1:\n",
    "    s1_diff.iloc[i, 1] = 0\n",
    "  else:\n",
    "    s1_diff.iloc[i, 1] = s1_diff.iloc[i, 0] - s1_diff.iloc[i-1, 0]\n",
    "s1_diff"
   ]
  },
  {
   "cell_type": "code",
   "execution_count": 49,
   "metadata": {
    "colab": {
     "base_uri": "https://localhost:8080/",
     "height": 282
    },
    "id": "hICehpy0dkQw",
    "outputId": "ef76a445-012d-4921-8c71-899aa19743ba"
   },
   "outputs": [
    {
     "data": {
      "text/plain": [
       "<matplotlib.axes._subplots.AxesSubplot at 0x7f90db2a61f0>"
      ]
     },
     "execution_count": 49,
     "metadata": {},
     "output_type": "execute_result"
    },
    {
     "data": {
      "image/png": "[encoded data removed]",
      "text/plain": [
       "<Figure size 432x288 with 1 Axes>"
      ]
     },
     "metadata": {
      "needs_background": "light"
     },
     "output_type": "display_data"
    }
   ],
   "source": [
    "s1_diff.difference.plot()"
   ]
  },
  {
   "cell_type": "code",
   "execution_count": 50,
   "metadata": {
    "colab": {
     "base_uri": "https://localhost:8080/"
    },
    "id": "Ex8ffa6NeAdB",
    "outputId": "e4959305-3167-448c-f5ee-894581089eaa"
   },
   "outputs": [
    {
     "data": {
      "text/plain": [
       "-15995.53838833503"
      ]
     },
     "execution_count": 50,
     "metadata": {},
     "output_type": "execute_result"
    }
   ],
   "source": [
    "min(s1_diff.difference)"
   ]
  },
  {
   "cell_type": "code",
   "execution_count": 51,
   "metadata": {
    "id": "qi5XhHtHPtzu"
   },
   "outputs": [],
   "source": [
    "#Strategy 2\n",
    "av_return_s2 = []\n",
    "for i in range(len(top5_mst)):\n",
    "  av_return_s2.append(np.mean(top5_mst.iloc[i, :])+1)\n",
    "  av_return_s2[i] = av_return_s2[i]*1000000"
   ]
  },
  {
   "cell_type": "code",
   "execution_count": 52,
   "metadata": {
    "colab": {
     "base_uri": "https://localhost:8080/",
     "height": 423
    },
    "id": "-eV8ICu3P1ed",
    "outputId": "ddc19305-12ae-4673-eb76-d938156d8f0e"
   },
   "outputs": [
    {
     "data": {
      "text/html": [
       "<div>\n",
       "<style scoped>\n",
       "    .dataframe tbody tr th:only-of-type {\n",
       "        vertical-align: middle;\n",
       "    }\n",
       "\n",
       "    .dataframe tbody tr th {\n",
       "        vertical-align: top;\n",
       "    }\n",
       "\n",
       "    .dataframe thead th {\n",
       "        text-align: right;\n",
       "    }\n",
       "</style>\n",
       "<table border=\"1\" class=\"dataframe\">\n",
       "  <thead>\n",
       "    <tr style=\"text-align: right;\">\n",
       "      <th></th>\n",
       "      <th>returns</th>\n",
       "    </tr>\n",
       "  </thead>\n",
       "  <tbody>\n",
       "    <tr>\n",
       "      <th>0</th>\n",
       "      <td>1.011167e+06</td>\n",
       "    </tr>\n",
       "    <tr>\n",
       "      <th>1</th>\n",
       "      <td>1.021353e+06</td>\n",
       "    </tr>\n",
       "    <tr>\n",
       "      <th>2</th>\n",
       "      <td>9.925178e+05</td>\n",
       "    </tr>\n",
       "    <tr>\n",
       "      <th>3</th>\n",
       "      <td>1.001945e+06</td>\n",
       "    </tr>\n",
       "    <tr>\n",
       "      <th>4</th>\n",
       "      <td>1.005074e+06</td>\n",
       "    </tr>\n",
       "    <tr>\n",
       "      <th>...</th>\n",
       "      <td>...</td>\n",
       "    </tr>\n",
       "    <tr>\n",
       "      <th>246</th>\n",
       "      <td>1.000786e+06</td>\n",
       "    </tr>\n",
       "    <tr>\n",
       "      <th>247</th>\n",
       "      <td>1.002110e+06</td>\n",
       "    </tr>\n",
       "    <tr>\n",
       "      <th>248</th>\n",
       "      <td>9.911621e+05</td>\n",
       "    </tr>\n",
       "    <tr>\n",
       "      <th>249</th>\n",
       "      <td>1.004496e+06</td>\n",
       "    </tr>\n",
       "    <tr>\n",
       "      <th>250</th>\n",
       "      <td>1.000926e+06</td>\n",
       "    </tr>\n",
       "  </tbody>\n",
       "</table>\n",
       "<p>251 rows × 1 columns</p>\n",
       "</div>"
      ],
      "text/plain": [
       "          returns\n",
       "0    1.011167e+06\n",
       "1    1.021353e+06\n",
       "2    9.925178e+05\n",
       "3    1.001945e+06\n",
       "4    1.005074e+06\n",
       "..            ...\n",
       "246  1.000786e+06\n",
       "247  1.002110e+06\n",
       "248  9.911621e+05\n",
       "249  1.004496e+06\n",
       "250  1.000926e+06\n",
       "\n",
       "[251 rows x 1 columns]"
      ]
     },
     "execution_count": 52,
     "metadata": {},
     "output_type": "execute_result"
    }
   ],
   "source": [
    "s2_diff = pd.DataFrame(av_return_s2, columns = ['returns'])\n",
    "s2_diff"
   ]
  },
  {
   "cell_type": "code",
   "execution_count": 53,
   "metadata": {
    "colab": {
     "base_uri": "https://localhost:8080/",
     "height": 423
    },
    "id": "fwho2vZyP96e",
    "outputId": "1d714ded-94be-43f4-81d5-6dab88f18a4f"
   },
   "outputs": [
    {
     "data": {
      "text/html": [
       "<div>\n",
       "<style scoped>\n",
       "    .dataframe tbody tr th:only-of-type {\n",
       "        vertical-align: middle;\n",
       "    }\n",
       "\n",
       "    .dataframe tbody tr th {\n",
       "        vertical-align: top;\n",
       "    }\n",
       "\n",
       "    .dataframe thead th {\n",
       "        text-align: right;\n",
       "    }\n",
       "</style>\n",
       "<table border=\"1\" class=\"dataframe\">\n",
       "  <thead>\n",
       "    <tr style=\"text-align: right;\">\n",
       "      <th></th>\n",
       "      <th>returns</th>\n",
       "      <th>difference</th>\n",
       "    </tr>\n",
       "  </thead>\n",
       "  <tbody>\n",
       "    <tr>\n",
       "      <th>0</th>\n",
       "      <td>1.011167e+06</td>\n",
       "      <td>0.000000</td>\n",
       "    </tr>\n",
       "    <tr>\n",
       "      <th>1</th>\n",
       "      <td>1.021353e+06</td>\n",
       "      <td>10186.582926</td>\n",
       "    </tr>\n",
       "    <tr>\n",
       "      <th>2</th>\n",
       "      <td>9.925178e+05</td>\n",
       "      <td>-28835.357349</td>\n",
       "    </tr>\n",
       "    <tr>\n",
       "      <th>3</th>\n",
       "      <td>1.001945e+06</td>\n",
       "      <td>9427.301588</td>\n",
       "    </tr>\n",
       "    <tr>\n",
       "      <th>4</th>\n",
       "      <td>1.005074e+06</td>\n",
       "      <td>3128.803354</td>\n",
       "    </tr>\n",
       "    <tr>\n",
       "      <th>...</th>\n",
       "      <td>...</td>\n",
       "      <td>...</td>\n",
       "    </tr>\n",
       "    <tr>\n",
       "      <th>246</th>\n",
       "      <td>1.000786e+06</td>\n",
       "      <td>-4079.683985</td>\n",
       "    </tr>\n",
       "    <tr>\n",
       "      <th>247</th>\n",
       "      <td>1.002110e+06</td>\n",
       "      <td>1324.348937</td>\n",
       "    </tr>\n",
       "    <tr>\n",
       "      <th>248</th>\n",
       "      <td>9.911621e+05</td>\n",
       "      <td>-10948.297848</td>\n",
       "    </tr>\n",
       "    <tr>\n",
       "      <th>249</th>\n",
       "      <td>1.004496e+06</td>\n",
       "      <td>13333.828035</td>\n",
       "    </tr>\n",
       "    <tr>\n",
       "      <th>250</th>\n",
       "      <td>1.000926e+06</td>\n",
       "      <td>-3569.683023</td>\n",
       "    </tr>\n",
       "  </tbody>\n",
       "</table>\n",
       "<p>251 rows × 2 columns</p>\n",
       "</div>"
      ],
      "text/plain": [
       "          returns    difference\n",
       "0    1.011167e+06      0.000000\n",
       "1    1.021353e+06  10186.582926\n",
       "2    9.925178e+05 -28835.357349\n",
       "3    1.001945e+06   9427.301588\n",
       "4    1.005074e+06   3128.803354\n",
       "..            ...           ...\n",
       "246  1.000786e+06  -4079.683985\n",
       "247  1.002110e+06   1324.348937\n",
       "248  9.911621e+05 -10948.297848\n",
       "249  1.004496e+06  13333.828035\n",
       "250  1.000926e+06  -3569.683023\n",
       "\n",
       "[251 rows x 2 columns]"
      ]
     },
     "execution_count": 53,
     "metadata": {},
     "output_type": "execute_result"
    }
   ],
   "source": [
    "s2_diff['difference'] = 0\n",
    "for i in range(len(s2_diff)):\n",
    "  if i-1 == -1:\n",
    "    s2_diff.iloc[i, 1] = 0\n",
    "  else:\n",
    "    s2_diff.iloc[i, 1] = s2_diff.iloc[i, 0] - s2_diff.iloc[i-1, 0]\n",
    "s2_diff"
   ]
  },
  {
   "cell_type": "code",
   "execution_count": 54,
   "metadata": {
    "colab": {
     "base_uri": "https://localhost:8080/",
     "height": 282
    },
    "id": "879Y1Q8iQDWK",
    "outputId": "c0b00ee5-1831-485b-a695-9ca4061b2a56"
   },
   "outputs": [
    {
     "data": {
      "text/plain": [
       "<matplotlib.axes._subplots.AxesSubplot at 0x7f90c6747ac0>"
      ]
     },
     "execution_count": 54,
     "metadata": {},
     "output_type": "execute_result"
    },
    {
     "data": {
      "image/png": "[encoded data removed]",
      "text/plain": [
       "<Figure size 432x288 with 1 Axes>"
      ]
     },
     "metadata": {
      "needs_background": "light"
     },
     "output_type": "display_data"
    }
   ],
   "source": [
    "s2_diff.difference.plot()"
   ]
  },
  {
   "cell_type": "code",
   "execution_count": 55,
   "metadata": {
    "colab": {
     "base_uri": "https://localhost:8080/"
    },
    "id": "gfkXLNSYQEnF",
    "outputId": "3e48758c-5f6d-41c4-ee88-65702e8a242e"
   },
   "outputs": [
    {
     "data": {
      "text/plain": [
       "-31808.756899318658"
      ]
     },
     "execution_count": 55,
     "metadata": {},
     "output_type": "execute_result"
    }
   ],
   "source": [
    "min(s2_diff.difference)"
   ]
  },
  {
   "cell_type": "markdown",
   "metadata": {
    "id": "ZJBu8ApBd5GX"
   },
   "source": [
    "## Hierarchical Clustering\n",
    "\n",
    "Continue now with the top 200 assets with the highest Sharpe Ratios for the training set."
   ]
  },
  {
   "cell_type": "markdown",
   "metadata": {
    "id": "qhxhgkjhd5GY"
   },
   "source": [
    "### Strategy 3"
   ]
  },
  {
   "cell_type": "markdown",
   "metadata": {
    "id": "X15bd2hQd5GZ"
   },
   "source": [
    "### Question 10\n",
    "\n",
    "Run the Hierarchical Clustering method on this set to make three clusters."
   ]
  },
  {
   "cell_type": "code",
   "execution_count": 56,
   "metadata": {
    "colab": {
     "base_uri": "https://localhost:8080/",
     "height": 342
    },
    "id": "ZYofbur9d5GZ",
    "outputId": "42874444-2f26-493b-cd8e-183db2773fb4"
   },
   "outputs": [
    {
     "data": {
      "text/html": [
       "<div>\n",
       "<style scoped>\n",
       "    .dataframe tbody tr th:only-of-type {\n",
       "        vertical-align: middle;\n",
       "    }\n",
       "\n",
       "    .dataframe tbody tr th {\n",
       "        vertical-align: top;\n",
       "    }\n",
       "\n",
       "    .dataframe thead th {\n",
       "        text-align: right;\n",
       "    }\n",
       "</style>\n",
       "<table border=\"1\" class=\"dataframe\">\n",
       "  <thead>\n",
       "    <tr style=\"text-align: right;\">\n",
       "      <th></th>\n",
       "      <th>BankInvest Danske Aktier W</th>\n",
       "      <th>BankInvest Danske Aktier A</th>\n",
       "      <th>BankInvest Almen Bolig udb</th>\n",
       "      <th>BankInvest Optima 10 Akk. KL</th>\n",
       "      <th>BankInvest Lange Danske Obligationer W</th>\n",
       "      <th>BankInvest Korte Danske Obligationer W</th>\n",
       "      <th>BankInvest Lange Danske Obligationer A</th>\n",
       "      <th>BankInvest Korte Danske Obl Akk A</th>\n",
       "      <th>BankInvest Korte Danske Obligationer A</th>\n",
       "      <th>BankInvest Korte Danske Obl Akk W</th>\n",
       "      <th>...</th>\n",
       "      <th>iShares Core S&amp;P 500 ETF USD Dist</th>\n",
       "      <th>Xtrackers MSCI Wld Info Tech ETF 1C</th>\n",
       "      <th>Xtrackers MSCI Wld Consumer Stp ETF 1C</th>\n",
       "      <th>Xtrackers MSCI World Health Care ETF 1C</th>\n",
       "      <th>iShares MSCI USA ETF USD Acc</th>\n",
       "      <th>iShares NASDAQ 100 ETF USD Acc</th>\n",
       "      <th>Xtrackers MSCI Wld Consumer Dscrt ETF 1C</th>\n",
       "      <th>iShares Core S&amp;P 500 ETF USD Acc</th>\n",
       "      <th>Xtrackers II EUR Corporate Bond ETF 1C</th>\n",
       "      <th>iShares Pfandbriefe ETF (DE)</th>\n",
       "    </tr>\n",
       "  </thead>\n",
       "  <tbody>\n",
       "    <tr>\n",
       "      <th>0</th>\n",
       "      <td>0.127848</td>\n",
       "      <td>0.127848</td>\n",
       "      <td>0.001526</td>\n",
       "      <td>0.037683</td>\n",
       "      <td>-0.002580</td>\n",
       "      <td>0.002254</td>\n",
       "      <td>-0.002580</td>\n",
       "      <td>-0.001790</td>\n",
       "      <td>0.002254</td>\n",
       "      <td>-0.001790</td>\n",
       "      <td>...</td>\n",
       "      <td>0.154598</td>\n",
       "      <td>0.126431</td>\n",
       "      <td>0.011931</td>\n",
       "      <td>0.111747</td>\n",
       "      <td>0.159913</td>\n",
       "      <td>0.186329</td>\n",
       "      <td>0.148350</td>\n",
       "      <td>0.154652</td>\n",
       "      <td>0.017443</td>\n",
       "      <td>0.017164</td>\n",
       "    </tr>\n",
       "    <tr>\n",
       "      <th>1</th>\n",
       "      <td>0.056193</td>\n",
       "      <td>0.056193</td>\n",
       "      <td>-0.003849</td>\n",
       "      <td>0.002550</td>\n",
       "      <td>-0.001953</td>\n",
       "      <td>-0.002841</td>\n",
       "      <td>-0.001953</td>\n",
       "      <td>-0.003951</td>\n",
       "      <td>-0.002841</td>\n",
       "      <td>-0.003951</td>\n",
       "      <td>...</td>\n",
       "      <td>0.012185</td>\n",
       "      <td>0.061412</td>\n",
       "      <td>-0.063880</td>\n",
       "      <td>0.011412</td>\n",
       "      <td>0.014811</td>\n",
       "      <td>0.079584</td>\n",
       "      <td>0.078238</td>\n",
       "      <td>0.012225</td>\n",
       "      <td>0.025171</td>\n",
       "      <td>0.006155</td>\n",
       "    </tr>\n",
       "    <tr>\n",
       "      <th>2</th>\n",
       "      <td>-0.103137</td>\n",
       "      <td>-0.103137</td>\n",
       "      <td>-0.006290</td>\n",
       "      <td>-0.045800</td>\n",
       "      <td>-0.111668</td>\n",
       "      <td>-0.010446</td>\n",
       "      <td>-0.111668</td>\n",
       "      <td>-0.003690</td>\n",
       "      <td>-0.010446</td>\n",
       "      <td>-0.003690</td>\n",
       "      <td>...</td>\n",
       "      <td>0.014239</td>\n",
       "      <td>0.104611</td>\n",
       "      <td>-0.048795</td>\n",
       "      <td>-0.161109</td>\n",
       "      <td>0.017119</td>\n",
       "      <td>0.040543</td>\n",
       "      <td>0.069918</td>\n",
       "      <td>0.014650</td>\n",
       "      <td>0.052152</td>\n",
       "      <td>0.014957</td>\n",
       "    </tr>\n",
       "    <tr>\n",
       "      <th>3</th>\n",
       "      <td>0.121916</td>\n",
       "      <td>0.121916</td>\n",
       "      <td>0.006462</td>\n",
       "      <td>0.024272</td>\n",
       "      <td>0.037685</td>\n",
       "      <td>0.007157</td>\n",
       "      <td>0.037685</td>\n",
       "      <td>0.006122</td>\n",
       "      <td>0.007157</td>\n",
       "      <td>0.006122</td>\n",
       "      <td>...</td>\n",
       "      <td>-0.092833</td>\n",
       "      <td>-0.033502</td>\n",
       "      <td>-0.053549</td>\n",
       "      <td>-0.031223</td>\n",
       "      <td>-0.088077</td>\n",
       "      <td>-0.041566</td>\n",
       "      <td>-0.029094</td>\n",
       "      <td>-0.092805</td>\n",
       "      <td>0.042196</td>\n",
       "      <td>0.013715</td>\n",
       "    </tr>\n",
       "    <tr>\n",
       "      <th>4</th>\n",
       "      <td>0.134364</td>\n",
       "      <td>0.134364</td>\n",
       "      <td>-0.009554</td>\n",
       "      <td>-0.013178</td>\n",
       "      <td>-0.039456</td>\n",
       "      <td>-0.008817</td>\n",
       "      <td>-0.039456</td>\n",
       "      <td>-0.008406</td>\n",
       "      <td>-0.008817</td>\n",
       "      <td>-0.008406</td>\n",
       "      <td>...</td>\n",
       "      <td>0.083906</td>\n",
       "      <td>0.113736</td>\n",
       "      <td>0.025765</td>\n",
       "      <td>-0.008568</td>\n",
       "      <td>0.085058</td>\n",
       "      <td>0.102902</td>\n",
       "      <td>0.109736</td>\n",
       "      <td>0.084196</td>\n",
       "      <td>0.008286</td>\n",
       "      <td>-0.002403</td>\n",
       "    </tr>\n",
       "  </tbody>\n",
       "</table>\n",
       "<p>5 rows × 200 columns</p>\n",
       "</div>"
      ],
      "text/plain": [
       "   BankInvest Danske Aktier W  BankInvest Danske Aktier A  \\\n",
       "0                    0.127848                    0.127848   \n",
       "1                    0.056193                    0.056193   \n",
       "2                   -0.103137                   -0.103137   \n",
       "3                    0.121916                    0.121916   \n",
       "4                    0.134364                    0.134364   \n",
       "\n",
       "   BankInvest Almen Bolig udb  BankInvest Optima 10 Akk. KL  \\\n",
       "0                    0.001526                      0.037683   \n",
       "1                   -0.003849                      0.002550   \n",
       "2                   -0.006290                     -0.045800   \n",
       "3                    0.006462                      0.024272   \n",
       "4                   -0.009554                     -0.013178   \n",
       "\n",
       "   BankInvest Lange Danske Obligationer W  \\\n",
       "0                               -0.002580   \n",
       "1                               -0.001953   \n",
       "2                               -0.111668   \n",
       "3                                0.037685   \n",
       "4                               -0.039456   \n",
       "\n",
       "   BankInvest Korte Danske Obligationer W  \\\n",
       "0                                0.002254   \n",
       "1                               -0.002841   \n",
       "2                               -0.010446   \n",
       "3                                0.007157   \n",
       "4                               -0.008817   \n",
       "\n",
       "   BankInvest Lange Danske Obligationer A  BankInvest Korte Danske Obl Akk A  \\\n",
       "0                               -0.002580                          -0.001790   \n",
       "1                               -0.001953                          -0.003951   \n",
       "2                               -0.111668                          -0.003690   \n",
       "3                                0.037685                           0.006122   \n",
       "4                               -0.039456                          -0.008406   \n",
       "\n",
       "   BankInvest Korte Danske Obligationer A  BankInvest Korte Danske Obl Akk W  \\\n",
       "0                                0.002254                          -0.001790   \n",
       "1                               -0.002841                          -0.003951   \n",
       "2                               -0.010446                          -0.003690   \n",
       "3                                0.007157                           0.006122   \n",
       "4                               -0.008817                          -0.008406   \n",
       "\n",
       "   ...  iShares Core S&P 500 ETF USD Dist  \\\n",
       "0  ...                           0.154598   \n",
       "1  ...                           0.012185   \n",
       "2  ...                           0.014239   \n",
       "3  ...                          -0.092833   \n",
       "4  ...                           0.083906   \n",
       "\n",
       "   Xtrackers MSCI Wld Info Tech ETF 1C  \\\n",
       "0                             0.126431   \n",
       "1                             0.061412   \n",
       "2                             0.104611   \n",
       "3                            -0.033502   \n",
       "4                             0.113736   \n",
       "\n",
       "   Xtrackers MSCI Wld Consumer Stp ETF 1C  \\\n",
       "0                                0.011931   \n",
       "1                               -0.063880   \n",
       "2                               -0.048795   \n",
       "3                               -0.053549   \n",
       "4                                0.025765   \n",
       "\n",
       "   Xtrackers MSCI World Health Care ETF 1C  iShares MSCI USA ETF USD Acc  \\\n",
       "0                                 0.111747                      0.159913   \n",
       "1                                 0.011412                      0.014811   \n",
       "2                                -0.161109                      0.017119   \n",
       "3                                -0.031223                     -0.088077   \n",
       "4                                -0.008568                      0.085058   \n",
       "\n",
       "   iShares NASDAQ 100 ETF USD Acc  Xtrackers MSCI Wld Consumer Dscrt ETF 1C  \\\n",
       "0                        0.186329                                  0.148350   \n",
       "1                        0.079584                                  0.078238   \n",
       "2                        0.040543                                  0.069918   \n",
       "3                       -0.041566                                 -0.029094   \n",
       "4                        0.102902                                  0.109736   \n",
       "\n",
       "   iShares Core S&P 500 ETF USD Acc  Xtrackers II EUR Corporate Bond ETF 1C  \\\n",
       "0                          0.154652                                0.017443   \n",
       "1                          0.012225                                0.025171   \n",
       "2                          0.014650                                0.052152   \n",
       "3                         -0.092805                                0.042196   \n",
       "4                          0.084196                                0.008286   \n",
       "\n",
       "   iShares Pfandbriefe ETF (DE)  \n",
       "0                      0.017164  \n",
       "1                      0.006155  \n",
       "2                      0.014957  \n",
       "3                      0.013715  \n",
       "4                     -0.002403  \n",
       "\n",
       "[5 rows x 200 columns]"
      ]
     },
     "execution_count": 56,
     "metadata": {},
     "output_type": "execute_result"
    }
   ],
   "source": [
    "from sklearn.preprocessing import normalize\n",
    "data_scaled = normalize(top_200)\n",
    "data_scaled = pd.DataFrame(data_scaled, columns=top_200.columns)\n",
    "data_scaled.head()"
   ]
  },
  {
   "cell_type": "code",
   "execution_count": 57,
   "metadata": {
    "colab": {
     "base_uri": "https://localhost:8080/",
     "height": 444
    },
    "id": "2kwd9vafd5Ga",
    "outputId": "44b65627-f130-47bc-a1de-3a8454a375d1"
   },
   "outputs": [
    {
     "data": {
      "image/png": "[encoded data removed]",
      "text/plain": [
       "<Figure size 720x504 with 1 Axes>"
      ]
     },
     "metadata": {
      "needs_background": "light"
     },
     "output_type": "display_data"
    }
   ],
   "source": [
    "import scipy.cluster.hierarchy as shc\n",
    "plt.figure(figsize=(10, 7))  \n",
    "plt.title(\"Dendrograms\")  \n",
    "dend = shc.dendrogram(shc.linkage(data_scaled, method='ward'))"
   ]
  },
  {
   "cell_type": "code",
   "execution_count": 58,
   "metadata": {
    "colab": {
     "base_uri": "https://localhost:8080/",
     "height": 462
    },
    "id": "E_72pP7wd5Gb",
    "outputId": "ce6ceb3c-4bed-491b-ba5f-e72a2d69cc9f"
   },
   "outputs": [
    {
     "data": {
      "text/plain": [
       "<matplotlib.lines.Line2D at 0x7f90c666d760>"
      ]
     },
     "execution_count": 58,
     "metadata": {},
     "output_type": "execute_result"
    },
    {
     "data": {
      "image/png": "[encoded data removed]",
      "text/plain": [
       "<Figure size 720x504 with 1 Axes>"
      ]
     },
     "metadata": {
      "needs_background": "light"
     },
     "output_type": "display_data"
    }
   ],
   "source": [
    "plt.figure(figsize=(10, 7))  \n",
    "plt.title(\"Dendrograms\")  \n",
    "dend = shc.dendrogram(shc.linkage(data_scaled, method='ward'))\n",
    "plt.axhline(y=6, color='r', linestyle='--')"
   ]
  },
  {
   "cell_type": "code",
   "execution_count": 59,
   "metadata": {
    "colab": {
     "base_uri": "https://localhost:8080/"
    },
    "id": "q7yuIlTxd5Gc",
    "outputId": "9eddda01-b3f0-4f35-bb60-3dab04114888"
   },
   "outputs": [
    {
     "data": {
      "text/plain": [
       "array([0, 0, 2, 2, 0, 0, 2, 2, 1, 0, 1, 1, 0, 1, 0, 2, 0, 1, 1, 1, 0, 1,\n",
       "       2, 0, 1, 0, 2, 0, 1, 0, 0, 0, 1, 2, 2, 2, 2, 2, 0, 1, 2, 1, 1, 0,\n",
       "       1, 0, 0, 2, 0, 1, 2, 0, 2, 2, 0, 2, 0, 0, 2, 0, 0, 0, 2, 0, 2, 1,\n",
       "       1, 0, 2, 0, 0, 0, 1, 1, 1, 0, 1, 0, 0, 2, 2, 1, 0, 0, 1, 1, 0, 0,\n",
       "       0, 2, 2, 1, 0, 2, 0, 0, 1, 2, 0, 1, 2, 1, 0, 0, 0, 0, 0, 1, 2, 0,\n",
       "       2, 0, 0, 1, 2, 2, 0, 1, 1, 0, 2, 2, 0, 2, 0, 0, 0, 2, 1, 0, 1, 0,\n",
       "       0, 2, 1, 0, 0, 0, 0, 0, 2, 1, 1, 1, 1, 0, 0, 0, 0, 0, 0, 0, 1, 1,\n",
       "       0, 0, 1, 2, 0, 0, 0, 0, 0, 0, 0, 0, 0, 2, 0, 2, 0, 1, 1, 1, 0, 0,\n",
       "       0, 1, 1, 1, 0, 1, 1, 0, 0, 1, 0, 1, 0, 1, 0, 0, 1, 1, 1, 0, 1, 0,\n",
       "       0, 0])"
      ]
     },
     "execution_count": 59,
     "metadata": {},
     "output_type": "execute_result"
    }
   ],
   "source": [
    "from sklearn.cluster import AgglomerativeClustering\n",
    "cluster = AgglomerativeClustering(n_clusters=3, affinity='euclidean', linkage='ward')  \n",
    "cluster.fit_predict(data_scaled)"
   ]
  },
  {
   "cell_type": "code",
   "execution_count": 60,
   "metadata": {
    "colab": {
     "base_uri": "https://localhost:8080/",
     "height": 446
    },
    "id": "FcEyHfZ1d5Gh",
    "outputId": "8210df5e-7a95-46cc-e7b9-b198d1df9d75"
   },
   "outputs": [
    {
     "data": {
      "text/plain": [
       "<matplotlib.collections.PathCollection at 0x7f90dbc18d90>"
      ]
     },
     "execution_count": 60,
     "metadata": {},
     "output_type": "execute_result"
    },
    {
     "data": {
      "image/png": "[encoded data removed]",
      "text/plain": [
       "<Figure size 720x504 with 1 Axes>"
      ]
     },
     "metadata": {
      "needs_background": "light"
     },
     "output_type": "display_data"
    }
   ],
   "source": [
    "plt.figure(figsize=(10, 7))  \n",
    "plt.scatter(data_scaled['Maj Invest Danske Obligationer'], data_scaled['iShares Pfandbriefe ETF (DE)'], c=cluster.labels_) "
   ]
  },
  {
   "cell_type": "code",
   "execution_count": 61,
   "metadata": {
    "id": "NkuakYjXd5Gi"
   },
   "outputs": [],
   "source": [
    "cluster_array = cluster.fit_predict(data_scaled)"
   ]
  },
  {
   "cell_type": "markdown",
   "metadata": {
    "id": "ERWXP_cHHvBh"
   },
   "source": [
    "### Question 11\n",
    "\n",
    "Pick the asset with the highest Sharpe ratio from the two smaller clusters."
   ]
  },
  {
   "cell_type": "code",
   "execution_count": 62,
   "metadata": {
    "colab": {
     "base_uri": "https://localhost:8080/"
    },
    "id": "3Y4Oim8Qd5Gj",
    "outputId": "743dd82f-2810-4939-c86d-a7394adb98cc"
   },
   "outputs": [
    {
     "data": {
      "text/plain": [
       "{0: 100, 1: 58, 2: 42}"
      ]
     },
     "execution_count": 62,
     "metadata": {},
     "output_type": "execute_result"
    }
   ],
   "source": [
    "unique, counts = np.unique(cluster_array, return_counts=True)\n",
    "dict(zip(unique, counts))"
   ]
  },
  {
   "cell_type": "code",
   "execution_count": 63,
   "metadata": {
    "id": "FrizWu7Gd5Gk"
   },
   "outputs": [],
   "source": [
    "group_0 = []\n",
    "group_1 = []\n",
    "group_2 = []\n",
    "for i in range(len(cluster_array)):\n",
    "    if cluster_array[i] == 0:\n",
    "        group_0.append(top_200.columns[i])\n",
    "    elif cluster_array[i] == 1:\n",
    "        group_1.append(top_200.columns[i])\n",
    "    elif cluster_array[i] == 2:\n",
    "        group_2.append(top_200.columns[i])     "
   ]
  },
  {
   "cell_type": "code",
   "execution_count": 64,
   "metadata": {
    "id": "5oAkhBGId5Gl"
   },
   "outputs": [],
   "source": [
    "cluster1_ratio = sharpe_ratio[sharpe_ratio.index.intersection(group_1)]"
   ]
  },
  {
   "cell_type": "code",
   "execution_count": 65,
   "metadata": {
    "colab": {
     "base_uri": "https://localhost:8080/",
     "height": 35
    },
    "id": "uhnGfGZ5d5Gl",
    "outputId": "ecfe301a-144c-460a-80e3-fbac46f8baad"
   },
   "outputs": [
    {
     "data": {
      "text/plain": [
       "'iShares MSCI USA ETF USD Acc'"
      ]
     },
     "execution_count": 65,
     "metadata": {},
     "output_type": "execute_result"
    }
   ],
   "source": [
    "max(cluster1_ratio.index)"
   ]
  },
  {
   "cell_type": "code",
   "execution_count": 66,
   "metadata": {
    "colab": {
     "base_uri": "https://localhost:8080/",
     "height": 35
    },
    "id": "d2jRLdrbd5Gm",
    "outputId": "bda11a59-e233-4364-e5e5-9bcd88089322"
   },
   "outputs": [
    {
     "data": {
      "text/plain": [
       "'ValueInvest Global Akk A'"
      ]
     },
     "execution_count": 66,
     "metadata": {},
     "output_type": "execute_result"
    }
   ],
   "source": [
    "cluster2_ratio = sharpe_ratio[sharpe_ratio.index.intersection(group_2)]\n",
    "max(cluster2_ratio.index)"
   ]
  },
  {
   "cell_type": "markdown",
   "metadata": {
    "id": "VLVHEzDYHzSL"
   },
   "source": [
    "### Question 12\n",
    "\n",
    "Run the Minimum Spanning Three method on the biggest cluster a number of times until you are left with 3-4 assets only."
   ]
  },
  {
   "cell_type": "code",
   "execution_count": 67,
   "metadata": {
    "colab": {
     "base_uri": "https://localhost:8080/",
     "height": 530
    },
    "id": "Q7i0B57Ygvao",
    "outputId": "16d64e11-fff6-4964-d081-d729e4ba0e1c"
   },
   "outputs": [
    {
     "data": {
      "text/html": [
       "<div>\n",
       "<style scoped>\n",
       "    .dataframe tbody tr th:only-of-type {\n",
       "        vertical-align: middle;\n",
       "    }\n",
       "\n",
       "    .dataframe tbody tr th {\n",
       "        vertical-align: top;\n",
       "    }\n",
       "\n",
       "    .dataframe thead th {\n",
       "        text-align: right;\n",
       "    }\n",
       "</style>\n",
       "<table border=\"1\" class=\"dataframe\">\n",
       "  <thead>\n",
       "    <tr style=\"text-align: right;\">\n",
       "      <th></th>\n",
       "      <th>BankInvest Danske Aktier W</th>\n",
       "      <th>BankInvest Danske Aktier A</th>\n",
       "      <th>BankInvest Lange Danske Obligationer W</th>\n",
       "      <th>BankInvest Korte Danske Obligationer W</th>\n",
       "      <th>BankInvest Korte Danske Obl Akk W</th>\n",
       "      <th>BankInvest Virksomhedsobligationer IG W</th>\n",
       "      <th>BGF Swiss Small &amp; MidCap Opps D2 CHF</th>\n",
       "      <th>BLS Invest Danske Aktier KL</th>\n",
       "      <th>Danske Invest Danmark Indeks KL DKK W d</th>\n",
       "      <th>Danske Invest Danm In ex OMXC20 DKK d</th>\n",
       "      <th>...</th>\n",
       "      <th>KAB / Lejerbo Invest Obl. 1 Lejerbo</th>\n",
       "      <th>LD Mixed Obligationer</th>\n",
       "      <th>LD Aktier &amp; Obligationer</th>\n",
       "      <th>BankInvest Lange Danske Obl Akk. W</th>\n",
       "      <th>iShares Core S&amp;P 500 ETF USD Dist</th>\n",
       "      <th>Xtrackers MSCI Wld Info Tech ETF 1C</th>\n",
       "      <th>iShares NASDAQ 100 ETF USD Acc</th>\n",
       "      <th>iShares Core S&amp;P 500 ETF USD Acc</th>\n",
       "      <th>Xtrackers II EUR Corporate Bond ETF 1C</th>\n",
       "      <th>iShares Pfandbriefe ETF (DE)</th>\n",
       "    </tr>\n",
       "  </thead>\n",
       "  <tbody>\n",
       "    <tr>\n",
       "      <th>0</th>\n",
       "      <td>0.024658</td>\n",
       "      <td>0.024658</td>\n",
       "      <td>-0.000498</td>\n",
       "      <td>0.000435</td>\n",
       "      <td>-0.000345</td>\n",
       "      <td>0.002853</td>\n",
       "      <td>0.002904</td>\n",
       "      <td>0.040005</td>\n",
       "      <td>0.023440</td>\n",
       "      <td>0.026842</td>\n",
       "      <td>...</td>\n",
       "      <td>0.001235</td>\n",
       "      <td>0.003422</td>\n",
       "      <td>0.008107</td>\n",
       "      <td>-0.000498</td>\n",
       "      <td>0.029817</td>\n",
       "      <td>0.024384</td>\n",
       "      <td>0.035937</td>\n",
       "      <td>0.029827</td>\n",
       "      <td>0.003364</td>\n",
       "      <td>0.003310</td>\n",
       "    </tr>\n",
       "    <tr>\n",
       "      <th>1</th>\n",
       "      <td>0.008594</td>\n",
       "      <td>0.008594</td>\n",
       "      <td>-0.000299</td>\n",
       "      <td>-0.000435</td>\n",
       "      <td>-0.000604</td>\n",
       "      <td>0.004577</td>\n",
       "      <td>0.036081</td>\n",
       "      <td>0.025952</td>\n",
       "      <td>0.012058</td>\n",
       "      <td>0.052388</td>\n",
       "      <td>...</td>\n",
       "      <td>0.000352</td>\n",
       "      <td>0.001010</td>\n",
       "      <td>0.000869</td>\n",
       "      <td>-0.000299</td>\n",
       "      <td>0.001864</td>\n",
       "      <td>0.009393</td>\n",
       "      <td>0.012172</td>\n",
       "      <td>0.001870</td>\n",
       "      <td>0.003850</td>\n",
       "      <td>0.000941</td>\n",
       "    </tr>\n",
       "    <tr>\n",
       "      <th>2</th>\n",
       "      <td>-0.009657</td>\n",
       "      <td>-0.009657</td>\n",
       "      <td>-0.010456</td>\n",
       "      <td>-0.000978</td>\n",
       "      <td>-0.000346</td>\n",
       "      <td>0.006403</td>\n",
       "      <td>0.009624</td>\n",
       "      <td>0.005700</td>\n",
       "      <td>0.003594</td>\n",
       "      <td>-0.007053</td>\n",
       "      <td>...</td>\n",
       "      <td>-0.001409</td>\n",
       "      <td>-0.003785</td>\n",
       "      <td>-0.001665</td>\n",
       "      <td>-0.010456</td>\n",
       "      <td>0.001333</td>\n",
       "      <td>0.009795</td>\n",
       "      <td>0.003796</td>\n",
       "      <td>0.001372</td>\n",
       "      <td>0.004883</td>\n",
       "      <td>0.001401</td>\n",
       "    </tr>\n",
       "    <tr>\n",
       "      <th>3</th>\n",
       "      <td>0.024092</td>\n",
       "      <td>0.024092</td>\n",
       "      <td>0.007447</td>\n",
       "      <td>0.001414</td>\n",
       "      <td>0.001210</td>\n",
       "      <td>0.010645</td>\n",
       "      <td>0.012935</td>\n",
       "      <td>0.015756</td>\n",
       "      <td>0.030110</td>\n",
       "      <td>-0.004941</td>\n",
       "      <td>...</td>\n",
       "      <td>0.001764</td>\n",
       "      <td>0.004940</td>\n",
       "      <td>0.005583</td>\n",
       "      <td>0.007447</td>\n",
       "      <td>-0.018345</td>\n",
       "      <td>-0.006620</td>\n",
       "      <td>-0.008214</td>\n",
       "      <td>-0.018339</td>\n",
       "      <td>0.008338</td>\n",
       "      <td>0.002710</td>\n",
       "    </tr>\n",
       "    <tr>\n",
       "      <th>4</th>\n",
       "      <td>0.024832</td>\n",
       "      <td>0.024832</td>\n",
       "      <td>-0.007292</td>\n",
       "      <td>-0.001630</td>\n",
       "      <td>-0.001554</td>\n",
       "      <td>0.001332</td>\n",
       "      <td>0.031438</td>\n",
       "      <td>0.032036</td>\n",
       "      <td>0.019057</td>\n",
       "      <td>0.017587</td>\n",
       "      <td>...</td>\n",
       "      <td>-0.000704</td>\n",
       "      <td>-0.000504</td>\n",
       "      <td>0.005264</td>\n",
       "      <td>-0.007292</td>\n",
       "      <td>0.015507</td>\n",
       "      <td>0.021020</td>\n",
       "      <td>0.019017</td>\n",
       "      <td>0.015560</td>\n",
       "      <td>0.001531</td>\n",
       "      <td>-0.000444</td>\n",
       "    </tr>\n",
       "    <tr>\n",
       "      <th>...</th>\n",
       "      <td>...</td>\n",
       "      <td>...</td>\n",
       "      <td>...</td>\n",
       "      <td>...</td>\n",
       "      <td>...</td>\n",
       "      <td>...</td>\n",
       "      <td>...</td>\n",
       "      <td>...</td>\n",
       "      <td>...</td>\n",
       "      <td>...</td>\n",
       "      <td>...</td>\n",
       "      <td>...</td>\n",
       "      <td>...</td>\n",
       "      <td>...</td>\n",
       "      <td>...</td>\n",
       "      <td>...</td>\n",
       "      <td>...</td>\n",
       "      <td>...</td>\n",
       "      <td>...</td>\n",
       "      <td>...</td>\n",
       "      <td>...</td>\n",
       "    </tr>\n",
       "    <tr>\n",
       "      <th>195</th>\n",
       "      <td>0.032693</td>\n",
       "      <td>0.032693</td>\n",
       "      <td>0.000912</td>\n",
       "      <td>0.000679</td>\n",
       "      <td>0.000697</td>\n",
       "      <td>0.003323</td>\n",
       "      <td>0.021127</td>\n",
       "      <td>0.023090</td>\n",
       "      <td>0.028646</td>\n",
       "      <td>0.027032</td>\n",
       "      <td>...</td>\n",
       "      <td>-0.000319</td>\n",
       "      <td>0.001670</td>\n",
       "      <td>0.014905</td>\n",
       "      <td>0.000912</td>\n",
       "      <td>0.033124</td>\n",
       "      <td>0.034291</td>\n",
       "      <td>0.030009</td>\n",
       "      <td>0.033181</td>\n",
       "      <td>0.001936</td>\n",
       "      <td>-0.001393</td>\n",
       "    </tr>\n",
       "    <tr>\n",
       "      <th>196</th>\n",
       "      <td>-0.038757</td>\n",
       "      <td>-0.038757</td>\n",
       "      <td>0.001848</td>\n",
       "      <td>0.000444</td>\n",
       "      <td>0.000495</td>\n",
       "      <td>0.001612</td>\n",
       "      <td>-0.008798</td>\n",
       "      <td>-0.019670</td>\n",
       "      <td>-0.033902</td>\n",
       "      <td>-0.026100</td>\n",
       "      <td>...</td>\n",
       "      <td>0.000991</td>\n",
       "      <td>0.000681</td>\n",
       "      <td>-0.004661</td>\n",
       "      <td>0.001848</td>\n",
       "      <td>-0.018071</td>\n",
       "      <td>-0.011061</td>\n",
       "      <td>-0.014327</td>\n",
       "      <td>-0.018011</td>\n",
       "      <td>0.002969</td>\n",
       "      <td>0.001363</td>\n",
       "    </tr>\n",
       "    <tr>\n",
       "      <th>197</th>\n",
       "      <td>0.017094</td>\n",
       "      <td>0.017094</td>\n",
       "      <td>-0.001948</td>\n",
       "      <td>-0.000222</td>\n",
       "      <td>-0.000247</td>\n",
       "      <td>-0.000495</td>\n",
       "      <td>0.020349</td>\n",
       "      <td>0.023893</td>\n",
       "      <td>0.021698</td>\n",
       "      <td>0.018834</td>\n",
       "      <td>...</td>\n",
       "      <td>-0.000990</td>\n",
       "      <td>-0.000340</td>\n",
       "      <td>0.007192</td>\n",
       "      <td>-0.001948</td>\n",
       "      <td>0.019542</td>\n",
       "      <td>0.016751</td>\n",
       "      <td>0.022258</td>\n",
       "      <td>0.019587</td>\n",
       "      <td>-0.000175</td>\n",
       "      <td>-0.000354</td>\n",
       "    </tr>\n",
       "    <tr>\n",
       "      <th>198</th>\n",
       "      <td>0.019912</td>\n",
       "      <td>0.019912</td>\n",
       "      <td>0.004930</td>\n",
       "      <td>0.001554</td>\n",
       "      <td>0.001568</td>\n",
       "      <td>0.007803</td>\n",
       "      <td>0.014376</td>\n",
       "      <td>0.006752</td>\n",
       "      <td>0.017808</td>\n",
       "      <td>-0.005529</td>\n",
       "      <td>...</td>\n",
       "      <td>0.001900</td>\n",
       "      <td>0.003800</td>\n",
       "      <td>0.015388</td>\n",
       "      <td>0.004930</td>\n",
       "      <td>0.062621</td>\n",
       "      <td>0.079540</td>\n",
       "      <td>0.087814</td>\n",
       "      <td>0.062681</td>\n",
       "      <td>0.007136</td>\n",
       "      <td>0.004344</td>\n",
       "    </tr>\n",
       "    <tr>\n",
       "      <th>199</th>\n",
       "      <td>0.008060</td>\n",
       "      <td>0.008060</td>\n",
       "      <td>-0.004292</td>\n",
       "      <td>-0.000332</td>\n",
       "      <td>-0.000247</td>\n",
       "      <td>0.000369</td>\n",
       "      <td>0.022365</td>\n",
       "      <td>0.030040</td>\n",
       "      <td>0.011264</td>\n",
       "      <td>0.011175</td>\n",
       "      <td>...</td>\n",
       "      <td>-0.000082</td>\n",
       "      <td>0.001412</td>\n",
       "      <td>0.002453</td>\n",
       "      <td>-0.004292</td>\n",
       "      <td>0.024821</td>\n",
       "      <td>0.026270</td>\n",
       "      <td>0.027385</td>\n",
       "      <td>0.024905</td>\n",
       "      <td>-0.005023</td>\n",
       "      <td>-0.003004</td>\n",
       "    </tr>\n",
       "  </tbody>\n",
       "</table>\n",
       "<p>200 rows × 100 columns</p>\n",
       "</div>"
      ],
      "text/plain": [
       "     BankInvest Danske Aktier W  BankInvest Danske Aktier A  \\\n",
       "0                      0.024658                    0.024658   \n",
       "1                      0.008594                    0.008594   \n",
       "2                     -0.009657                   -0.009657   \n",
       "3                      0.024092                    0.024092   \n",
       "4                      0.024832                    0.024832   \n",
       "..                          ...                         ...   \n",
       "195                    0.032693                    0.032693   \n",
       "196                   -0.038757                   -0.038757   \n",
       "197                    0.017094                    0.017094   \n",
       "198                    0.019912                    0.019912   \n",
       "199                    0.008060                    0.008060   \n",
       "\n",
       "     BankInvest Lange Danske Obligationer W  \\\n",
       "0                                 -0.000498   \n",
       "1                                 -0.000299   \n",
       "2                                 -0.010456   \n",
       "3                                  0.007447   \n",
       "4                                 -0.007292   \n",
       "..                                      ...   \n",
       "195                                0.000912   \n",
       "196                                0.001848   \n",
       "197                               -0.001948   \n",
       "198                                0.004930   \n",
       "199                               -0.004292   \n",
       "\n",
       "     BankInvest Korte Danske Obligationer W  \\\n",
       "0                                  0.000435   \n",
       "1                                 -0.000435   \n",
       "2                                 -0.000978   \n",
       "3                                  0.001414   \n",
       "4                                 -0.001630   \n",
       "..                                      ...   \n",
       "195                                0.000679   \n",
       "196                                0.000444   \n",
       "197                               -0.000222   \n",
       "198                                0.001554   \n",
       "199                               -0.000332   \n",
       "\n",
       "     BankInvest Korte Danske Obl Akk W  \\\n",
       "0                            -0.000345   \n",
       "1                            -0.000604   \n",
       "2                            -0.000346   \n",
       "3                             0.001210   \n",
       "4                            -0.001554   \n",
       "..                                 ...   \n",
       "195                           0.000697   \n",
       "196                           0.000495   \n",
       "197                          -0.000247   \n",
       "198                           0.001568   \n",
       "199                          -0.000247   \n",
       "\n",
       "     BankInvest Virksomhedsobligationer IG W  \\\n",
       "0                                   0.002853   \n",
       "1                                   0.004577   \n",
       "2                                   0.006403   \n",
       "3                                   0.010645   \n",
       "4                                   0.001332   \n",
       "..                                       ...   \n",
       "195                                 0.003323   \n",
       "196                                 0.001612   \n",
       "197                                -0.000495   \n",
       "198                                 0.007803   \n",
       "199                                 0.000369   \n",
       "\n",
       "     BGF Swiss Small & MidCap Opps D2 CHF  BLS Invest Danske Aktier KL  \\\n",
       "0                                0.002904                     0.040005   \n",
       "1                                0.036081                     0.025952   \n",
       "2                                0.009624                     0.005700   \n",
       "3                                0.012935                     0.015756   \n",
       "4                                0.031438                     0.032036   \n",
       "..                                    ...                          ...   \n",
       "195                              0.021127                     0.023090   \n",
       "196                             -0.008798                    -0.019670   \n",
       "197                              0.020349                     0.023893   \n",
       "198                              0.014376                     0.006752   \n",
       "199                              0.022365                     0.030040   \n",
       "\n",
       "     Danske Invest Danmark Indeks KL DKK W d  \\\n",
       "0                                   0.023440   \n",
       "1                                   0.012058   \n",
       "2                                   0.003594   \n",
       "3                                   0.030110   \n",
       "4                                   0.019057   \n",
       "..                                       ...   \n",
       "195                                 0.028646   \n",
       "196                                -0.033902   \n",
       "197                                 0.021698   \n",
       "198                                 0.017808   \n",
       "199                                 0.011264   \n",
       "\n",
       "     Danske Invest Danm In ex OMXC20 DKK d  ...  \\\n",
       "0                                 0.026842  ...   \n",
       "1                                 0.052388  ...   \n",
       "2                                -0.007053  ...   \n",
       "3                                -0.004941  ...   \n",
       "4                                 0.017587  ...   \n",
       "..                                     ...  ...   \n",
       "195                               0.027032  ...   \n",
       "196                              -0.026100  ...   \n",
       "197                               0.018834  ...   \n",
       "198                              -0.005529  ...   \n",
       "199                               0.011175  ...   \n",
       "\n",
       "     KAB / Lejerbo Invest Obl. 1 Lejerbo  LD Mixed Obligationer  \\\n",
       "0                               0.001235               0.003422   \n",
       "1                               0.000352               0.001010   \n",
       "2                              -0.001409              -0.003785   \n",
       "3                               0.001764               0.004940   \n",
       "4                              -0.000704              -0.000504   \n",
       "..                                   ...                    ...   \n",
       "195                            -0.000319               0.001670   \n",
       "196                             0.000991               0.000681   \n",
       "197                            -0.000990              -0.000340   \n",
       "198                             0.001900               0.003800   \n",
       "199                            -0.000082               0.001412   \n",
       "\n",
       "     LD Aktier & Obligationer  BankInvest Lange Danske Obl Akk. W  \\\n",
       "0                    0.008107                           -0.000498   \n",
       "1                    0.000869                           -0.000299   \n",
       "2                   -0.001665                           -0.010456   \n",
       "3                    0.005583                            0.007447   \n",
       "4                    0.005264                           -0.007292   \n",
       "..                        ...                                 ...   \n",
       "195                  0.014905                            0.000912   \n",
       "196                 -0.004661                            0.001848   \n",
       "197                  0.007192                           -0.001948   \n",
       "198                  0.015388                            0.004930   \n",
       "199                  0.002453                           -0.004292   \n",
       "\n",
       "     iShares Core S&P 500 ETF USD Dist  Xtrackers MSCI Wld Info Tech ETF 1C  \\\n",
       "0                             0.029817                             0.024384   \n",
       "1                             0.001864                             0.009393   \n",
       "2                             0.001333                             0.009795   \n",
       "3                            -0.018345                            -0.006620   \n",
       "4                             0.015507                             0.021020   \n",
       "..                                 ...                                  ...   \n",
       "195                           0.033124                             0.034291   \n",
       "196                          -0.018071                            -0.011061   \n",
       "197                           0.019542                             0.016751   \n",
       "198                           0.062621                             0.079540   \n",
       "199                           0.024821                             0.026270   \n",
       "\n",
       "     iShares NASDAQ 100 ETF USD Acc  iShares Core S&P 500 ETF USD Acc  \\\n",
       "0                          0.035937                          0.029827   \n",
       "1                          0.012172                          0.001870   \n",
       "2                          0.003796                          0.001372   \n",
       "3                         -0.008214                         -0.018339   \n",
       "4                          0.019017                          0.015560   \n",
       "..                              ...                               ...   \n",
       "195                        0.030009                          0.033181   \n",
       "196                       -0.014327                         -0.018011   \n",
       "197                        0.022258                          0.019587   \n",
       "198                        0.087814                          0.062681   \n",
       "199                        0.027385                          0.024905   \n",
       "\n",
       "     Xtrackers II EUR Corporate Bond ETF 1C  iShares Pfandbriefe ETF (DE)  \n",
       "0                                  0.003364                      0.003310  \n",
       "1                                  0.003850                      0.000941  \n",
       "2                                  0.004883                      0.001401  \n",
       "3                                  0.008338                      0.002710  \n",
       "4                                  0.001531                     -0.000444  \n",
       "..                                      ...                           ...  \n",
       "195                                0.001936                     -0.001393  \n",
       "196                                0.002969                      0.001363  \n",
       "197                               -0.000175                     -0.000354  \n",
       "198                                0.007136                      0.004344  \n",
       "199                               -0.005023                     -0.003004  \n",
       "\n",
       "[200 rows x 100 columns]"
      ]
     },
     "execution_count": 67,
     "metadata": {},
     "output_type": "execute_result"
    }
   ],
   "source": [
    "cluster0 = top_200[top_200.columns.intersection(group_0)]\n",
    "cluster0"
   ]
  },
  {
   "cell_type": "code",
   "execution_count": 68,
   "metadata": {
    "colab": {
     "base_uri": "https://localhost:8080/"
    },
    "id": "n6M_OerXH0ET",
    "outputId": "5d4e5f7d-bf35-4d03-aac9-1865579700b4"
   },
   "outputs": [
    {
     "name": "stdout",
     "output_type": "stream",
     "text": [
      "     Danske Invest Danm In x OMXC20 DKK Wd  \\\n",
      "0                                 0.026842   \n",
      "1                                 0.052388   \n",
      "2                                -0.007053   \n",
      "3                                -0.004941   \n",
      "4                                 0.017587   \n",
      "..                                     ...   \n",
      "195                               0.027032   \n",
      "196                              -0.026100   \n",
      "197                               0.018834   \n",
      "198                              -0.005529   \n",
      "199                               0.011175   \n",
      "\n",
      "     SEBinvest AKL US HY Bonds (Columbia) P  \\\n",
      "0                                  0.007369   \n",
      "1                                  0.001111   \n",
      "2                                  0.004347   \n",
      "3                                  0.008933   \n",
      "4                                  0.007119   \n",
      "..                                      ...   \n",
      "195                                0.002957   \n",
      "196                                0.017618   \n",
      "197                                0.001935   \n",
      "198                                0.005591   \n",
      "199                                0.003032   \n",
      "\n",
      "     Sparinvest INDEX Glb Akt Min Risiko KL  Formuepleje Fokus  \n",
      "0                                  0.014634          -0.001552  \n",
      "1                                 -0.005839          -0.006993  \n",
      "2                                 -0.006088           0.002347  \n",
      "3                                 -0.010018           0.003903  \n",
      "4                                  0.000928           0.000000  \n",
      "..                                      ...                ...  \n",
      "195                                0.023731           0.004758  \n",
      "196                               -0.011837           0.003453  \n",
      "197                                0.020206          -0.002261  \n",
      "198                                0.041057           0.009558  \n",
      "199                                0.009784           0.002830  \n",
      "\n",
      "[200 rows x 4 columns]\n"
     ]
    }
   ],
   "source": [
    "new_df2 = cluster0\n",
    "while len(new_df2.columns) > 5:\n",
    "    new_df2 = MinimumSpanningTree(new_df2)\n",
    "print(new_df2)"
   ]
  },
  {
   "cell_type": "markdown",
   "metadata": {
    "id": "7r7VrMtxMzLQ"
   },
   "source": [
    "### Question 13\n",
    "\n",
    "Calculate the covariance matrix for these assets now and compare with the covariance matrix from strategy 1 and 2."
   ]
  },
  {
   "cell_type": "code",
   "execution_count": 69,
   "metadata": {
    "colab": {
     "base_uri": "https://localhost:8080/",
     "height": 174
    },
    "id": "BE-3UmKVjcfe",
    "outputId": "3de80ed7-d271-46f1-fb1f-01c755bad72a"
   },
   "outputs": [
    {
     "data": {
      "text/html": [
       "<div>\n",
       "<style scoped>\n",
       "    .dataframe tbody tr th:only-of-type {\n",
       "        vertical-align: middle;\n",
       "    }\n",
       "\n",
       "    .dataframe tbody tr th {\n",
       "        vertical-align: top;\n",
       "    }\n",
       "\n",
       "    .dataframe thead th {\n",
       "        text-align: right;\n",
       "    }\n",
       "</style>\n",
       "<table border=\"1\" class=\"dataframe\">\n",
       "  <thead>\n",
       "    <tr style=\"text-align: right;\">\n",
       "      <th></th>\n",
       "      <th>Danske Invest Danm In x OMXC20 DKK Wd</th>\n",
       "      <th>SEBinvest AKL US HY Bonds (Columbia) P</th>\n",
       "      <th>Sparinvest INDEX Glb Akt Min Risiko KL</th>\n",
       "      <th>Formuepleje Fokus</th>\n",
       "    </tr>\n",
       "  </thead>\n",
       "  <tbody>\n",
       "    <tr>\n",
       "      <th>Danske Invest Danm In x OMXC20 DKK Wd</th>\n",
       "      <td>0.000287</td>\n",
       "      <td>0.000038</td>\n",
       "      <td>0.000121</td>\n",
       "      <td>-0.000003</td>\n",
       "    </tr>\n",
       "    <tr>\n",
       "      <th>SEBinvest AKL US HY Bonds (Columbia) P</th>\n",
       "      <td>0.000038</td>\n",
       "      <td>0.000039</td>\n",
       "      <td>0.000029</td>\n",
       "      <td>0.000010</td>\n",
       "    </tr>\n",
       "    <tr>\n",
       "      <th>Sparinvest INDEX Glb Akt Min Risiko KL</th>\n",
       "      <td>0.000121</td>\n",
       "      <td>0.000029</td>\n",
       "      <td>0.000273</td>\n",
       "      <td>0.000017</td>\n",
       "    </tr>\n",
       "    <tr>\n",
       "      <th>Formuepleje Fokus</th>\n",
       "      <td>-0.000003</td>\n",
       "      <td>0.000010</td>\n",
       "      <td>0.000017</td>\n",
       "      <td>0.000039</td>\n",
       "    </tr>\n",
       "  </tbody>\n",
       "</table>\n",
       "</div>"
      ],
      "text/plain": [
       "                                        Danske Invest Danm In x OMXC20 DKK Wd  \\\n",
       "Danske Invest Danm In x OMXC20 DKK Wd                                0.000287   \n",
       "SEBinvest AKL US HY Bonds (Columbia) P                               0.000038   \n",
       "Sparinvest INDEX Glb Akt Min Risiko KL                               0.000121   \n",
       "Formuepleje Fokus                                                   -0.000003   \n",
       "\n",
       "                                        SEBinvest AKL US HY Bonds (Columbia) P  \\\n",
       "Danske Invest Danm In x OMXC20 DKK Wd                                 0.000038   \n",
       "SEBinvest AKL US HY Bonds (Columbia) P                                0.000039   \n",
       "Sparinvest INDEX Glb Akt Min Risiko KL                                0.000029   \n",
       "Formuepleje Fokus                                                     0.000010   \n",
       "\n",
       "                                        Sparinvest INDEX Glb Akt Min Risiko KL  \\\n",
       "Danske Invest Danm In x OMXC20 DKK Wd                                 0.000121   \n",
       "SEBinvest AKL US HY Bonds (Columbia) P                                0.000029   \n",
       "Sparinvest INDEX Glb Akt Min Risiko KL                                0.000273   \n",
       "Formuepleje Fokus                                                     0.000017   \n",
       "\n",
       "                                        Formuepleje Fokus  \n",
       "Danske Invest Danm In x OMXC20 DKK Wd           -0.000003  \n",
       "SEBinvest AKL US HY Bonds (Columbia) P           0.000010  \n",
       "Sparinvest INDEX Glb Akt Min Risiko KL           0.000017  \n",
       "Formuepleje Fokus                                0.000039  "
      ]
     },
     "execution_count": 69,
     "metadata": {},
     "output_type": "execute_result"
    }
   ],
   "source": [
    "new_df2.cov()"
   ]
  },
  {
   "cell_type": "code",
   "execution_count": 70,
   "metadata": {
    "colab": {
     "base_uri": "https://localhost:8080/",
     "height": 307
    },
    "id": "RjCF9yfzjiQn",
    "outputId": "175971c9-9cb1-4c74-c6cc-d4e0d9e3ca56"
   },
   "outputs": [
    {
     "data": {
      "text/html": [
       "<div>\n",
       "<style scoped>\n",
       "    .dataframe tbody tr th:only-of-type {\n",
       "        vertical-align: middle;\n",
       "    }\n",
       "\n",
       "    .dataframe tbody tr th {\n",
       "        vertical-align: top;\n",
       "    }\n",
       "\n",
       "    .dataframe thead th {\n",
       "        text-align: right;\n",
       "    }\n",
       "</style>\n",
       "<table border=\"1\" class=\"dataframe\">\n",
       "  <thead>\n",
       "    <tr style=\"text-align: right;\">\n",
       "      <th></th>\n",
       "      <th>BI Private Equity</th>\n",
       "      <th>BLS Invest Danske Aktier KL</th>\n",
       "      <th>Danske Invest Bioteknologi Indeks KL</th>\n",
       "      <th>HP Invest Danske Obligationer Akk KL W</th>\n",
       "      <th>Maj Invest Kontra W</th>\n",
       "      <th>iShares EM Infrastructure ETF USD Dist</th>\n",
       "    </tr>\n",
       "  </thead>\n",
       "  <tbody>\n",
       "    <tr>\n",
       "      <th>BI Private Equity</th>\n",
       "      <td>3.162539e-04</td>\n",
       "      <td>-2.283904e-05</td>\n",
       "      <td>-4.392039e-05</td>\n",
       "      <td>4.464158e-07</td>\n",
       "      <td>-1.399327e-05</td>\n",
       "      <td>-0.000040</td>\n",
       "    </tr>\n",
       "    <tr>\n",
       "      <th>BLS Invest Danske Aktier KL</th>\n",
       "      <td>-2.283904e-05</td>\n",
       "      <td>2.844631e-04</td>\n",
       "      <td>3.499728e-04</td>\n",
       "      <td>3.127063e-08</td>\n",
       "      <td>5.442240e-07</td>\n",
       "      <td>0.000201</td>\n",
       "    </tr>\n",
       "    <tr>\n",
       "      <th>Danske Invest Bioteknologi Indeks KL</th>\n",
       "      <td>-4.392039e-05</td>\n",
       "      <td>3.499728e-04</td>\n",
       "      <td>1.548087e-03</td>\n",
       "      <td>3.329419e-07</td>\n",
       "      <td>2.468736e-05</td>\n",
       "      <td>0.000302</td>\n",
       "    </tr>\n",
       "    <tr>\n",
       "      <th>HP Invest Danske Obligationer Akk KL W</th>\n",
       "      <td>4.464158e-07</td>\n",
       "      <td>3.127063e-08</td>\n",
       "      <td>3.329419e-07</td>\n",
       "      <td>1.454530e-06</td>\n",
       "      <td>4.961505e-07</td>\n",
       "      <td>0.000002</td>\n",
       "    </tr>\n",
       "    <tr>\n",
       "      <th>Maj Invest Kontra W</th>\n",
       "      <td>-1.399327e-05</td>\n",
       "      <td>5.442240e-07</td>\n",
       "      <td>2.468736e-05</td>\n",
       "      <td>4.961505e-07</td>\n",
       "      <td>4.759307e-05</td>\n",
       "      <td>0.000034</td>\n",
       "    </tr>\n",
       "    <tr>\n",
       "      <th>iShares EM Infrastructure ETF USD Dist</th>\n",
       "      <td>-3.989423e-05</td>\n",
       "      <td>2.013346e-04</td>\n",
       "      <td>3.015353e-04</td>\n",
       "      <td>2.463697e-06</td>\n",
       "      <td>3.405250e-05</td>\n",
       "      <td>0.000661</td>\n",
       "    </tr>\n",
       "  </tbody>\n",
       "</table>\n",
       "</div>"
      ],
      "text/plain": [
       "                                        BI Private Equity  \\\n",
       "BI Private Equity                            3.162539e-04   \n",
       "BLS Invest Danske Aktier KL                 -2.283904e-05   \n",
       "Danske Invest Bioteknologi Indeks KL        -4.392039e-05   \n",
       "HP Invest Danske Obligationer Akk KL W       4.464158e-07   \n",
       "Maj Invest Kontra W                         -1.399327e-05   \n",
       "iShares EM Infrastructure ETF USD Dist      -3.989423e-05   \n",
       "\n",
       "                                        BLS Invest Danske Aktier KL  \\\n",
       "BI Private Equity                                     -2.283904e-05   \n",
       "BLS Invest Danske Aktier KL                            2.844631e-04   \n",
       "Danske Invest Bioteknologi Indeks KL                   3.499728e-04   \n",
       "HP Invest Danske Obligationer Akk KL W                 3.127063e-08   \n",
       "Maj Invest Kontra W                                    5.442240e-07   \n",
       "iShares EM Infrastructure ETF USD Dist                 2.013346e-04   \n",
       "\n",
       "                                        Danske Invest Bioteknologi Indeks KL  \\\n",
       "BI Private Equity                                              -4.392039e-05   \n",
       "BLS Invest Danske Aktier KL                                     3.499728e-04   \n",
       "Danske Invest Bioteknologi Indeks KL                            1.548087e-03   \n",
       "HP Invest Danske Obligationer Akk KL W                          3.329419e-07   \n",
       "Maj Invest Kontra W                                             2.468736e-05   \n",
       "iShares EM Infrastructure ETF USD Dist                          3.015353e-04   \n",
       "\n",
       "                                        HP Invest Danske Obligationer Akk KL W  \\\n",
       "BI Private Equity                                                 4.464158e-07   \n",
       "BLS Invest Danske Aktier KL                                       3.127063e-08   \n",
       "Danske Invest Bioteknologi Indeks KL                              3.329419e-07   \n",
       "HP Invest Danske Obligationer Akk KL W                            1.454530e-06   \n",
       "Maj Invest Kontra W                                               4.961505e-07   \n",
       "iShares EM Infrastructure ETF USD Dist                            2.463697e-06   \n",
       "\n",
       "                                        Maj Invest Kontra W  \\\n",
       "BI Private Equity                             -1.399327e-05   \n",
       "BLS Invest Danske Aktier KL                    5.442240e-07   \n",
       "Danske Invest Bioteknologi Indeks KL           2.468736e-05   \n",
       "HP Invest Danske Obligationer Akk KL W         4.961505e-07   \n",
       "Maj Invest Kontra W                            4.759307e-05   \n",
       "iShares EM Infrastructure ETF USD Dist         3.405250e-05   \n",
       "\n",
       "                                        iShares EM Infrastructure ETF USD Dist  \n",
       "BI Private Equity                                                    -0.000040  \n",
       "BLS Invest Danske Aktier KL                                           0.000201  \n",
       "Danske Invest Bioteknologi Indeks KL                                  0.000302  \n",
       "HP Invest Danske Obligationer Akk KL W                                0.000002  \n",
       "Maj Invest Kontra W                                                   0.000034  \n",
       "iShares EM Infrastructure ETF USD Dist                                0.000661  "
      ]
     },
     "execution_count": 70,
     "metadata": {},
     "output_type": "execute_result"
    }
   ],
   "source": [
    "new_df.cov()"
   ]
  },
  {
   "cell_type": "code",
   "execution_count": 71,
   "metadata": {
    "colab": {
     "base_uri": "https://localhost:8080/",
     "height": 293
    },
    "id": "kE_pM2UOjjzO",
    "outputId": "f5e74074-8966-40fe-e93c-3a17eb7c270c"
   },
   "outputs": [
    {
     "data": {
      "text/html": [
       "<div>\n",
       "<style scoped>\n",
       "    .dataframe tbody tr th:only-of-type {\n",
       "        vertical-align: middle;\n",
       "    }\n",
       "\n",
       "    .dataframe tbody tr th {\n",
       "        vertical-align: top;\n",
       "    }\n",
       "\n",
       "    .dataframe thead th {\n",
       "        text-align: right;\n",
       "    }\n",
       "</style>\n",
       "<table border=\"1\" class=\"dataframe\">\n",
       "  <thead>\n",
       "    <tr style=\"text-align: right;\">\n",
       "      <th></th>\n",
       "      <th>Maj Invest Danske Obligationer</th>\n",
       "      <th>Nordea Invest Engros Corporate Bonds</th>\n",
       "      <th>Nordea Invest Euro High Yield Bonds KL</th>\n",
       "      <th>Nykredit Invest Engros EuroKredit</th>\n",
       "      <th>Nykredit Invest Bæredygtige Kreditobli</th>\n",
       "    </tr>\n",
       "  </thead>\n",
       "  <tbody>\n",
       "    <tr>\n",
       "      <th>Maj Invest Danske Obligationer</th>\n",
       "      <td>0.000004</td>\n",
       "      <td>0.000004</td>\n",
       "      <td>0.000002</td>\n",
       "      <td>0.000004</td>\n",
       "      <td>0.000004</td>\n",
       "    </tr>\n",
       "    <tr>\n",
       "      <th>Nordea Invest Engros Corporate Bonds</th>\n",
       "      <td>0.000004</td>\n",
       "      <td>0.000012</td>\n",
       "      <td>0.000011</td>\n",
       "      <td>0.000011</td>\n",
       "      <td>0.000010</td>\n",
       "    </tr>\n",
       "    <tr>\n",
       "      <th>Nordea Invest Euro High Yield Bonds KL</th>\n",
       "      <td>0.000002</td>\n",
       "      <td>0.000011</td>\n",
       "      <td>0.000028</td>\n",
       "      <td>0.000011</td>\n",
       "      <td>0.000010</td>\n",
       "    </tr>\n",
       "    <tr>\n",
       "      <th>Nykredit Invest Engros EuroKredit</th>\n",
       "      <td>0.000004</td>\n",
       "      <td>0.000011</td>\n",
       "      <td>0.000011</td>\n",
       "      <td>0.000013</td>\n",
       "      <td>0.000012</td>\n",
       "    </tr>\n",
       "    <tr>\n",
       "      <th>Nykredit Invest Bæredygtige Kreditobli</th>\n",
       "      <td>0.000004</td>\n",
       "      <td>0.000010</td>\n",
       "      <td>0.000010</td>\n",
       "      <td>0.000012</td>\n",
       "      <td>0.000011</td>\n",
       "    </tr>\n",
       "  </tbody>\n",
       "</table>\n",
       "</div>"
      ],
      "text/plain": [
       "                                        Maj Invest Danske Obligationer  \\\n",
       "Maj Invest Danske Obligationer                                0.000004   \n",
       "Nordea Invest Engros Corporate Bonds                          0.000004   \n",
       "Nordea Invest Euro High Yield Bonds KL                        0.000002   \n",
       "Nykredit Invest Engros EuroKredit                             0.000004   \n",
       "Nykredit Invest Bæredygtige Kreditobli                        0.000004   \n",
       "\n",
       "                                        Nordea Invest Engros Corporate Bonds  \\\n",
       "Maj Invest Danske Obligationer                                      0.000004   \n",
       "Nordea Invest Engros Corporate Bonds                                0.000012   \n",
       "Nordea Invest Euro High Yield Bonds KL                              0.000011   \n",
       "Nykredit Invest Engros EuroKredit                                   0.000011   \n",
       "Nykredit Invest Bæredygtige Kreditobli                              0.000010   \n",
       "\n",
       "                                        Nordea Invest Euro High Yield Bonds KL  \\\n",
       "Maj Invest Danske Obligationer                                        0.000002   \n",
       "Nordea Invest Engros Corporate Bonds                                  0.000011   \n",
       "Nordea Invest Euro High Yield Bonds KL                                0.000028   \n",
       "Nykredit Invest Engros EuroKredit                                     0.000011   \n",
       "Nykredit Invest Bæredygtige Kreditobli                                0.000010   \n",
       "\n",
       "                                        Nykredit Invest Engros EuroKredit  \\\n",
       "Maj Invest Danske Obligationer                                   0.000004   \n",
       "Nordea Invest Engros Corporate Bonds                             0.000011   \n",
       "Nordea Invest Euro High Yield Bonds KL                           0.000011   \n",
       "Nykredit Invest Engros EuroKredit                                0.000013   \n",
       "Nykredit Invest Bæredygtige Kreditobli                           0.000012   \n",
       "\n",
       "                                        Nykredit Invest Bæredygtige Kreditobli  \n",
       "Maj Invest Danske Obligationer                                        0.000004  \n",
       "Nordea Invest Engros Corporate Bonds                                  0.000010  \n",
       "Nordea Invest Euro High Yield Bonds KL                                0.000010  \n",
       "Nykredit Invest Engros EuroKredit                                     0.000012  \n",
       "Nykredit Invest Bæredygtige Kreditobli                                0.000011  "
      ]
     },
     "execution_count": 71,
     "metadata": {},
     "output_type": "execute_result"
    }
   ],
   "source": [
    "top_5.cov()"
   ]
  },
  {
   "cell_type": "markdown",
   "metadata": {
    "id": "BlBqrnIFH0sK"
   },
   "source": [
    "### Question 14\n",
    "\n",
    "Calculate average return, std for the two strategies and compare."
   ]
  },
  {
   "cell_type": "code",
   "execution_count": 73,
   "metadata": {
    "colab": {
     "base_uri": "https://localhost:8080/"
    },
    "id": "cuIxu3BYM_Rg",
    "outputId": "1f8f0ea2-2478-42d2-bf85-6b4951d0c35f"
   },
   "outputs": [
    {
     "name": "stdout",
     "output_type": "stream",
     "text": [
      "0.08133643450784285\n"
     ]
    }
   ],
   "source": [
    "#Strategy 1\n",
    "for i in range(len(new_df.columns)):\n",
    "\tavr_return= calc_geomean(new_df)\n",
    "\tann_avr_return_s1 = annualize_returns(avr_return, data_freq='weekly')\n",
    "\n",
    "print(np.mean(ann_avr_return_s1))"
   ]
  },
  {
   "cell_type": "code",
   "execution_count": 74,
   "metadata": {
    "colab": {
     "base_uri": "https://localhost:8080/"
    },
    "id": "56qbmLWfNuE-",
    "outputId": "4190272b-8e31-4fac-fcdd-bbc43c19fe08"
   },
   "outputs": [
    {
     "name": "stdout",
     "output_type": "stream",
     "text": [
      "0.11947523519282599\n"
     ]
    }
   ],
   "source": [
    "#Strategy 2\n",
    "for i in range(len(new_df2.columns)):\n",
    "\tavr_return = calc_geomean(new_df2)\n",
    "\tann_avr_return_s2 = annualize_returns(avr_return, data_freq='weekly')\n",
    "\n",
    "print(np.mean(ann_avr_return_s2))"
   ]
  },
  {
   "cell_type": "markdown",
   "metadata": {
    "id": "O7Ts8bNNNyq6"
   },
   "source": [
    "### Question 15\n",
    "\n",
    "Calculate and compare the Sharpe ratio for the two strategies."
   ]
  },
  {
   "cell_type": "code",
   "execution_count": 75,
   "metadata": {
    "colab": {
     "base_uri": "https://localhost:8080/"
    },
    "id": "TEhNFgDQNx9_",
    "outputId": "c9bf40a9-9b1d-49ec-fa44-463ea71724eb"
   },
   "outputs": [
    {
     "data": {
      "text/plain": [
       "0.8079352325625816"
      ]
     },
     "execution_count": 75,
     "metadata": {},
     "output_type": "execute_result"
    }
   ],
   "source": [
    "#Strategy 1\n",
    "for i in range(len(new_df)):\n",
    "\tstddev = new_df.std()\n",
    "\tann_stddev_s1 = (annualize_stddev(stddev, data_freq='weekly'))\n",
    "\n",
    "sharpe_ratio_s1 = ann_avr_return_s1/ann_stddev_s1\n",
    "np.mean(sharpe_ratio_s1)"
   ]
  },
  {
   "cell_type": "code",
   "execution_count": 76,
   "metadata": {
    "colab": {
     "base_uri": "https://localhost:8080/"
    },
    "id": "dT1uViXVOCtP",
    "outputId": "234a3cae-d35a-4ecb-abc1-6652224141c1"
   },
   "outputs": [
    {
     "data": {
      "text/plain": [
       "1.393885321140015"
      ]
     },
     "execution_count": 76,
     "metadata": {},
     "output_type": "execute_result"
    }
   ],
   "source": [
    "#Strategy 2\n",
    "for i in range(len(new_df2)):\n",
    "\tstddev = new_df2.std()\n",
    "\tann_stddev_s2 = (annualize_stddev(stddev, data_freq='weekly'))\n",
    "\n",
    "sharpe_ratio_s2 = ann_avr_return_s2/ann_stddev_s2\n",
    "np.mean(sharpe_ratio_s2)"
   ]
  },
  {
   "cell_type": "markdown",
   "metadata": {},
   "source": [
    "### Question 16\n",
    "\n",
    "Calculate and compare maximum drawdown for the two strategies."
   ]
  },
  {
   "cell_type": "code",
   "execution_count": 77,
   "metadata": {
    "id": "8gTFJGGTOqW2"
   },
   "outputs": [],
   "source": [
    "#Strategy 1\n",
    "av_return_s1 = []\n",
    "for i in range(len(new_df)):\n",
    "  av_return_s1.append(np.mean(new_df.iloc[i, :])+1)\n",
    "  av_return_s1[i] = av_return_s1[i]*1000000"
   ]
  },
  {
   "cell_type": "code",
   "execution_count": 78,
   "metadata": {
    "colab": {
     "base_uri": "https://localhost:8080/",
     "height": 423
    },
    "id": "OjS4DLPeO5MH",
    "outputId": "9dfe4c8c-a6ea-4197-af51-302935579f3d"
   },
   "outputs": [
    {
     "data": {
      "text/html": [
       "<div>\n",
       "<style scoped>\n",
       "    .dataframe tbody tr th:only-of-type {\n",
       "        vertical-align: middle;\n",
       "    }\n",
       "\n",
       "    .dataframe tbody tr th {\n",
       "        vertical-align: top;\n",
       "    }\n",
       "\n",
       "    .dataframe thead th {\n",
       "        text-align: right;\n",
       "    }\n",
       "</style>\n",
       "<table border=\"1\" class=\"dataframe\">\n",
       "  <thead>\n",
       "    <tr style=\"text-align: right;\">\n",
       "      <th></th>\n",
       "      <th>returns</th>\n",
       "    </tr>\n",
       "  </thead>\n",
       "  <tbody>\n",
       "    <tr>\n",
       "      <th>0</th>\n",
       "      <td>1.030390e+06</td>\n",
       "    </tr>\n",
       "    <tr>\n",
       "      <th>1</th>\n",
       "      <td>1.012953e+06</td>\n",
       "    </tr>\n",
       "    <tr>\n",
       "      <th>2</th>\n",
       "      <td>1.012863e+06</td>\n",
       "    </tr>\n",
       "    <tr>\n",
       "      <th>3</th>\n",
       "      <td>1.008671e+06</td>\n",
       "    </tr>\n",
       "    <tr>\n",
       "      <th>4</th>\n",
       "      <td>1.025794e+06</td>\n",
       "    </tr>\n",
       "    <tr>\n",
       "      <th>...</th>\n",
       "      <td>...</td>\n",
       "    </tr>\n",
       "    <tr>\n",
       "      <th>246</th>\n",
       "      <td>9.973600e+05</td>\n",
       "    </tr>\n",
       "    <tr>\n",
       "      <th>247</th>\n",
       "      <td>9.924370e+05</td>\n",
       "    </tr>\n",
       "    <tr>\n",
       "      <th>248</th>\n",
       "      <td>9.903188e+05</td>\n",
       "    </tr>\n",
       "    <tr>\n",
       "      <th>249</th>\n",
       "      <td>1.000661e+06</td>\n",
       "    </tr>\n",
       "    <tr>\n",
       "      <th>250</th>\n",
       "      <td>1.002208e+06</td>\n",
       "    </tr>\n",
       "  </tbody>\n",
       "</table>\n",
       "<p>251 rows × 1 columns</p>\n",
       "</div>"
      ],
      "text/plain": [
       "          returns\n",
       "0    1.030390e+06\n",
       "1    1.012953e+06\n",
       "2    1.012863e+06\n",
       "3    1.008671e+06\n",
       "4    1.025794e+06\n",
       "..            ...\n",
       "246  9.973600e+05\n",
       "247  9.924370e+05\n",
       "248  9.903188e+05\n",
       "249  1.000661e+06\n",
       "250  1.002208e+06\n",
       "\n",
       "[251 rows x 1 columns]"
      ]
     },
     "execution_count": 78,
     "metadata": {},
     "output_type": "execute_result"
    }
   ],
   "source": [
    "s1_diff = pd.DataFrame(av_return_s1, columns = ['returns'])\n",
    "s1_diff"
   ]
  },
  {
   "cell_type": "code",
   "execution_count": 79,
   "metadata": {
    "colab": {
     "base_uri": "https://localhost:8080/",
     "height": 423
    },
    "id": "E6Ygz1H4O5p_",
    "outputId": "1a00560c-04c1-4675-ac17-33dbdf60605e"
   },
   "outputs": [
    {
     "data": {
      "text/html": [
       "<div>\n",
       "<style scoped>\n",
       "    .dataframe tbody tr th:only-of-type {\n",
       "        vertical-align: middle;\n",
       "    }\n",
       "\n",
       "    .dataframe tbody tr th {\n",
       "        vertical-align: top;\n",
       "    }\n",
       "\n",
       "    .dataframe thead th {\n",
       "        text-align: right;\n",
       "    }\n",
       "</style>\n",
       "<table border=\"1\" class=\"dataframe\">\n",
       "  <thead>\n",
       "    <tr style=\"text-align: right;\">\n",
       "      <th></th>\n",
       "      <th>returns</th>\n",
       "      <th>difference</th>\n",
       "    </tr>\n",
       "  </thead>\n",
       "  <tbody>\n",
       "    <tr>\n",
       "      <th>0</th>\n",
       "      <td>1.030390e+06</td>\n",
       "      <td>0.000000</td>\n",
       "    </tr>\n",
       "    <tr>\n",
       "      <th>1</th>\n",
       "      <td>1.012953e+06</td>\n",
       "      <td>-17437.273474</td>\n",
       "    </tr>\n",
       "    <tr>\n",
       "      <th>2</th>\n",
       "      <td>1.012863e+06</td>\n",
       "      <td>-90.200728</td>\n",
       "    </tr>\n",
       "    <tr>\n",
       "      <th>3</th>\n",
       "      <td>1.008671e+06</td>\n",
       "      <td>-4191.634298</td>\n",
       "    </tr>\n",
       "    <tr>\n",
       "      <th>4</th>\n",
       "      <td>1.025794e+06</td>\n",
       "      <td>17122.972285</td>\n",
       "    </tr>\n",
       "    <tr>\n",
       "      <th>...</th>\n",
       "      <td>...</td>\n",
       "      <td>...</td>\n",
       "    </tr>\n",
       "    <tr>\n",
       "      <th>246</th>\n",
       "      <td>9.973600e+05</td>\n",
       "      <td>-9255.903007</td>\n",
       "    </tr>\n",
       "    <tr>\n",
       "      <th>247</th>\n",
       "      <td>9.924370e+05</td>\n",
       "      <td>-4923.064862</td>\n",
       "    </tr>\n",
       "    <tr>\n",
       "      <th>248</th>\n",
       "      <td>9.903188e+05</td>\n",
       "      <td>-2118.175274</td>\n",
       "    </tr>\n",
       "    <tr>\n",
       "      <th>249</th>\n",
       "      <td>1.000661e+06</td>\n",
       "      <td>10342.292733</td>\n",
       "    </tr>\n",
       "    <tr>\n",
       "      <th>250</th>\n",
       "      <td>1.002208e+06</td>\n",
       "      <td>1547.279718</td>\n",
       "    </tr>\n",
       "  </tbody>\n",
       "</table>\n",
       "<p>251 rows × 2 columns</p>\n",
       "</div>"
      ],
      "text/plain": [
       "          returns    difference\n",
       "0    1.030390e+06      0.000000\n",
       "1    1.012953e+06 -17437.273474\n",
       "2    1.012863e+06    -90.200728\n",
       "3    1.008671e+06  -4191.634298\n",
       "4    1.025794e+06  17122.972285\n",
       "..            ...           ...\n",
       "246  9.973600e+05  -9255.903007\n",
       "247  9.924370e+05  -4923.064862\n",
       "248  9.903188e+05  -2118.175274\n",
       "249  1.000661e+06  10342.292733\n",
       "250  1.002208e+06   1547.279718\n",
       "\n",
       "[251 rows x 2 columns]"
      ]
     },
     "execution_count": 79,
     "metadata": {},
     "output_type": "execute_result"
    }
   ],
   "source": [
    "s1_diff['difference'] = 0\n",
    "for i in range(len(s1_diff)):\n",
    "  if i-1 == -1:\n",
    "    s1_diff.iloc[i, 1] = 0\n",
    "  else:\n",
    "    s1_diff.iloc[i, 1] = s1_diff.iloc[i, 0] - s1_diff.iloc[i-1, 0]\n",
    "s1_diff"
   ]
  },
  {
   "cell_type": "code",
   "execution_count": 80,
   "metadata": {
    "colab": {
     "base_uri": "https://localhost:8080/",
     "height": 284
    },
    "id": "p9BrmGzeO8Ho",
    "outputId": "2ea84fa9-3624-4044-9ecb-a7d2b93b8b6e"
   },
   "outputs": [
    {
     "data": {
      "text/plain": [
       "<matplotlib.axes._subplots.AxesSubplot at 0x7f90c6747640>"
      ]
     },
     "execution_count": 80,
     "metadata": {},
     "output_type": "execute_result"
    },
    {
     "data": {
      "image/png": "[encoded data removed]",
      "text/plain": [
       "<Figure size 432x288 with 1 Axes>"
      ]
     },
     "metadata": {
      "needs_background": "light"
     },
     "output_type": "display_data"
    }
   ],
   "source": [
    "s1_diff.difference.plot()"
   ]
  },
  {
   "cell_type": "code",
   "execution_count": 81,
   "metadata": {
    "colab": {
     "base_uri": "https://localhost:8080/"
    },
    "id": "TZ0T7eTaO_E-",
    "outputId": "1d79e667-20fe-4fa8-c845-655a94008a21"
   },
   "outputs": [
    {
     "data": {
      "text/plain": [
       "-53180.74146814761"
      ]
     },
     "execution_count": 81,
     "metadata": {},
     "output_type": "execute_result"
    }
   ],
   "source": [
    "min(s1_diff.difference)"
   ]
  },
  {
   "cell_type": "code",
   "execution_count": 82,
   "metadata": {
    "id": "di5tWQsYPRd2"
   },
   "outputs": [],
   "source": [
    "#Strategy 2\n",
    "av_return_s2 = []\n",
    "for i in range(len(new_df2)):\n",
    "  av_return_s2.append(np.mean(new_df2.iloc[i, :])+1)\n",
    "  av_return_s2[i] = av_return_s2[i]*1000000"
   ]
  },
  {
   "cell_type": "code",
   "execution_count": 83,
   "metadata": {
    "colab": {
     "base_uri": "https://localhost:8080/",
     "height": 423
    },
    "id": "I8Wc3LwNPX89",
    "outputId": "4d8ef1e2-2eaa-4cc4-c366-dc955b738d35"
   },
   "outputs": [
    {
     "data": {
      "text/html": [
       "<div>\n",
       "<style scoped>\n",
       "    .dataframe tbody tr th:only-of-type {\n",
       "        vertical-align: middle;\n",
       "    }\n",
       "\n",
       "    .dataframe tbody tr th {\n",
       "        vertical-align: top;\n",
       "    }\n",
       "\n",
       "    .dataframe thead th {\n",
       "        text-align: right;\n",
       "    }\n",
       "</style>\n",
       "<table border=\"1\" class=\"dataframe\">\n",
       "  <thead>\n",
       "    <tr style=\"text-align: right;\">\n",
       "      <th></th>\n",
       "      <th>returns</th>\n",
       "    </tr>\n",
       "  </thead>\n",
       "  <tbody>\n",
       "    <tr>\n",
       "      <th>0</th>\n",
       "      <td>1.011823e+06</td>\n",
       "    </tr>\n",
       "    <tr>\n",
       "      <th>1</th>\n",
       "      <td>1.010167e+06</td>\n",
       "    </tr>\n",
       "    <tr>\n",
       "      <th>2</th>\n",
       "      <td>9.983883e+05</td>\n",
       "    </tr>\n",
       "    <tr>\n",
       "      <th>3</th>\n",
       "      <td>9.994691e+05</td>\n",
       "    </tr>\n",
       "    <tr>\n",
       "      <th>4</th>\n",
       "      <td>1.006409e+06</td>\n",
       "    </tr>\n",
       "    <tr>\n",
       "      <th>...</th>\n",
       "      <td>...</td>\n",
       "    </tr>\n",
       "    <tr>\n",
       "      <th>195</th>\n",
       "      <td>1.014620e+06</td>\n",
       "    </tr>\n",
       "    <tr>\n",
       "      <th>196</th>\n",
       "      <td>9.957836e+05</td>\n",
       "    </tr>\n",
       "    <tr>\n",
       "      <th>197</th>\n",
       "      <td>1.009678e+06</td>\n",
       "    </tr>\n",
       "    <tr>\n",
       "      <th>198</th>\n",
       "      <td>1.012669e+06</td>\n",
       "    </tr>\n",
       "    <tr>\n",
       "      <th>199</th>\n",
       "      <td>1.006706e+06</td>\n",
       "    </tr>\n",
       "  </tbody>\n",
       "</table>\n",
       "<p>200 rows × 1 columns</p>\n",
       "</div>"
      ],
      "text/plain": [
       "          returns\n",
       "0    1.011823e+06\n",
       "1    1.010167e+06\n",
       "2    9.983883e+05\n",
       "3    9.994691e+05\n",
       "4    1.006409e+06\n",
       "..            ...\n",
       "195  1.014620e+06\n",
       "196  9.957836e+05\n",
       "197  1.009678e+06\n",
       "198  1.012669e+06\n",
       "199  1.006706e+06\n",
       "\n",
       "[200 rows x 1 columns]"
      ]
     },
     "execution_count": 83,
     "metadata": {},
     "output_type": "execute_result"
    }
   ],
   "source": [
    "s2_diff = pd.DataFrame(av_return_s2, columns = ['returns'])\n",
    "s2_diff"
   ]
  },
  {
   "cell_type": "code",
   "execution_count": 84,
   "metadata": {
    "colab": {
     "base_uri": "https://localhost:8080/",
     "height": 423
    },
    "id": "3qF6PFcIPfE5",
    "outputId": "7dd100d9-2f38-4abc-af6a-5d540509b832"
   },
   "outputs": [
    {
     "data": {
      "text/html": [
       "<div>\n",
       "<style scoped>\n",
       "    .dataframe tbody tr th:only-of-type {\n",
       "        vertical-align: middle;\n",
       "    }\n",
       "\n",
       "    .dataframe tbody tr th {\n",
       "        vertical-align: top;\n",
       "    }\n",
       "\n",
       "    .dataframe thead th {\n",
       "        text-align: right;\n",
       "    }\n",
       "</style>\n",
       "<table border=\"1\" class=\"dataframe\">\n",
       "  <thead>\n",
       "    <tr style=\"text-align: right;\">\n",
       "      <th></th>\n",
       "      <th>returns</th>\n",
       "      <th>difference</th>\n",
       "    </tr>\n",
       "  </thead>\n",
       "  <tbody>\n",
       "    <tr>\n",
       "      <th>0</th>\n",
       "      <td>1.011823e+06</td>\n",
       "      <td>0.000000</td>\n",
       "    </tr>\n",
       "    <tr>\n",
       "      <th>1</th>\n",
       "      <td>1.010167e+06</td>\n",
       "      <td>-1656.526425</td>\n",
       "    </tr>\n",
       "    <tr>\n",
       "      <th>2</th>\n",
       "      <td>9.983883e+05</td>\n",
       "      <td>-11778.459476</td>\n",
       "    </tr>\n",
       "    <tr>\n",
       "      <th>3</th>\n",
       "      <td>9.994691e+05</td>\n",
       "      <td>1080.796367</td>\n",
       "    </tr>\n",
       "    <tr>\n",
       "      <th>4</th>\n",
       "      <td>1.006409e+06</td>\n",
       "      <td>6939.750066</td>\n",
       "    </tr>\n",
       "    <tr>\n",
       "      <th>...</th>\n",
       "      <td>...</td>\n",
       "      <td>...</td>\n",
       "    </tr>\n",
       "    <tr>\n",
       "      <th>195</th>\n",
       "      <td>1.014620e+06</td>\n",
       "      <td>23248.323422</td>\n",
       "    </tr>\n",
       "    <tr>\n",
       "      <th>196</th>\n",
       "      <td>9.957836e+05</td>\n",
       "      <td>-18835.966794</td>\n",
       "    </tr>\n",
       "    <tr>\n",
       "      <th>197</th>\n",
       "      <td>1.009678e+06</td>\n",
       "      <td>13894.910646</td>\n",
       "    </tr>\n",
       "    <tr>\n",
       "      <th>198</th>\n",
       "      <td>1.012669e+06</td>\n",
       "      <td>2990.709884</td>\n",
       "    </tr>\n",
       "    <tr>\n",
       "      <th>199</th>\n",
       "      <td>1.006706e+06</td>\n",
       "      <td>-5963.654636</td>\n",
       "    </tr>\n",
       "  </tbody>\n",
       "</table>\n",
       "<p>200 rows × 2 columns</p>\n",
       "</div>"
      ],
      "text/plain": [
       "          returns    difference\n",
       "0    1.011823e+06      0.000000\n",
       "1    1.010167e+06  -1656.526425\n",
       "2    9.983883e+05 -11778.459476\n",
       "3    9.994691e+05   1080.796367\n",
       "4    1.006409e+06   6939.750066\n",
       "..            ...           ...\n",
       "195  1.014620e+06  23248.323422\n",
       "196  9.957836e+05 -18835.966794\n",
       "197  1.009678e+06  13894.910646\n",
       "198  1.012669e+06   2990.709884\n",
       "199  1.006706e+06  -5963.654636\n",
       "\n",
       "[200 rows x 2 columns]"
      ]
     },
     "execution_count": 84,
     "metadata": {},
     "output_type": "execute_result"
    }
   ],
   "source": [
    "s2_diff['difference'] = 0\n",
    "for i in range(len(s2_diff)):\n",
    "  if i-1 == -1:\n",
    "    s2_diff.iloc[i, 1] = 0\n",
    "  else:\n",
    "    s2_diff.iloc[i, 1] = s2_diff.iloc[i, 0] - s2_diff.iloc[i-1, 0]\n",
    "s2_diff"
   ]
  },
  {
   "cell_type": "code",
   "execution_count": 85,
   "metadata": {
    "colab": {
     "base_uri": "https://localhost:8080/",
     "height": 282
    },
    "id": "5HhTxag1Pk8L",
    "outputId": "9a8d7586-d02a-470e-df2a-6597d00e0650"
   },
   "outputs": [
    {
     "data": {
      "text/plain": [
       "<matplotlib.axes._subplots.AxesSubplot at 0x7f90c6496070>"
      ]
     },
     "execution_count": 85,
     "metadata": {},
     "output_type": "execute_result"
    },
    {
     "data": {
      "image/png": "[encoded data removed]",
      "text/plain": [
       "<Figure size 432x288 with 1 Axes>"
      ]
     },
     "metadata": {
      "needs_background": "light"
     },
     "output_type": "display_data"
    }
   ],
   "source": [
    "s2_diff.difference.plot()"
   ]
  },
  {
   "cell_type": "code",
   "execution_count": 86,
   "metadata": {
    "colab": {
     "base_uri": "https://localhost:8080/"
    },
    "id": "83MGJHvHPn4z",
    "outputId": "9029b4dc-1aea-43af-c988-be33827a19dd"
   },
   "outputs": [
    {
     "data": {
      "text/plain": [
       "-47683.314776398125"
      ]
     },
     "execution_count": 86,
     "metadata": {},
     "output_type": "execute_result"
    }
   ],
   "source": [
    "min(s2_diff.difference)"
   ]
  },
  {
   "cell_type": "markdown",
   "metadata": {
    "id": "YpIFdI9pkPPD"
   },
   "source": [
    "# Extra questions\n",
    "\n",
    "The starting point for these questions are the 4-5 assets that you have picked for your\n",
    "portfolios in strategy 2 and 3. So in total you should perform the following statistical analysis\n",
    "for each of these 8-10 assets."
   ]
  },
  {
   "cell_type": "code",
   "execution_count": 87,
   "metadata": {
    "colab": {
     "base_uri": "https://localhost:8080/",
     "height": 223
    },
    "id": "LshtxHtZkTIt",
    "outputId": "f0c707c0-5974-4143-82c0-9aa886f37e06"
   },
   "outputs": [
    {
     "data": {
      "text/html": [
       "<div>\n",
       "<style scoped>\n",
       "    .dataframe tbody tr th:only-of-type {\n",
       "        vertical-align: middle;\n",
       "    }\n",
       "\n",
       "    .dataframe tbody tr th {\n",
       "        vertical-align: top;\n",
       "    }\n",
       "\n",
       "    .dataframe thead th {\n",
       "        text-align: right;\n",
       "    }\n",
       "</style>\n",
       "<table border=\"1\" class=\"dataframe\">\n",
       "  <thead>\n",
       "    <tr style=\"text-align: right;\">\n",
       "      <th></th>\n",
       "      <th>BI Private Equity</th>\n",
       "      <th>BLS Invest Danske Aktier KL</th>\n",
       "      <th>Danske Invest Bioteknologi Indeks KL</th>\n",
       "      <th>HP Invest Danske Obligationer Akk KL W</th>\n",
       "      <th>Maj Invest Kontra W</th>\n",
       "      <th>iShares EM Infrastructure ETF USD Dist</th>\n",
       "    </tr>\n",
       "  </thead>\n",
       "  <tbody>\n",
       "    <tr>\n",
       "      <th>0</th>\n",
       "      <td>-0.000341</td>\n",
       "      <td>0.040005</td>\n",
       "      <td>0.119967</td>\n",
       "      <td>-0.000185</td>\n",
       "      <td>0.008606</td>\n",
       "      <td>0.014290</td>\n",
       "    </tr>\n",
       "    <tr>\n",
       "      <th>1</th>\n",
       "      <td>0.027318</td>\n",
       "      <td>0.025952</td>\n",
       "      <td>0.023630</td>\n",
       "      <td>-0.001019</td>\n",
       "      <td>-0.010395</td>\n",
       "      <td>0.012232</td>\n",
       "    </tr>\n",
       "    <tr>\n",
       "      <th>2</th>\n",
       "      <td>0.062323</td>\n",
       "      <td>0.005700</td>\n",
       "      <td>0.030809</td>\n",
       "      <td>0.001206</td>\n",
       "      <td>-0.010565</td>\n",
       "      <td>-0.012298</td>\n",
       "    </tr>\n",
       "    <tr>\n",
       "      <th>3</th>\n",
       "      <td>-0.020807</td>\n",
       "      <td>0.015756</td>\n",
       "      <td>0.011589</td>\n",
       "      <td>0.000185</td>\n",
       "      <td>0.003498</td>\n",
       "      <td>0.041806</td>\n",
       "    </tr>\n",
       "    <tr>\n",
       "      <th>4</th>\n",
       "      <td>0.038824</td>\n",
       "      <td>0.032036</td>\n",
       "      <td>0.034456</td>\n",
       "      <td>0.000556</td>\n",
       "      <td>-0.006727</td>\n",
       "      <td>0.055619</td>\n",
       "    </tr>\n",
       "  </tbody>\n",
       "</table>\n",
       "</div>"
      ],
      "text/plain": [
       "   BI Private Equity  BLS Invest Danske Aktier KL  \\\n",
       "0          -0.000341                     0.040005   \n",
       "1           0.027318                     0.025952   \n",
       "2           0.062323                     0.005700   \n",
       "3          -0.020807                     0.015756   \n",
       "4           0.038824                     0.032036   \n",
       "\n",
       "   Danske Invest Bioteknologi Indeks KL  \\\n",
       "0                              0.119967   \n",
       "1                              0.023630   \n",
       "2                              0.030809   \n",
       "3                              0.011589   \n",
       "4                              0.034456   \n",
       "\n",
       "   HP Invest Danske Obligationer Akk KL W  Maj Invest Kontra W  \\\n",
       "0                               -0.000185             0.008606   \n",
       "1                               -0.001019            -0.010395   \n",
       "2                                0.001206            -0.010565   \n",
       "3                                0.000185             0.003498   \n",
       "4                                0.000556            -0.006727   \n",
       "\n",
       "   iShares EM Infrastructure ETF USD Dist  \n",
       "0                                0.014290  \n",
       "1                                0.012232  \n",
       "2                               -0.012298  \n",
       "3                                0.041806  \n",
       "4                                0.055619  "
      ]
     },
     "execution_count": 87,
     "metadata": {},
     "output_type": "execute_result"
    }
   ],
   "source": [
    "new_df.head()"
   ]
  },
  {
   "cell_type": "code",
   "execution_count": 88,
   "metadata": {
    "colab": {
     "base_uri": "https://localhost:8080/"
    },
    "id": "cBQOAvKtInxB",
    "outputId": "2a594fbd-e5c8-4bc2-e379-5bc6bfecd84b"
   },
   "outputs": [
    {
     "data": {
      "text/plain": [
       "0     -0.000341\n",
       "1      0.027318\n",
       "2      0.062323\n",
       "3     -0.020807\n",
       "4      0.038824\n",
       "         ...   \n",
       "246   -0.000517\n",
       "247   -0.008021\n",
       "248    0.024257\n",
       "249   -0.000255\n",
       "250   -0.000764\n",
       "Name: BI Private Equity, Length: 251, dtype: float64"
      ]
     },
     "execution_count": 88,
     "metadata": {},
     "output_type": "execute_result"
    }
   ],
   "source": [
    "new_df3=new_df.iloc[:,0]\n",
    "new_df3"
   ]
  },
  {
   "cell_type": "code",
   "execution_count": 89,
   "metadata": {
    "colab": {
     "base_uri": "https://localhost:8080/",
     "height": 206
    },
    "id": "IP9NOhuDkWnZ",
    "outputId": "fd9b9f61-5582-4ad8-e88c-114d0f44ab0f"
   },
   "outputs": [
    {
     "data": {
      "text/html": [
       "<div>\n",
       "<style scoped>\n",
       "    .dataframe tbody tr th:only-of-type {\n",
       "        vertical-align: middle;\n",
       "    }\n",
       "\n",
       "    .dataframe tbody tr th {\n",
       "        vertical-align: top;\n",
       "    }\n",
       "\n",
       "    .dataframe thead th {\n",
       "        text-align: right;\n",
       "    }\n",
       "</style>\n",
       "<table border=\"1\" class=\"dataframe\">\n",
       "  <thead>\n",
       "    <tr style=\"text-align: right;\">\n",
       "      <th></th>\n",
       "      <th>Danske Invest Danm In x OMXC20 DKK Wd</th>\n",
       "      <th>SEBinvest AKL US HY Bonds (Columbia) P</th>\n",
       "      <th>Sparinvest INDEX Glb Akt Min Risiko KL</th>\n",
       "      <th>Formuepleje Fokus</th>\n",
       "    </tr>\n",
       "  </thead>\n",
       "  <tbody>\n",
       "    <tr>\n",
       "      <th>0</th>\n",
       "      <td>0.026842</td>\n",
       "      <td>0.007369</td>\n",
       "      <td>0.014634</td>\n",
       "      <td>-0.001552</td>\n",
       "    </tr>\n",
       "    <tr>\n",
       "      <th>1</th>\n",
       "      <td>0.052388</td>\n",
       "      <td>0.001111</td>\n",
       "      <td>-0.005839</td>\n",
       "      <td>-0.006993</td>\n",
       "    </tr>\n",
       "    <tr>\n",
       "      <th>2</th>\n",
       "      <td>-0.007053</td>\n",
       "      <td>0.004347</td>\n",
       "      <td>-0.006088</td>\n",
       "      <td>0.002347</td>\n",
       "    </tr>\n",
       "    <tr>\n",
       "      <th>3</th>\n",
       "      <td>-0.004941</td>\n",
       "      <td>0.008933</td>\n",
       "      <td>-0.010018</td>\n",
       "      <td>0.003903</td>\n",
       "    </tr>\n",
       "    <tr>\n",
       "      <th>4</th>\n",
       "      <td>0.017587</td>\n",
       "      <td>0.007119</td>\n",
       "      <td>0.000928</td>\n",
       "      <td>0.000000</td>\n",
       "    </tr>\n",
       "  </tbody>\n",
       "</table>\n",
       "</div>"
      ],
      "text/plain": [
       "   Danske Invest Danm In x OMXC20 DKK Wd  \\\n",
       "0                               0.026842   \n",
       "1                               0.052388   \n",
       "2                              -0.007053   \n",
       "3                              -0.004941   \n",
       "4                               0.017587   \n",
       "\n",
       "   SEBinvest AKL US HY Bonds (Columbia) P  \\\n",
       "0                                0.007369   \n",
       "1                                0.001111   \n",
       "2                                0.004347   \n",
       "3                                0.008933   \n",
       "4                                0.007119   \n",
       "\n",
       "   Sparinvest INDEX Glb Akt Min Risiko KL  Formuepleje Fokus  \n",
       "0                                0.014634          -0.001552  \n",
       "1                               -0.005839          -0.006993  \n",
       "2                               -0.006088           0.002347  \n",
       "3                               -0.010018           0.003903  \n",
       "4                                0.000928           0.000000  "
      ]
     },
     "execution_count": 89,
     "metadata": {},
     "output_type": "execute_result"
    }
   ],
   "source": [
    "new_df2.head()"
   ]
  },
  {
   "cell_type": "markdown",
   "metadata": {
    "id": "Y9meQ3OfFOrm"
   },
   "source": [
    "### Question 17\n",
    "\n",
    "Draw histograms of returns for each of the assets."
   ]
  },
  {
   "cell_type": "code",
   "execution_count": 90,
   "metadata": {
    "colab": {
     "base_uri": "https://localhost:8080/",
     "height": 402
    },
    "id": "FGB3f07RkX3Q",
    "outputId": "b7cd323c-5ba9-4719-d29f-df25188a23df"
   },
   "outputs": [
    {
     "data": {
      "text/plain": [
       "array([[<matplotlib.axes._subplots.AxesSubplot object at 0x7f90c79a2e50>,\n",
       "        <matplotlib.axes._subplots.AxesSubplot object at 0x7f90c67c21c0>],\n",
       "       [<matplotlib.axes._subplots.AxesSubplot object at 0x7f90c7054640>,\n",
       "        <matplotlib.axes._subplots.AxesSubplot object at 0x7f90c7055a90>],\n",
       "       [<matplotlib.axes._subplots.AxesSubplot object at 0x7f90c74b8ee0>,\n",
       "        <matplotlib.axes._subplots.AxesSubplot object at 0x7f90c68093d0>]],\n",
       "      dtype=object)"
      ]
     },
     "execution_count": 90,
     "metadata": {},
     "output_type": "execute_result"
    },
    {
     "data": {
      "image/png": "[encoded data removed]",
      "text/plain": [
       "<Figure size 432x288 with 6 Axes>"
      ]
     },
     "metadata": {
      "needs_background": "light"
     },
     "output_type": "display_data"
    }
   ],
   "source": [
    "top5_mst.hist()"
   ]
  },
  {
   "cell_type": "code",
   "execution_count": 91,
   "metadata": {
    "colab": {
     "base_uri": "https://localhost:8080/",
     "height": 368
    },
    "id": "KLD5jZ-ZFL8d",
    "outputId": "f7c19e0d-e70e-49a5-9f41-7d35bee5edfc"
   },
   "outputs": [
    {
     "data": {
      "text/plain": [
       "array([[<matplotlib.axes._subplots.AxesSubplot object at 0x7f90c622b730>,\n",
       "        <matplotlib.axes._subplots.AxesSubplot object at 0x7f90c6a8c340>],\n",
       "       [<matplotlib.axes._subplots.AxesSubplot object at 0x7f90c724c7c0>,\n",
       "        <matplotlib.axes._subplots.AxesSubplot object at 0x7f90c7220c10>]],\n",
       "      dtype=object)"
      ]
     },
     "execution_count": 91,
     "metadata": {},
     "output_type": "execute_result"
    },
    {
     "data": {
      "image/png": "[encoded data removed]",
      "text/plain": [
       "<Figure size 432x288 with 4 Axes>"
      ]
     },
     "metadata": {
      "needs_background": "light"
     },
     "output_type": "display_data"
    }
   ],
   "source": [
    "new_df2.hist()"
   ]
  },
  {
   "cell_type": "markdown",
   "metadata": {
    "id": "eW2BMsfrGIsh"
   },
   "source": [
    "### Question 18\n",
    "\n",
    "Draw density function of returns for each of the assets."
   ]
  },
  {
   "cell_type": "code",
   "execution_count": 92,
   "metadata": {
    "colab": {
     "base_uri": "https://localhost:8080/",
     "height": 338
    },
    "id": "_QyKOM3lFmr2",
    "outputId": "958f37b7-2225-4030-d63e-65ebb811280c"
   },
   "outputs": [
    {
     "name": "stderr",
     "output_type": "stream",
     "text": [
      "/Users/akitsalkitzidis/opt/anaconda3/lib/python3.8/site-packages/seaborn/distributions.py:2619: FutureWarning: `distplot` is a deprecated function and will be removed in a future version. Please adapt your code to use either `displot` (a figure-level function with similar flexibility) or `histplot` (an axes-level function for histograms).\n",
      "  warnings.warn(msg, FutureWarning)\n"
     ]
    },
    {
     "data": {
      "text/plain": [
       "<matplotlib.axes._subplots.AxesSubplot at 0x7f90c6059160>"
      ]
     },
     "execution_count": 92,
     "metadata": {},
     "output_type": "execute_result"
    },
    {
     "data": {
      "image/png": "[encoded data removed]",
      "text/plain": [
       "<Figure size 432x288 with 1 Axes>"
      ]
     },
     "metadata": {
      "needs_background": "light"
     },
     "output_type": "display_data"
    }
   ],
   "source": [
    "import seaborn as sns\n",
    "# Density Plot and Histogram of all arrival delays\n",
    "plt.figure()\n",
    "sns.distplot(top5_mst, hist=True, kde=True, \n",
    "             bins=int(180/5), color = 'darkblue', \n",
    "             hist_kws={'edgecolor':'black'},\n",
    "             kde_kws={'linewidth': 4})"
   ]
  },
  {
   "cell_type": "code",
   "execution_count": 93,
   "metadata": {
    "colab": {
     "base_uri": "https://localhost:8080/",
     "height": 337
    },
    "id": "dkb6orM9GOo3",
    "outputId": "be5702f0-e5f2-4f98-d83d-b036617bd7f5"
   },
   "outputs": [
    {
     "name": "stderr",
     "output_type": "stream",
     "text": [
      "/Users/akitsalkitzidis/opt/anaconda3/lib/python3.8/site-packages/seaborn/distributions.py:2619: FutureWarning: `distplot` is a deprecated function and will be removed in a future version. Please adapt your code to use either `displot` (a figure-level function with similar flexibility) or `histplot` (an axes-level function for histograms).\n",
      "  warnings.warn(msg, FutureWarning)\n"
     ]
    },
    {
     "data": {
      "text/plain": [
       "<matplotlib.axes._subplots.AxesSubplot at 0x7f90c6119f70>"
      ]
     },
     "execution_count": 93,
     "metadata": {},
     "output_type": "execute_result"
    },
    {
     "data": {
      "image/png": "[encoded data removed]",
      "text/plain": [
       "<Figure size 432x288 with 1 Axes>"
      ]
     },
     "metadata": {
      "needs_background": "light"
     },
     "output_type": "display_data"
    }
   ],
   "source": [
    "import seaborn as sns\n",
    "# Density Plot and Histogram of all arrival delays\n",
    "plt.figure()\n",
    "sns.distplot(new_df2, hist=True, kde=True, \n",
    "             bins=int(180/5), color = 'darkblue', \n",
    "             hist_kws={'edgecolor':'black'},\n",
    "             kde_kws={'linewidth': 4})"
   ]
  },
  {
   "cell_type": "markdown",
   "metadata": {
    "id": "auRwkwGFHpQu"
   },
   "source": [
    "### Question 19\n",
    "\n",
    "Draw QQ-Plots of returns for each of the assets."
   ]
  },
  {
   "cell_type": "code",
   "execution_count": 94,
   "metadata": {
    "colab": {
     "base_uri": "https://localhost:8080/",
     "height": 143
    },
    "id": "Y_qZ44TETAsQ",
    "outputId": "ed305328-3515-4649-fbb3-cb3344be82bb"
   },
   "outputs": [
    {
     "data": {
      "text/html": [
       "<div>\n",
       "<style scoped>\n",
       "    .dataframe tbody tr th:only-of-type {\n",
       "        vertical-align: middle;\n",
       "    }\n",
       "\n",
       "    .dataframe tbody tr th {\n",
       "        vertical-align: top;\n",
       "    }\n",
       "\n",
       "    .dataframe thead th {\n",
       "        text-align: right;\n",
       "    }\n",
       "</style>\n",
       "<table border=\"1\" class=\"dataframe\">\n",
       "  <thead>\n",
       "    <tr style=\"text-align: right;\">\n",
       "      <th></th>\n",
       "      <th>Danske Invest Danm In x OMXC20 DKK Wd</th>\n",
       "      <th>SEBinvest AKL US HY Bonds (Columbia) P</th>\n",
       "      <th>Sparinvest INDEX Glb Akt Min Risiko KL</th>\n",
       "      <th>Formuepleje Fokus</th>\n",
       "    </tr>\n",
       "  </thead>\n",
       "  <tbody>\n",
       "    <tr>\n",
       "      <th>0</th>\n",
       "      <td>0.026842</td>\n",
       "      <td>0.007369</td>\n",
       "      <td>0.014634</td>\n",
       "      <td>-0.001552</td>\n",
       "    </tr>\n",
       "    <tr>\n",
       "      <th>1</th>\n",
       "      <td>0.052388</td>\n",
       "      <td>0.001111</td>\n",
       "      <td>-0.005839</td>\n",
       "      <td>-0.006993</td>\n",
       "    </tr>\n",
       "    <tr>\n",
       "      <th>2</th>\n",
       "      <td>-0.007053</td>\n",
       "      <td>0.004347</td>\n",
       "      <td>-0.006088</td>\n",
       "      <td>0.002347</td>\n",
       "    </tr>\n",
       "  </tbody>\n",
       "</table>\n",
       "</div>"
      ],
      "text/plain": [
       "   Danske Invest Danm In x OMXC20 DKK Wd  \\\n",
       "0                               0.026842   \n",
       "1                               0.052388   \n",
       "2                              -0.007053   \n",
       "\n",
       "   SEBinvest AKL US HY Bonds (Columbia) P  \\\n",
       "0                                0.007369   \n",
       "1                                0.001111   \n",
       "2                                0.004347   \n",
       "\n",
       "   Sparinvest INDEX Glb Akt Min Risiko KL  Formuepleje Fokus  \n",
       "0                                0.014634          -0.001552  \n",
       "1                               -0.005839          -0.006993  \n",
       "2                               -0.006088           0.002347  "
      ]
     },
     "execution_count": 94,
     "metadata": {},
     "output_type": "execute_result"
    }
   ],
   "source": [
    "new_df2[:3]"
   ]
  },
  {
   "cell_type": "code",
   "execution_count": 95,
   "metadata": {
    "colab": {
     "base_uri": "https://localhost:8080/",
     "height": 441
    },
    "id": "cqzXoqzfZE-8",
    "outputId": "16dcd8a5-c037-4b62-9882-d58224bdc2c6"
   },
   "outputs": [
    {
     "data": {
      "text/html": [
       "<div>\n",
       "<style scoped>\n",
       "    .dataframe tbody tr th:only-of-type {\n",
       "        vertical-align: middle;\n",
       "    }\n",
       "\n",
       "    .dataframe tbody tr th {\n",
       "        vertical-align: top;\n",
       "    }\n",
       "\n",
       "    .dataframe thead th {\n",
       "        text-align: right;\n",
       "    }\n",
       "</style>\n",
       "<table border=\"1\" class=\"dataframe\">\n",
       "  <thead>\n",
       "    <tr style=\"text-align: right;\">\n",
       "      <th></th>\n",
       "      <th>Danske Invest Danm In ex OMXC20 DKK d</th>\n",
       "      <th>Danske Invest Danm In x OMXC20 DKK Wd</th>\n",
       "      <th>Danske Inv Flexin Danske Obl KL</th>\n",
       "      <th>Lån &amp; Spar Invest - Obligationer</th>\n",
       "      <th>Nordea Invest Lange Obligationer KL</th>\n",
       "    </tr>\n",
       "  </thead>\n",
       "  <tbody>\n",
       "    <tr>\n",
       "      <th>0</th>\n",
       "      <td>0.026842</td>\n",
       "      <td>0.026842</td>\n",
       "      <td>-0.000395</td>\n",
       "      <td>-0.000111</td>\n",
       "      <td>0.002655</td>\n",
       "    </tr>\n",
       "    <tr>\n",
       "      <th>1</th>\n",
       "      <td>0.052388</td>\n",
       "      <td>0.052388</td>\n",
       "      <td>0.000395</td>\n",
       "      <td>0.000555</td>\n",
       "      <td>0.001040</td>\n",
       "    </tr>\n",
       "    <tr>\n",
       "      <th>2</th>\n",
       "      <td>-0.007053</td>\n",
       "      <td>-0.007053</td>\n",
       "      <td>-0.005921</td>\n",
       "      <td>-0.005765</td>\n",
       "      <td>-0.011619</td>\n",
       "    </tr>\n",
       "    <tr>\n",
       "      <th>3</th>\n",
       "      <td>-0.004941</td>\n",
       "      <td>-0.004941</td>\n",
       "      <td>0.004268</td>\n",
       "      <td>0.003680</td>\n",
       "      <td>0.011660</td>\n",
       "    </tr>\n",
       "    <tr>\n",
       "      <th>4</th>\n",
       "      <td>0.017587</td>\n",
       "      <td>0.017587</td>\n",
       "      <td>-0.001581</td>\n",
       "      <td>-0.002555</td>\n",
       "      <td>-0.005668</td>\n",
       "    </tr>\n",
       "    <tr>\n",
       "      <th>...</th>\n",
       "      <td>...</td>\n",
       "      <td>...</td>\n",
       "      <td>...</td>\n",
       "      <td>...</td>\n",
       "      <td>...</td>\n",
       "    </tr>\n",
       "    <tr>\n",
       "      <th>246</th>\n",
       "      <td>-0.004175</td>\n",
       "      <td>-0.004175</td>\n",
       "      <td>0.003406</td>\n",
       "      <td>0.001461</td>\n",
       "      <td>0.007413</td>\n",
       "    </tr>\n",
       "    <tr>\n",
       "      <th>247</th>\n",
       "      <td>0.008385</td>\n",
       "      <td>0.008385</td>\n",
       "      <td>-0.001261</td>\n",
       "      <td>-0.000561</td>\n",
       "      <td>-0.004396</td>\n",
       "    </tr>\n",
       "    <tr>\n",
       "      <th>248</th>\n",
       "      <td>-0.015954</td>\n",
       "      <td>-0.015954</td>\n",
       "      <td>-0.002913</td>\n",
       "      <td>-0.003706</td>\n",
       "      <td>-0.005663</td>\n",
       "    </tr>\n",
       "    <tr>\n",
       "      <th>249</th>\n",
       "      <td>0.010219</td>\n",
       "      <td>0.010219</td>\n",
       "      <td>-0.000195</td>\n",
       "      <td>0.000789</td>\n",
       "      <td>0.001448</td>\n",
       "    </tr>\n",
       "    <tr>\n",
       "      <th>250</th>\n",
       "      <td>0.003307</td>\n",
       "      <td>0.003307</td>\n",
       "      <td>-0.000584</td>\n",
       "      <td>-0.000338</td>\n",
       "      <td>-0.001060</td>\n",
       "    </tr>\n",
       "  </tbody>\n",
       "</table>\n",
       "<p>251 rows × 5 columns</p>\n",
       "</div>"
      ],
      "text/plain": [
       "     Danske Invest Danm In ex OMXC20 DKK d  \\\n",
       "0                                 0.026842   \n",
       "1                                 0.052388   \n",
       "2                                -0.007053   \n",
       "3                                -0.004941   \n",
       "4                                 0.017587   \n",
       "..                                     ...   \n",
       "246                              -0.004175   \n",
       "247                               0.008385   \n",
       "248                              -0.015954   \n",
       "249                               0.010219   \n",
       "250                               0.003307   \n",
       "\n",
       "     Danske Invest Danm In x OMXC20 DKK Wd  Danske Inv Flexin Danske Obl KL  \\\n",
       "0                                 0.026842                        -0.000395   \n",
       "1                                 0.052388                         0.000395   \n",
       "2                                -0.007053                        -0.005921   \n",
       "3                                -0.004941                         0.004268   \n",
       "4                                 0.017587                        -0.001581   \n",
       "..                                     ...                              ...   \n",
       "246                              -0.004175                         0.003406   \n",
       "247                               0.008385                        -0.001261   \n",
       "248                              -0.015954                        -0.002913   \n",
       "249                               0.010219                        -0.000195   \n",
       "250                               0.003307                        -0.000584   \n",
       "\n",
       "     Lån & Spar Invest - Obligationer  Nordea Invest Lange Obligationer KL  \n",
       "0                           -0.000111                             0.002655  \n",
       "1                            0.000555                             0.001040  \n",
       "2                           -0.005765                            -0.011619  \n",
       "3                            0.003680                             0.011660  \n",
       "4                           -0.002555                            -0.005668  \n",
       "..                                ...                                  ...  \n",
       "246                          0.001461                             0.007413  \n",
       "247                         -0.000561                            -0.004396  \n",
       "248                         -0.003706                            -0.005663  \n",
       "249                          0.000789                             0.001448  \n",
       "250                         -0.000338                            -0.001060  \n",
       "\n",
       "[251 rows x 5 columns]"
      ]
     },
     "execution_count": 95,
     "metadata": {},
     "output_type": "execute_result"
    }
   ],
   "source": [
    "top5_mst"
   ]
  },
  {
   "cell_type": "code",
   "execution_count": 96,
   "metadata": {
    "colab": {
     "base_uri": "https://localhost:8080/",
     "height": 295
    },
    "id": "_WCrRxQWHeFp",
    "outputId": "dbc1e34b-51c7-4d5d-f51c-028fdd951469"
   },
   "outputs": [
    {
     "data": {
      "image/png": "[encoded data removed]",
      "text/plain": [
       "<Figure size 432x288 with 1 Axes>"
      ]
     },
     "metadata": {
      "needs_background": "light"
     },
     "output_type": "display_data"
    }
   ],
   "source": [
    "import statsmodels.api as sm\n",
    "from scipy import stats\n",
    "import pylab as py\n",
    "    \n",
    "stats.probplot(top5_mst.iloc[:,1], dist='norm', plot=plt)\n",
    "plt.show()"
   ]
  },
  {
   "cell_type": "code",
   "execution_count": 97,
   "metadata": {
    "colab": {
     "base_uri": "https://localhost:8080/",
     "height": 295
    },
    "id": "7IH5My3CHu_D",
    "outputId": "6342de3e-fc64-496d-e43d-e310d4fbb616"
   },
   "outputs": [
    {
     "data": {
      "image/png": "[encoded data removed]",
      "text/plain": [
       "<Figure size 432x288 with 1 Axes>"
      ]
     },
     "metadata": {
      "needs_background": "light"
     },
     "output_type": "display_data"
    }
   ],
   "source": [
    "import statsmodels.api as sm\n",
    "from scipy import stats\n",
    "import pylab as py\n",
    "    \n",
    "stats.probplot(new_df2.iloc[:,1], dist='norm', plot=plt)\n",
    "plt.show()"
   ]
  },
  {
   "cell_type": "markdown",
   "metadata": {
    "id": "-0q3W9U6H7-v"
   },
   "source": [
    "### Question 20\n",
    "\n",
    "Perform a Jarque-Bera test for normality of return distributions for each of the assets."
   ]
  },
  {
   "cell_type": "code",
   "execution_count": 98,
   "metadata": {
    "colab": {
     "base_uri": "https://localhost:8080/"
    },
    "id": "paNNxbTKHxM8",
    "outputId": "d82e2e87-b121-474e-a8c5-7d208433ba05"
   },
   "outputs": [
    {
     "data": {
      "text/plain": [
       "Jarque_beraResult(statistic=2506.0091415533384, pvalue=0.0)"
      ]
     },
     "execution_count": 98,
     "metadata": {},
     "output_type": "execute_result"
    }
   ],
   "source": [
    "from scipy import stats\n",
    "jarque_bera_test = stats.jarque_bera(top5_mst)\n",
    "jarque_bera_test\n"
   ]
  },
  {
   "cell_type": "code",
   "execution_count": 99,
   "metadata": {
    "colab": {
     "base_uri": "https://localhost:8080/"
    },
    "id": "xqRBrq6eJGqU",
    "outputId": "a8a94c9b-2c67-44ac-9d8d-8ce926c74c99"
   },
   "outputs": [
    {
     "data": {
      "text/plain": [
       "Jarque_beraResult(statistic=1263.7513562021118, pvalue=0.0)"
      ]
     },
     "execution_count": 99,
     "metadata": {},
     "output_type": "execute_result"
    }
   ],
   "source": [
    "from scipy import stats\n",
    "jarque_bera_test = stats.jarque_bera(new_df2)\n",
    "jarque_bera_test"
   ]
  },
  {
   "cell_type": "markdown",
   "metadata": {
    "id": "ay5FET9JJ6Ha"
   },
   "source": [
    "### Question 21\n",
    "\n",
    "Measure and report skewness of returns for each of the assets."
   ]
  },
  {
   "cell_type": "code",
   "execution_count": 100,
   "metadata": {
    "colab": {
     "base_uri": "https://localhost:8080/"
    },
    "id": "YZtzjD9lIrx-",
    "outputId": "7e324b21-973b-48d0-ea3a-3187cfdc9ca5"
   },
   "outputs": [
    {
     "data": {
      "text/plain": [
       "array([-0.15956917, -0.15956917, -0.91406965, -1.2699568 , -0.69053794])"
      ]
     },
     "execution_count": 100,
     "metadata": {},
     "output_type": "execute_result"
    }
   ],
   "source": [
    "from scipy.stats import skew\n",
    "skew(top5_mst)"
   ]
  },
  {
   "cell_type": "code",
   "execution_count": 101,
   "metadata": {
    "colab": {
     "base_uri": "https://localhost:8080/"
    },
    "id": "N_dot20KJj6w",
    "outputId": "4604972b-ec2b-4f62-ee1f-3b98218c696d"
   },
   "outputs": [
    {
     "data": {
      "text/plain": [
       "array([-0.01614862, -0.80357807, -0.69986709, -0.96623576])"
      ]
     },
     "execution_count": 101,
     "metadata": {},
     "output_type": "execute_result"
    }
   ],
   "source": [
    "from scipy.stats import skew\n",
    "skew(new_df2)"
   ]
  },
  {
   "cell_type": "markdown",
   "metadata": {
    "id": "pFBsIrw_J8tb"
   },
   "source": [
    "### Question 22\n",
    "\n",
    "Measure and report kurtosis of returns for each of the assets."
   ]
  },
  {
   "cell_type": "code",
   "execution_count": 102,
   "metadata": {
    "colab": {
     "base_uri": "https://localhost:8080/"
    },
    "id": "aS4eBIc5Jm6y",
    "outputId": "97040398-9c5f-42ce-87df-6915686be7c3"
   },
   "outputs": [
    {
     "data": {
      "text/plain": [
       "array([1.53321054, 1.53321054, 2.0586742 , 3.77011467, 1.52818915])"
      ]
     },
     "execution_count": 102,
     "metadata": {},
     "output_type": "execute_result"
    }
   ],
   "source": [
    "from scipy.stats import kurtosis\n",
    "kurtosis(top5_mst)\n"
   ]
  },
  {
   "cell_type": "code",
   "execution_count": 103,
   "metadata": {
    "colab": {
     "base_uri": "https://localhost:8080/"
    },
    "id": "SwoMqbqCKGzB",
    "outputId": "812ad162-5944-42b7-f73a-3af1c55b4aa6"
   },
   "outputs": [
    {
     "data": {
      "text/plain": [
       "array([0.99685774, 3.5485713 , 5.0845976 , 2.42749059])"
      ]
     },
     "execution_count": 103,
     "metadata": {},
     "output_type": "execute_result"
    }
   ],
   "source": [
    "from scipy.stats import kurtosis\n",
    "kurtosis(new_df2)"
   ]
  },
  {
   "cell_type": "markdown",
   "metadata": {
    "id": "wRHL9GZcKWWU"
   },
   "source": [
    "### Question 23\n",
    "\n",
    "For each of the assets, decide and report whether you can accept the return as being normally distributed."
   ]
  },
  {
   "cell_type": "markdown",
   "metadata": {
    "id": "9Fe_Qr1gQ6w4"
   },
   "source": [
    "By looking at the Jarque-Bera test, skewness and kurtosis, they are not normally distributed, since the Jarque-Bera test has to be rejected for the given confidence interval - the test statistic is very high and far from zero."
   ]
  },
  {
   "cell_type": "code",
   "execution_count": null,
   "metadata": {
    "id": "dsPDP7u2KMPZ"
   },
   "outputs": [],
   "source": []
  }
 ],
 "metadata": {
  "colab": {
   "collapsed_sections": [],
   "name": "Project 3.ipynb",
   "provenance": []
  },
  "kernelspec": {
   "display_name": "Python 3",
   "language": "python",
   "name": "python3"
  },
  "language_info": {
   "codemirror_mode": {
    "name": "ipython",
    "version": 3
   },
   "file_extension": ".py",
   "mimetype": "text/x-python",
   "name": "python",
   "nbconvert_exporter": "python",
   "pygments_lexer": "ipython3",
   "version": "3.8.3"
  }
 },
 "nbformat": 4,
 "nbformat_minor": 1
}
